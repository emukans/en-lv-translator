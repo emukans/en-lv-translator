{
  "nbformat": 4,
  "nbformat_minor": 0,
  "metadata": {
    "colab": {
      "name": "LV-EN Transformer_translate on GPU.ipynb",
      "provenance": [],
      "collapsed_sections": [],
      "toc_visible": true,
      "include_colab_link": true
    },
    "kernelspec": {
      "name": "python3",
      "display_name": "Python 3"
    },
    "accelerator": "GPU"
  },
  "cells": [
    {
      "cell_type": "markdown",
      "metadata": {
        "id": "view-in-github",
        "colab_type": "text"
      },
      "source": [
        "<a href=\"https://colab.research.google.com/github/emukans/en-lv-translator/blob/master/LV_EN_Transformer_translate_on_GPU.ipynb\" target=\"_parent\"><img src=\"https://colab.research.google.com/assets/colab-badge.svg\" alt=\"Open In Colab\"/></a>"
      ]
    },
    {
      "cell_type": "markdown",
      "metadata": {
        "id": "e7PMze9tKHX9",
        "colab_type": "text"
      },
      "source": [
        "# EN-LV Translator"
      ]
    },
    {
      "cell_type": "code",
      "metadata": {
        "id": "AYUy570fKRcw",
        "colab_type": "code",
        "colab": {}
      },
      "source": [
        "# Install deps\n",
        "!pip install -q -U tensor2tensor"
      ],
      "execution_count": 0,
      "outputs": []
    },
    {
      "cell_type": "markdown",
      "metadata": {
        "id": "hEhFfyVNbB_D",
        "colab_type": "text"
      },
      "source": [
        "#1. Initialization\n"
      ]
    },
    {
      "cell_type": "markdown",
      "metadata": {
        "id": "i23pCAVwegx3",
        "colab_type": "text"
      },
      "source": [
        "##1.1. Make some directories"
      ]
    },
    {
      "cell_type": "code",
      "metadata": {
        "id": "VFniV5BT6OuR",
        "colab_type": "code",
        "outputId": "7e6aaca2-7f8a-437b-ce95-4942a0ba8f86",
        "colab": {
          "base_uri": "https://localhost:8080/",
          "height": 34
        }
      },
      "source": [
        "from google.colab import drive\n",
        "drive.mount('/content/drive')"
      ],
      "execution_count": 0,
      "outputs": [
        {
          "output_type": "stream",
          "text": [
            "Drive already mounted at /content/drive; to attempt to forcibly remount, call drive.mount(\"/content/drive\", force_remount=True).\n"
          ],
          "name": "stdout"
        }
      ]
    },
    {
      "cell_type": "code",
      "metadata": {
        "id": "oUf4e18_8E31",
        "colab_type": "code",
        "outputId": "a8ca2463-1346-47eb-bf01-7696f17f22cb",
        "colab": {
          "base_uri": "https://localhost:8080/",
          "height": 63
        }
      },
      "source": [
        "import tensorflow as tf\n",
        "import os\n",
        "\n",
        "DRIVE_DIR = '/content/drive/My Drive'\n",
        "DATA_DIR = DRIVE_DIR + \"/t2t/data\" # This folder contain the data\n",
        "TMP_DIR = DRIVE_DIR + \"/t2t/tmp\"\n",
        "TRAIN_DIR = DRIVE_DIR + \"/t2t/train\" # This folder contain the model\n",
        "EXPORT_DIR = DRIVE_DIR + \"/t2t/export\" # This folder contain the exported model for production\n",
        "TRANSLATIONS_DIR = DRIVE_DIR + \"/t2t/translation\" # This folder contain  all translated sequence\n",
        "EVENT_DIR = DRIVE_DIR + \"/t2t/event\" # Test the BLEU score\n",
        "USR_DIR = DRIVE_DIR + \"/t2t/user\" # This folder contains our data that we want to add\n",
        "\n",
        "tf.gfile.MakeDirs(DATA_DIR)\n",
        "tf.gfile.MakeDirs(TMP_DIR)\n",
        "tf.gfile.MakeDirs(TRAIN_DIR)\n",
        "tf.gfile.MakeDirs(EXPORT_DIR)\n",
        "tf.gfile.MakeDirs(TRANSLATIONS_DIR)\n",
        "tf.gfile.MakeDirs(EVENT_DIR)\n",
        "tf.gfile.MakeDirs(USR_DIR)"
      ],
      "execution_count": 0,
      "outputs": [
        {
          "output_type": "display_data",
          "data": {
            "text/html": [
              "<p style=\"color: red;\">\n",
              "The default version of TensorFlow in Colab will soon switch to TensorFlow 2.x.<br>\n",
              "We recommend you <a href=\"https://www.tensorflow.org/guide/migrate\" target=\"_blank\">upgrade</a> now \n",
              "or ensure your notebook will continue to use TensorFlow 1.x via the <code>%tensorflow_version 1.x</code> magic:\n",
              "<a href=\"https://colab.research.google.com/notebooks/tensorflow_version.ipynb\" target=\"_blank\">more info</a>.</p>\n"
            ],
            "text/plain": [
              "<IPython.core.display.HTML object>"
            ]
          },
          "metadata": {
            "tags": []
          }
        }
      ]
    },
    {
      "cell_type": "markdown",
      "metadata": {
        "id": "ua8roLA6yFpI",
        "colab_type": "text"
      },
      "source": [
        "## 1.2. Prepare a problem"
      ]
    },
    {
      "cell_type": "code",
      "metadata": {
        "id": "1pZYyEcIyr1E",
        "colab_type": "code",
        "colab": {}
      },
      "source": [
        "# !gcloud auth application-default login"
      ],
      "execution_count": 0,
      "outputs": []
    },
    {
      "cell_type": "code",
      "metadata": {
        "id": "RC3V53FOyBga",
        "colab_type": "code",
        "colab": {}
      },
      "source": [
        "from tensor2tensor.data_generators import problem\n",
        "from tensor2tensor.data_generators import text_encoder\n",
        "from tensor2tensor.data_generators import text_problems\n",
        "from tensor2tensor.data_generators import translate\n",
        "from tensor2tensor.data_generators import wiki_lm\n",
        "from tensor2tensor.utils import registry\n",
        "\n",
        "FLAGS = tf.flags.FLAGS\n",
        "\n",
        "# End-of-sentence marker.\n",
        "EOS = text_encoder.EOS_ID\n",
        "\n",
        "\n",
        "@registry.register_problem\n",
        "class TranslateEnLv(translate.TranslateProblem):\n",
        "  \"\"\"Problem spec for En-Lv translation.\"\"\"\n",
        "\n",
        "  @property\n",
        "  def approx_vocab_size(self):\n",
        "    return 2**14\n",
        "\n",
        "  @property\n",
        "  def vocab_type(self):\n",
        "    return text_problems.VocabType.SUBWORD\n",
        "\n",
        "  @property\n",
        "  def is_generate_per_split(self):\n",
        "    return False\n",
        "\n",
        "  @property\n",
        "  def dataset_splits(self):\n",
        "    # Since we are responsible for generating the dataset splits, we override\n",
        "    # `Text2TextProblem.dataset_splits` to specify that we intend to keep\n",
        "    # 90% data for training and 5% for evaluation and testing each.\n",
        "    return [{\n",
        "        \"split\": problem.DatasetSplit.TRAIN,\n",
        "        \"shards\": 90,\n",
        "    }, {\n",
        "        \"split\": problem.DatasetSplit.EVAL,\n",
        "        \"shards\": 5,\n",
        "    }, {\n",
        "        \"split\": problem.DatasetSplit.TEST,\n",
        "        \"shards\": 5,\n",
        "    }]\n",
        "\n",
        "  def source_data_files(self, dataset_split):\n",
        "    return [\n",
        "      (\n",
        "        'gs://translator-lv-en/annotations.tgz',\n",
        "        ('annotations/annotations.en', 'annotations/annotations.lv')\n",
        "      ),\n",
        "      (\n",
        "        'gs://translator-lv-en/europarl.tgz',\n",
        "        ('europarl/europarl-v8.lv-en.en', 'europarl/europarl-v8.lv-en.lv')\n",
        "      ),\n",
        "      (\n",
        "        'gs://translator-lv-en/rapid2016.tgz',\n",
        "        ('rapid2016/rapid2016.en-lv.en', 'rapid2016/rapid2016.en-lv.lv')\n",
        "      ),\n",
        "      (\n",
        "        'gs://translator-lv-en/farewell.tgz',\n",
        "        ('farewell/farewell.en', 'farewell/farewell.lv')\n",
        "      ),\n",
        "      (\n",
        "        'gs://translator-lv-en/dcep.tgz',\n",
        "        ('dcep/dcep.en', 'dcep/dcep.lv')\n",
        "      )\n",
        "    ]\n",
        "    \n",
        "\n",
        "  def generate_samples(self, data_dir, tmp_dir, dataset_split):\n",
        "    datasets = self.source_data_files(dataset_split)\n",
        "\n",
        "    tag = \"train\" if dataset_split == problem.DatasetSplit.TRAIN else \"dev\"\n",
        "    data_path = translate.compile_data(tmp_dir, datasets, f'{self.name}-compiled-{tag}')\n",
        "    \n",
        "    for example in text_problems.text2text_txt_iterator(data_path + \".lang1\", data_path + \".lang2\"):\n",
        "      yield example"
      ],
      "execution_count": 0,
      "outputs": []
    },
    {
      "cell_type": "markdown",
      "metadata": {
        "id": "HIuzsMzgbLv9",
        "colab_type": "text"
      },
      "source": [
        "## 1.3. Init parameters\n",
        "\n",
        "\n",
        "\n"
      ]
    },
    {
      "cell_type": "code",
      "metadata": {
        "id": "ZQaURmfKBGus",
        "colab_type": "code",
        "colab": {}
      },
      "source": [
        "PROBLEM = \"translate_en_lv\"\n",
        "MODEL = \"transformer\"\n",
        "HPARAMS = \"transformer_base\""
      ],
      "execution_count": 0,
      "outputs": []
    },
    {
      "cell_type": "markdown",
      "metadata": {
        "id": "78kBAIMQbeO6",
        "colab_type": "text"
      },
      "source": [
        "# 2. Data generation \n",
        "\n",
        "Generate the data (download the dataset and generate the data)."
      ]
    },
    {
      "cell_type": "code",
      "metadata": {
        "id": "Of5bHYVJmbwH",
        "colab_type": "code",
        "outputId": "43648e2c-f5a6-46c8-9262-3235805ad552",
        "colab": {
          "base_uri": "https://localhost:8080/",
          "height": 139
        }
      },
      "source": [
        "from tensor2tensor.utils import registry\n",
        "from tensor2tensor import problems\n",
        "\n",
        "t2t_problem = problems.problem(PROBLEM)\n",
        "t2t_problem.generate_data(DATA_DIR, TMP_DIR)"
      ],
      "execution_count": 0,
      "outputs": [
        {
          "output_type": "stream",
          "text": [
            "INFO:tensorflow:Found vocab file: /content/drive/My Drive/t2t/data/vocab.translate_en_lv.16384.subwords\n"
          ],
          "name": "stdout"
        },
        {
          "output_type": "stream",
          "text": [
            "INFO:tensorflow:Found vocab file: /content/drive/My Drive/t2t/data/vocab.translate_en_lv.16384.subwords\n"
          ],
          "name": "stderr"
        },
        {
          "output_type": "stream",
          "text": [
            "INFO:tensorflow:Skipping generator because outputs files exists at ['/content/drive/My Drive/t2t/data/translate_en_lv-unshuffled-train-00000-of-00090', '/content/drive/My Drive/t2t/data/translate_en_lv-unshuffled-train-00001-of-00090', '/content/drive/My Drive/t2t/data/translate_en_lv-unshuffled-train-00002-of-00090', '/content/drive/My Drive/t2t/data/translate_en_lv-unshuffled-train-00003-of-00090', '/content/drive/My Drive/t2t/data/translate_en_lv-unshuffled-train-00004-of-00090', '/content/drive/My Drive/t2t/data/translate_en_lv-unshuffled-train-00005-of-00090', '/content/drive/My Drive/t2t/data/translate_en_lv-unshuffled-train-00006-of-00090', '/content/drive/My Drive/t2t/data/translate_en_lv-unshuffled-train-00007-of-00090', '/content/drive/My Drive/t2t/data/translate_en_lv-unshuffled-train-00008-of-00090', '/content/drive/My Drive/t2t/data/translate_en_lv-unshuffled-train-00009-of-00090', '/content/drive/My Drive/t2t/data/translate_en_lv-unshuffled-train-00010-of-00090', '/content/drive/My Drive/t2t/data/translate_en_lv-unshuffled-train-00011-of-00090', '/content/drive/My Drive/t2t/data/translate_en_lv-unshuffled-train-00012-of-00090', '/content/drive/My Drive/t2t/data/translate_en_lv-unshuffled-train-00013-of-00090', '/content/drive/My Drive/t2t/data/translate_en_lv-unshuffled-train-00014-of-00090', '/content/drive/My Drive/t2t/data/translate_en_lv-unshuffled-train-00015-of-00090', '/content/drive/My Drive/t2t/data/translate_en_lv-unshuffled-train-00016-of-00090', '/content/drive/My Drive/t2t/data/translate_en_lv-unshuffled-train-00017-of-00090', '/content/drive/My Drive/t2t/data/translate_en_lv-unshuffled-train-00018-of-00090', '/content/drive/My Drive/t2t/data/translate_en_lv-unshuffled-train-00019-of-00090', '/content/drive/My Drive/t2t/data/translate_en_lv-unshuffled-train-00020-of-00090', '/content/drive/My Drive/t2t/data/translate_en_lv-unshuffled-train-00021-of-00090', '/content/drive/My Drive/t2t/data/translate_en_lv-unshuffled-train-00022-of-00090', '/content/drive/My Drive/t2t/data/translate_en_lv-unshuffled-train-00023-of-00090', '/content/drive/My Drive/t2t/data/translate_en_lv-unshuffled-train-00024-of-00090', '/content/drive/My Drive/t2t/data/translate_en_lv-unshuffled-train-00025-of-00090', '/content/drive/My Drive/t2t/data/translate_en_lv-unshuffled-train-00026-of-00090', '/content/drive/My Drive/t2t/data/translate_en_lv-unshuffled-train-00027-of-00090', '/content/drive/My Drive/t2t/data/translate_en_lv-unshuffled-train-00028-of-00090', '/content/drive/My Drive/t2t/data/translate_en_lv-unshuffled-train-00029-of-00090', '/content/drive/My Drive/t2t/data/translate_en_lv-unshuffled-train-00030-of-00090', '/content/drive/My Drive/t2t/data/translate_en_lv-unshuffled-train-00031-of-00090', '/content/drive/My Drive/t2t/data/translate_en_lv-unshuffled-train-00032-of-00090', '/content/drive/My Drive/t2t/data/translate_en_lv-unshuffled-train-00033-of-00090', '/content/drive/My Drive/t2t/data/translate_en_lv-unshuffled-train-00034-of-00090', '/content/drive/My Drive/t2t/data/translate_en_lv-unshuffled-train-00035-of-00090', '/content/drive/My Drive/t2t/data/translate_en_lv-unshuffled-train-00036-of-00090', '/content/drive/My Drive/t2t/data/translate_en_lv-unshuffled-train-00037-of-00090', '/content/drive/My Drive/t2t/data/translate_en_lv-unshuffled-train-00038-of-00090', '/content/drive/My Drive/t2t/data/translate_en_lv-unshuffled-train-00039-of-00090', '/content/drive/My Drive/t2t/data/translate_en_lv-unshuffled-train-00040-of-00090', '/content/drive/My Drive/t2t/data/translate_en_lv-unshuffled-train-00041-of-00090', '/content/drive/My Drive/t2t/data/translate_en_lv-unshuffled-train-00042-of-00090', '/content/drive/My Drive/t2t/data/translate_en_lv-unshuffled-train-00043-of-00090', '/content/drive/My Drive/t2t/data/translate_en_lv-unshuffled-train-00044-of-00090', '/content/drive/My Drive/t2t/data/translate_en_lv-unshuffled-train-00045-of-00090', '/content/drive/My Drive/t2t/data/translate_en_lv-unshuffled-train-00046-of-00090', '/content/drive/My Drive/t2t/data/translate_en_lv-unshuffled-train-00047-of-00090', '/content/drive/My Drive/t2t/data/translate_en_lv-unshuffled-train-00048-of-00090', '/content/drive/My Drive/t2t/data/translate_en_lv-unshuffled-train-00049-of-00090', '/content/drive/My Drive/t2t/data/translate_en_lv-unshuffled-train-00050-of-00090', '/content/drive/My Drive/t2t/data/translate_en_lv-unshuffled-train-00051-of-00090', '/content/drive/My Drive/t2t/data/translate_en_lv-unshuffled-train-00052-of-00090', '/content/drive/My Drive/t2t/data/translate_en_lv-unshuffled-train-00053-of-00090', '/content/drive/My Drive/t2t/data/translate_en_lv-unshuffled-train-00054-of-00090', '/content/drive/My Drive/t2t/data/translate_en_lv-unshuffled-train-00055-of-00090', '/content/drive/My Drive/t2t/data/translate_en_lv-unshuffled-train-00056-of-00090', '/content/drive/My Drive/t2t/data/translate_en_lv-unshuffled-train-00057-of-00090', '/content/drive/My Drive/t2t/data/translate_en_lv-unshuffled-train-00058-of-00090', '/content/drive/My Drive/t2t/data/translate_en_lv-unshuffled-train-00059-of-00090', '/content/drive/My Drive/t2t/data/translate_en_lv-unshuffled-train-00060-of-00090', '/content/drive/My Drive/t2t/data/translate_en_lv-unshuffled-train-00061-of-00090', '/content/drive/My Drive/t2t/data/translate_en_lv-unshuffled-train-00062-of-00090', '/content/drive/My Drive/t2t/data/translate_en_lv-unshuffled-train-00063-of-00090', '/content/drive/My Drive/t2t/data/translate_en_lv-unshuffled-train-00064-of-00090', '/content/drive/My Drive/t2t/data/translate_en_lv-unshuffled-train-00065-of-00090', '/content/drive/My Drive/t2t/data/translate_en_lv-unshuffled-train-00066-of-00090', '/content/drive/My Drive/t2t/data/translate_en_lv-unshuffled-train-00067-of-00090', '/content/drive/My Drive/t2t/data/translate_en_lv-unshuffled-train-00068-of-00090', '/content/drive/My Drive/t2t/data/translate_en_lv-unshuffled-train-00069-of-00090', '/content/drive/My Drive/t2t/data/translate_en_lv-unshuffled-train-00070-of-00090', '/content/drive/My Drive/t2t/data/translate_en_lv-unshuffled-train-00071-of-00090', '/content/drive/My Drive/t2t/data/translate_en_lv-unshuffled-train-00072-of-00090', '/content/drive/My Drive/t2t/data/translate_en_lv-unshuffled-train-00073-of-00090', '/content/drive/My Drive/t2t/data/translate_en_lv-unshuffled-train-00074-of-00090', '/content/drive/My Drive/t2t/data/translate_en_lv-unshuffled-train-00075-of-00090', '/content/drive/My Drive/t2t/data/translate_en_lv-unshuffled-train-00076-of-00090', '/content/drive/My Drive/t2t/data/translate_en_lv-unshuffled-train-00077-of-00090', '/content/drive/My Drive/t2t/data/translate_en_lv-unshuffled-train-00078-of-00090', '/content/drive/My Drive/t2t/data/translate_en_lv-unshuffled-train-00079-of-00090', '/content/drive/My Drive/t2t/data/translate_en_lv-unshuffled-train-00080-of-00090', '/content/drive/My Drive/t2t/data/translate_en_lv-unshuffled-train-00081-of-00090', '/content/drive/My Drive/t2t/data/translate_en_lv-unshuffled-train-00082-of-00090', '/content/drive/My Drive/t2t/data/translate_en_lv-unshuffled-train-00083-of-00090', '/content/drive/My Drive/t2t/data/translate_en_lv-unshuffled-train-00084-of-00090', '/content/drive/My Drive/t2t/data/translate_en_lv-unshuffled-train-00085-of-00090', '/content/drive/My Drive/t2t/data/translate_en_lv-unshuffled-train-00086-of-00090', '/content/drive/My Drive/t2t/data/translate_en_lv-unshuffled-train-00087-of-00090', '/content/drive/My Drive/t2t/data/translate_en_lv-unshuffled-train-00088-of-00090', '/content/drive/My Drive/t2t/data/translate_en_lv-unshuffled-train-00089-of-00090', '/content/drive/My Drive/t2t/data/translate_en_lv-unshuffled-dev-00000-of-00005', '/content/drive/My Drive/t2t/data/translate_en_lv-unshuffled-dev-00001-of-00005', '/content/drive/My Drive/t2t/data/translate_en_lv-unshuffled-dev-00002-of-00005', '/content/drive/My Drive/t2t/data/translate_en_lv-unshuffled-dev-00003-of-00005', '/content/drive/My Drive/t2t/data/translate_en_lv-unshuffled-dev-00004-of-00005', '/content/drive/My Drive/t2t/data/translate_en_lv-unshuffled-test-00000-of-00005', '/content/drive/My Drive/t2t/data/translate_en_lv-unshuffled-test-00001-of-00005', '/content/drive/My Drive/t2t/data/translate_en_lv-unshuffled-test-00002-of-00005', '/content/drive/My Drive/t2t/data/translate_en_lv-unshuffled-test-00003-of-00005', '/content/drive/My Drive/t2t/data/translate_en_lv-unshuffled-test-00004-of-00005']\n"
          ],
          "name": "stdout"
        },
        {
          "output_type": "stream",
          "text": [
            "INFO:tensorflow:Skipping generator because outputs files exists at ['/content/drive/My Drive/t2t/data/translate_en_lv-unshuffled-train-00000-of-00090', '/content/drive/My Drive/t2t/data/translate_en_lv-unshuffled-train-00001-of-00090', '/content/drive/My Drive/t2t/data/translate_en_lv-unshuffled-train-00002-of-00090', '/content/drive/My Drive/t2t/data/translate_en_lv-unshuffled-train-00003-of-00090', '/content/drive/My Drive/t2t/data/translate_en_lv-unshuffled-train-00004-of-00090', '/content/drive/My Drive/t2t/data/translate_en_lv-unshuffled-train-00005-of-00090', '/content/drive/My Drive/t2t/data/translate_en_lv-unshuffled-train-00006-of-00090', '/content/drive/My Drive/t2t/data/translate_en_lv-unshuffled-train-00007-of-00090', '/content/drive/My Drive/t2t/data/translate_en_lv-unshuffled-train-00008-of-00090', '/content/drive/My Drive/t2t/data/translate_en_lv-unshuffled-train-00009-of-00090', '/content/drive/My Drive/t2t/data/translate_en_lv-unshuffled-train-00010-of-00090', '/content/drive/My Drive/t2t/data/translate_en_lv-unshuffled-train-00011-of-00090', '/content/drive/My Drive/t2t/data/translate_en_lv-unshuffled-train-00012-of-00090', '/content/drive/My Drive/t2t/data/translate_en_lv-unshuffled-train-00013-of-00090', '/content/drive/My Drive/t2t/data/translate_en_lv-unshuffled-train-00014-of-00090', '/content/drive/My Drive/t2t/data/translate_en_lv-unshuffled-train-00015-of-00090', '/content/drive/My Drive/t2t/data/translate_en_lv-unshuffled-train-00016-of-00090', '/content/drive/My Drive/t2t/data/translate_en_lv-unshuffled-train-00017-of-00090', '/content/drive/My Drive/t2t/data/translate_en_lv-unshuffled-train-00018-of-00090', '/content/drive/My Drive/t2t/data/translate_en_lv-unshuffled-train-00019-of-00090', '/content/drive/My Drive/t2t/data/translate_en_lv-unshuffled-train-00020-of-00090', '/content/drive/My Drive/t2t/data/translate_en_lv-unshuffled-train-00021-of-00090', '/content/drive/My Drive/t2t/data/translate_en_lv-unshuffled-train-00022-of-00090', '/content/drive/My Drive/t2t/data/translate_en_lv-unshuffled-train-00023-of-00090', '/content/drive/My Drive/t2t/data/translate_en_lv-unshuffled-train-00024-of-00090', '/content/drive/My Drive/t2t/data/translate_en_lv-unshuffled-train-00025-of-00090', '/content/drive/My Drive/t2t/data/translate_en_lv-unshuffled-train-00026-of-00090', '/content/drive/My Drive/t2t/data/translate_en_lv-unshuffled-train-00027-of-00090', '/content/drive/My Drive/t2t/data/translate_en_lv-unshuffled-train-00028-of-00090', '/content/drive/My Drive/t2t/data/translate_en_lv-unshuffled-train-00029-of-00090', '/content/drive/My Drive/t2t/data/translate_en_lv-unshuffled-train-00030-of-00090', '/content/drive/My Drive/t2t/data/translate_en_lv-unshuffled-train-00031-of-00090', '/content/drive/My Drive/t2t/data/translate_en_lv-unshuffled-train-00032-of-00090', '/content/drive/My Drive/t2t/data/translate_en_lv-unshuffled-train-00033-of-00090', '/content/drive/My Drive/t2t/data/translate_en_lv-unshuffled-train-00034-of-00090', '/content/drive/My Drive/t2t/data/translate_en_lv-unshuffled-train-00035-of-00090', '/content/drive/My Drive/t2t/data/translate_en_lv-unshuffled-train-00036-of-00090', '/content/drive/My Drive/t2t/data/translate_en_lv-unshuffled-train-00037-of-00090', '/content/drive/My Drive/t2t/data/translate_en_lv-unshuffled-train-00038-of-00090', '/content/drive/My Drive/t2t/data/translate_en_lv-unshuffled-train-00039-of-00090', '/content/drive/My Drive/t2t/data/translate_en_lv-unshuffled-train-00040-of-00090', '/content/drive/My Drive/t2t/data/translate_en_lv-unshuffled-train-00041-of-00090', '/content/drive/My Drive/t2t/data/translate_en_lv-unshuffled-train-00042-of-00090', '/content/drive/My Drive/t2t/data/translate_en_lv-unshuffled-train-00043-of-00090', '/content/drive/My Drive/t2t/data/translate_en_lv-unshuffled-train-00044-of-00090', '/content/drive/My Drive/t2t/data/translate_en_lv-unshuffled-train-00045-of-00090', '/content/drive/My Drive/t2t/data/translate_en_lv-unshuffled-train-00046-of-00090', '/content/drive/My Drive/t2t/data/translate_en_lv-unshuffled-train-00047-of-00090', '/content/drive/My Drive/t2t/data/translate_en_lv-unshuffled-train-00048-of-00090', '/content/drive/My Drive/t2t/data/translate_en_lv-unshuffled-train-00049-of-00090', '/content/drive/My Drive/t2t/data/translate_en_lv-unshuffled-train-00050-of-00090', '/content/drive/My Drive/t2t/data/translate_en_lv-unshuffled-train-00051-of-00090', '/content/drive/My Drive/t2t/data/translate_en_lv-unshuffled-train-00052-of-00090', '/content/drive/My Drive/t2t/data/translate_en_lv-unshuffled-train-00053-of-00090', '/content/drive/My Drive/t2t/data/translate_en_lv-unshuffled-train-00054-of-00090', '/content/drive/My Drive/t2t/data/translate_en_lv-unshuffled-train-00055-of-00090', '/content/drive/My Drive/t2t/data/translate_en_lv-unshuffled-train-00056-of-00090', '/content/drive/My Drive/t2t/data/translate_en_lv-unshuffled-train-00057-of-00090', '/content/drive/My Drive/t2t/data/translate_en_lv-unshuffled-train-00058-of-00090', '/content/drive/My Drive/t2t/data/translate_en_lv-unshuffled-train-00059-of-00090', '/content/drive/My Drive/t2t/data/translate_en_lv-unshuffled-train-00060-of-00090', '/content/drive/My Drive/t2t/data/translate_en_lv-unshuffled-train-00061-of-00090', '/content/drive/My Drive/t2t/data/translate_en_lv-unshuffled-train-00062-of-00090', '/content/drive/My Drive/t2t/data/translate_en_lv-unshuffled-train-00063-of-00090', '/content/drive/My Drive/t2t/data/translate_en_lv-unshuffled-train-00064-of-00090', '/content/drive/My Drive/t2t/data/translate_en_lv-unshuffled-train-00065-of-00090', '/content/drive/My Drive/t2t/data/translate_en_lv-unshuffled-train-00066-of-00090', '/content/drive/My Drive/t2t/data/translate_en_lv-unshuffled-train-00067-of-00090', '/content/drive/My Drive/t2t/data/translate_en_lv-unshuffled-train-00068-of-00090', '/content/drive/My Drive/t2t/data/translate_en_lv-unshuffled-train-00069-of-00090', '/content/drive/My Drive/t2t/data/translate_en_lv-unshuffled-train-00070-of-00090', '/content/drive/My Drive/t2t/data/translate_en_lv-unshuffled-train-00071-of-00090', '/content/drive/My Drive/t2t/data/translate_en_lv-unshuffled-train-00072-of-00090', '/content/drive/My Drive/t2t/data/translate_en_lv-unshuffled-train-00073-of-00090', '/content/drive/My Drive/t2t/data/translate_en_lv-unshuffled-train-00074-of-00090', '/content/drive/My Drive/t2t/data/translate_en_lv-unshuffled-train-00075-of-00090', '/content/drive/My Drive/t2t/data/translate_en_lv-unshuffled-train-00076-of-00090', '/content/drive/My Drive/t2t/data/translate_en_lv-unshuffled-train-00077-of-00090', '/content/drive/My Drive/t2t/data/translate_en_lv-unshuffled-train-00078-of-00090', '/content/drive/My Drive/t2t/data/translate_en_lv-unshuffled-train-00079-of-00090', '/content/drive/My Drive/t2t/data/translate_en_lv-unshuffled-train-00080-of-00090', '/content/drive/My Drive/t2t/data/translate_en_lv-unshuffled-train-00081-of-00090', '/content/drive/My Drive/t2t/data/translate_en_lv-unshuffled-train-00082-of-00090', '/content/drive/My Drive/t2t/data/translate_en_lv-unshuffled-train-00083-of-00090', '/content/drive/My Drive/t2t/data/translate_en_lv-unshuffled-train-00084-of-00090', '/content/drive/My Drive/t2t/data/translate_en_lv-unshuffled-train-00085-of-00090', '/content/drive/My Drive/t2t/data/translate_en_lv-unshuffled-train-00086-of-00090', '/content/drive/My Drive/t2t/data/translate_en_lv-unshuffled-train-00087-of-00090', '/content/drive/My Drive/t2t/data/translate_en_lv-unshuffled-train-00088-of-00090', '/content/drive/My Drive/t2t/data/translate_en_lv-unshuffled-train-00089-of-00090', '/content/drive/My Drive/t2t/data/translate_en_lv-unshuffled-dev-00000-of-00005', '/content/drive/My Drive/t2t/data/translate_en_lv-unshuffled-dev-00001-of-00005', '/content/drive/My Drive/t2t/data/translate_en_lv-unshuffled-dev-00002-of-00005', '/content/drive/My Drive/t2t/data/translate_en_lv-unshuffled-dev-00003-of-00005', '/content/drive/My Drive/t2t/data/translate_en_lv-unshuffled-dev-00004-of-00005', '/content/drive/My Drive/t2t/data/translate_en_lv-unshuffled-test-00000-of-00005', '/content/drive/My Drive/t2t/data/translate_en_lv-unshuffled-test-00001-of-00005', '/content/drive/My Drive/t2t/data/translate_en_lv-unshuffled-test-00002-of-00005', '/content/drive/My Drive/t2t/data/translate_en_lv-unshuffled-test-00003-of-00005', '/content/drive/My Drive/t2t/data/translate_en_lv-unshuffled-test-00004-of-00005']\n"
          ],
          "name": "stderr"
        },
        {
          "output_type": "stream",
          "text": [
            "INFO:tensorflow:Skipping shuffle because output files exist\n"
          ],
          "name": "stdout"
        },
        {
          "output_type": "stream",
          "text": [
            "INFO:tensorflow:Skipping shuffle because output files exist\n"
          ],
          "name": "stderr"
        }
      ]
    },
    {
      "cell_type": "markdown",
      "metadata": {
        "id": "UkSwoqBzb47T",
        "colab_type": "text"
      },
      "source": [
        "# 3. Train the model\n",
        "\n",
        "\n",
        "\n"
      ]
    },
    {
      "cell_type": "markdown",
      "metadata": {
        "id": "1JVF2PJn7ByQ",
        "colab_type": "text"
      },
      "source": [
        "##3.1. Init parameters\n",
        "---\n",
        "\n",
        " batch_size :  a great value of preference.\n",
        "\n",
        "---\n",
        "train_steps : research paper mentioned 300k steps with 8 gpu on big transformer. So if you have 1 gpu, you will need to train the model x8 more. (https://arxiv.org/abs/1706.03762 for more information).\n",
        "\n"
      ]
    },
    {
      "cell_type": "code",
      "metadata": {
        "id": "yw6HgVWA7AQF",
        "colab_type": "code",
        "colab": {}
      },
      "source": [
        "train_steps = 150000\n",
        "eval_steps = 100\n",
        "batch_size = 2048\n",
        "save_checkpoints_steps = 2000\n",
        "ALPHA = 0.1\n",
        "schedule = \"continuous_train_and_eval\""
      ],
      "execution_count": 0,
      "outputs": []
    },
    {
      "cell_type": "markdown",
      "metadata": {
        "id": "ze_YvVnIfD8z",
        "colab_type": "text"
      },
      "source": [
        "You can choose schedule :\n",
        " \n",
        "\n",
        "*  train. Bad quality\n",
        "*  continuous_train_and_eval (default)\n",
        "*   train_and_eval\n",
        "\n"
      ]
    },
    {
      "cell_type": "markdown",
      "metadata": {
        "id": "nnSoC1AUcLG6",
        "colab_type": "text"
      },
      "source": [
        "##3.2. Train the model"
      ]
    },
    {
      "cell_type": "code",
      "metadata": {
        "id": "RJ91vQ2hyIPx",
        "colab_type": "code",
        "outputId": "2837394e-6af4-41d4-c0d3-a91df08abe54",
        "colab": {
          "base_uri": "https://localhost:8080/",
          "height": 309
        }
      },
      "source": [
        "from tensor2tensor.utils.trainer_lib import create_run_config, create_experiment\n",
        "from tensor2tensor.utils.trainer_lib import create_hparams\n",
        "from tensor2tensor.utils import registry\n",
        "from tensor2tensor import models\n",
        "from tensor2tensor import problems\n",
        "\n",
        "# Init Hparams object from T2T Problem\n",
        "hparams = create_hparams(HPARAMS)\n",
        "\n",
        "# Make Changes to Hparams\n",
        "hparams.batch_size = batch_size\n",
        "hparams.learning_rate = ALPHA"
      ],
      "execution_count": 0,
      "outputs": [
        {
          "output_type": "stream",
          "text": [
            "WARNING:tensorflow:From /usr/local/lib/python3.6/dist-packages/tensor2tensor/utils/optimize.py:187: The name tf.train.Optimizer is deprecated. Please use tf.compat.v1.train.Optimizer instead.\n",
            "\n"
          ],
          "name": "stdout"
        },
        {
          "output_type": "stream",
          "text": [
            "WARNING:tensorflow:From /usr/local/lib/python3.6/dist-packages/tensor2tensor/utils/optimize.py:187: The name tf.train.Optimizer is deprecated. Please use tf.compat.v1.train.Optimizer instead.\n",
            "\n"
          ],
          "name": "stderr"
        },
        {
          "output_type": "stream",
          "text": [
            "WARNING:tensorflow:From /usr/local/lib/python3.6/dist-packages/tensor2tensor/utils/trainer_lib.py:111: The name tf.OptimizerOptions is deprecated. Please use tf.compat.v1.OptimizerOptions instead.\n",
            "\n"
          ],
          "name": "stdout"
        },
        {
          "output_type": "stream",
          "text": [
            "WARNING:tensorflow:From /usr/local/lib/python3.6/dist-packages/tensor2tensor/utils/trainer_lib.py:111: The name tf.OptimizerOptions is deprecated. Please use tf.compat.v1.OptimizerOptions instead.\n",
            "\n"
          ],
          "name": "stderr"
        },
        {
          "output_type": "stream",
          "text": [
            "WARNING:tensorflow:From /usr/local/lib/python3.6/dist-packages/tensor2tensor/models/research/neural_stack.py:52: The name tf.nn.rnn_cell.RNNCell is deprecated. Please use tf.compat.v1.nn.rnn_cell.RNNCell instead.\n",
            "\n"
          ],
          "name": "stdout"
        },
        {
          "output_type": "stream",
          "text": [
            "WARNING:tensorflow:From /usr/local/lib/python3.6/dist-packages/tensor2tensor/models/research/neural_stack.py:52: The name tf.nn.rnn_cell.RNNCell is deprecated. Please use tf.compat.v1.nn.rnn_cell.RNNCell instead.\n",
            "\n"
          ],
          "name": "stderr"
        },
        {
          "output_type": "stream",
          "text": [
            "WARNING:tensorflow:From /usr/local/lib/python3.6/dist-packages/tensorflow_gan/python/estimator/tpu_gan_estimator.py:42: The name tf.estimator.tpu.TPUEstimator is deprecated. Please use tf.compat.v1.estimator.tpu.TPUEstimator instead.\n",
            "\n"
          ],
          "name": "stdout"
        },
        {
          "output_type": "stream",
          "text": [
            "WARNING:tensorflow:From /usr/local/lib/python3.6/dist-packages/tensorflow_gan/python/estimator/tpu_gan_estimator.py:42: The name tf.estimator.tpu.TPUEstimator is deprecated. Please use tf.compat.v1.estimator.tpu.TPUEstimator instead.\n",
            "\n"
          ],
          "name": "stderr"
        }
      ]
    },
    {
      "cell_type": "code",
      "metadata": {
        "id": "yByKcs7XvAXL",
        "colab_type": "code",
        "outputId": "d3f012d8-1da1-4813-c4b8-b513f5b31553",
        "colab": {
          "base_uri": "https://localhost:8080/",
          "height": 1000
        }
      },
      "source": [
        "RUN_CONFIG = create_run_config(\n",
        "      model_dir=TRAIN_DIR,\n",
        "      model_name=MODEL,\n",
        "      save_checkpoints_steps= save_checkpoints_steps\n",
        ")\n",
        "\n",
        "tensorflow_exp_fn = create_experiment(\n",
        "        run_config=RUN_CONFIG,\n",
        "        hparams=hparams,\n",
        "        model_name=MODEL,\n",
        "        problem_name=PROBLEM,\n",
        "        data_dir=DATA_DIR, \n",
        "        train_steps=train_steps, \n",
        "        eval_steps=eval_steps, \n",
        "        use_xla=True # For acceleration\n",
        "    ) \n",
        "\n",
        "tensorflow_exp_fn.train_and_evaluate()"
      ],
      "execution_count": 0,
      "outputs": [
        {
          "output_type": "stream",
          "text": [
            "WARNING:tensorflow:From /usr/local/lib/python3.6/dist-packages/tensor2tensor/utils/trainer_lib.py:123: The name tf.GraphOptions is deprecated. Please use tf.compat.v1.GraphOptions instead.\n",
            "\n"
          ],
          "name": "stdout"
        },
        {
          "output_type": "stream",
          "text": [
            "WARNING:tensorflow:From /usr/local/lib/python3.6/dist-packages/tensor2tensor/utils/trainer_lib.py:123: The name tf.GraphOptions is deprecated. Please use tf.compat.v1.GraphOptions instead.\n",
            "\n"
          ],
          "name": "stderr"
        },
        {
          "output_type": "stream",
          "text": [
            "WARNING:tensorflow:From /usr/local/lib/python3.6/dist-packages/tensor2tensor/utils/trainer_lib.py:129: The name tf.GPUOptions is deprecated. Please use tf.compat.v1.GPUOptions instead.\n",
            "\n"
          ],
          "name": "stdout"
        },
        {
          "output_type": "stream",
          "text": [
            "WARNING:tensorflow:From /usr/local/lib/python3.6/dist-packages/tensor2tensor/utils/trainer_lib.py:129: The name tf.GPUOptions is deprecated. Please use tf.compat.v1.GPUOptions instead.\n",
            "\n"
          ],
          "name": "stderr"
        },
        {
          "output_type": "stream",
          "text": [
            "WARNING:tensorflow:From /usr/local/lib/python3.6/dist-packages/tensor2tensor/utils/trainer_lib.py:131: The name tf.ConfigProto is deprecated. Please use tf.compat.v1.ConfigProto instead.\n",
            "\n"
          ],
          "name": "stdout"
        },
        {
          "output_type": "stream",
          "text": [
            "WARNING:tensorflow:From /usr/local/lib/python3.6/dist-packages/tensor2tensor/utils/trainer_lib.py:131: The name tf.ConfigProto is deprecated. Please use tf.compat.v1.ConfigProto instead.\n",
            "\n"
          ],
          "name": "stderr"
        },
        {
          "output_type": "stream",
          "text": [
            "WARNING:tensorflow:From /usr/local/lib/python3.6/dist-packages/tensor2tensor/utils/trainer_lib.py:241: RunConfig.__init__ (from tensorflow.contrib.learn.python.learn.estimators.run_config) is deprecated and will be removed in a future version.\n",
            "Instructions for updating:\n",
            "When switching to tf.estimator.Estimator, use tf.estimator.RunConfig instead.\n"
          ],
          "name": "stdout"
        },
        {
          "output_type": "stream",
          "text": [
            "WARNING:tensorflow:From /usr/local/lib/python3.6/dist-packages/tensor2tensor/utils/trainer_lib.py:241: RunConfig.__init__ (from tensorflow.contrib.learn.python.learn.estimators.run_config) is deprecated and will be removed in a future version.\n",
            "Instructions for updating:\n",
            "When switching to tf.estimator.Estimator, use tf.estimator.RunConfig instead.\n"
          ],
          "name": "stderr"
        },
        {
          "output_type": "stream",
          "text": [
            "WARNING:tensorflow:From /usr/local/lib/python3.6/dist-packages/tensor2tensor/utils/trainer_lib.py:264: The name tf.logging.info is deprecated. Please use tf.compat.v1.logging.info instead.\n",
            "\n"
          ],
          "name": "stdout"
        },
        {
          "output_type": "stream",
          "text": [
            "WARNING:tensorflow:From /usr/local/lib/python3.6/dist-packages/tensor2tensor/utils/trainer_lib.py:264: The name tf.logging.info is deprecated. Please use tf.compat.v1.logging.info instead.\n",
            "\n"
          ],
          "name": "stderr"
        },
        {
          "output_type": "stream",
          "text": [
            "INFO:tensorflow:Configuring DataParallelism to replicate the model.\n"
          ],
          "name": "stdout"
        },
        {
          "output_type": "stream",
          "text": [
            "INFO:tensorflow:Configuring DataParallelism to replicate the model.\n"
          ],
          "name": "stderr"
        },
        {
          "output_type": "stream",
          "text": [
            "INFO:tensorflow:schedule=continuous_train_and_eval\n"
          ],
          "name": "stdout"
        },
        {
          "output_type": "stream",
          "text": [
            "INFO:tensorflow:schedule=continuous_train_and_eval\n"
          ],
          "name": "stderr"
        },
        {
          "output_type": "stream",
          "text": [
            "INFO:tensorflow:worker_gpu=1\n"
          ],
          "name": "stdout"
        },
        {
          "output_type": "stream",
          "text": [
            "INFO:tensorflow:worker_gpu=1\n"
          ],
          "name": "stderr"
        },
        {
          "output_type": "stream",
          "text": [
            "INFO:tensorflow:sync=False\n"
          ],
          "name": "stdout"
        },
        {
          "output_type": "stream",
          "text": [
            "INFO:tensorflow:sync=False\n"
          ],
          "name": "stderr"
        },
        {
          "output_type": "stream",
          "text": [
            "WARNING:tensorflow:From /usr/local/lib/python3.6/dist-packages/tensor2tensor/utils/devices.py:139: The name tf.logging.warn is deprecated. Please use tf.compat.v1.logging.warn instead.\n",
            "\n"
          ],
          "name": "stdout"
        },
        {
          "output_type": "stream",
          "text": [
            "WARNING:tensorflow:From /usr/local/lib/python3.6/dist-packages/tensor2tensor/utils/devices.py:139: The name tf.logging.warn is deprecated. Please use tf.compat.v1.logging.warn instead.\n",
            "\n"
          ],
          "name": "stderr"
        },
        {
          "output_type": "stream",
          "text": [
            "WARNING:tensorflow:Schedule=continuous_train_and_eval. Assuming that training is running on a single machine.\n"
          ],
          "name": "stdout"
        },
        {
          "output_type": "stream",
          "text": [
            "WARNING:tensorflow:Schedule=continuous_train_and_eval. Assuming that training is running on a single machine.\n"
          ],
          "name": "stderr"
        },
        {
          "output_type": "stream",
          "text": [
            "INFO:tensorflow:datashard_devices: ['gpu:0']\n"
          ],
          "name": "stdout"
        },
        {
          "output_type": "stream",
          "text": [
            "INFO:tensorflow:datashard_devices: ['gpu:0']\n"
          ],
          "name": "stderr"
        },
        {
          "output_type": "stream",
          "text": [
            "INFO:tensorflow:caching_devices: None\n"
          ],
          "name": "stdout"
        },
        {
          "output_type": "stream",
          "text": [
            "INFO:tensorflow:caching_devices: None\n"
          ],
          "name": "stderr"
        },
        {
          "output_type": "stream",
          "text": [
            "INFO:tensorflow:ps_devices: ['gpu:0']\n"
          ],
          "name": "stdout"
        },
        {
          "output_type": "stream",
          "text": [
            "INFO:tensorflow:ps_devices: ['gpu:0']\n"
          ],
          "name": "stderr"
        },
        {
          "output_type": "stream",
          "text": [
            "INFO:tensorflow:Using config: {'_task_type': None, '_task_id': 0, '_cluster_spec': <tensorflow.python.training.server_lib.ClusterSpec object at 0x7f9e89cbfa58>, '_master': '', '_num_ps_replicas': 0, '_num_worker_replicas': 0, '_environment': 'local', '_is_chief': True, '_evaluation_master': '', '_train_distribute': None, '_eval_distribute': None, '_experimental_max_worker_delay_secs': None, '_device_fn': None, '_tf_config': gpu_options {\n",
            "  per_process_gpu_memory_fraction: 1.0\n",
            "}\n",
            ", '_tf_random_seed': None, '_save_summary_steps': 100, '_save_checkpoints_secs': None, '_log_step_count_steps': 100, '_protocol': None, '_session_config': gpu_options {\n",
            "  per_process_gpu_memory_fraction: 0.95\n",
            "}\n",
            "allow_soft_placement: true\n",
            "graph_options {\n",
            "  optimizer_options {\n",
            "    global_jit_level: OFF\n",
            "  }\n",
            "}\n",
            "isolate_session_state: true\n",
            ", '_save_checkpoints_steps': 2000, '_keep_checkpoint_max': 20, '_keep_checkpoint_every_n_hours': 10000, '_model_dir': '/content/drive/My Drive/t2t/train', '_session_creation_timeout_secs': 7200, 'use_tpu': False, 't2t_device_info': {'num_async_replicas': 1}, 'data_parallelism': <tensor2tensor.utils.expert_utils.Parallelism object at 0x7f9e89cbfac8>}\n"
          ],
          "name": "stdout"
        },
        {
          "output_type": "stream",
          "text": [
            "INFO:tensorflow:Using config: {'_task_type': None, '_task_id': 0, '_cluster_spec': <tensorflow.python.training.server_lib.ClusterSpec object at 0x7f9e89cbfa58>, '_master': '', '_num_ps_replicas': 0, '_num_worker_replicas': 0, '_environment': 'local', '_is_chief': True, '_evaluation_master': '', '_train_distribute': None, '_eval_distribute': None, '_experimental_max_worker_delay_secs': None, '_device_fn': None, '_tf_config': gpu_options {\n",
            "  per_process_gpu_memory_fraction: 1.0\n",
            "}\n",
            ", '_tf_random_seed': None, '_save_summary_steps': 100, '_save_checkpoints_secs': None, '_log_step_count_steps': 100, '_protocol': None, '_session_config': gpu_options {\n",
            "  per_process_gpu_memory_fraction: 0.95\n",
            "}\n",
            "allow_soft_placement: true\n",
            "graph_options {\n",
            "  optimizer_options {\n",
            "    global_jit_level: OFF\n",
            "  }\n",
            "}\n",
            "isolate_session_state: true\n",
            ", '_save_checkpoints_steps': 2000, '_keep_checkpoint_max': 20, '_keep_checkpoint_every_n_hours': 10000, '_model_dir': '/content/drive/My Drive/t2t/train', '_session_creation_timeout_secs': 7200, 'use_tpu': False, 't2t_device_info': {'num_async_replicas': 1}, 'data_parallelism': <tensor2tensor.utils.expert_utils.Parallelism object at 0x7f9e89cbfac8>}\n"
          ],
          "name": "stderr"
        },
        {
          "output_type": "stream",
          "text": [
            "WARNING:tensorflow:Estimator's model_fn (<function T2TModel.make_estimator_model_fn.<locals>.wrapping_model_fn at 0x7f9e89e24c80>) includes params argument, but params are not passed to Estimator.\n"
          ],
          "name": "stdout"
        },
        {
          "output_type": "stream",
          "text": [
            "WARNING:tensorflow:Estimator's model_fn (<function T2TModel.make_estimator_model_fn.<locals>.wrapping_model_fn at 0x7f9e89e24c80>) includes params argument, but params are not passed to Estimator.\n"
          ],
          "name": "stderr"
        },
        {
          "output_type": "stream",
          "text": [
            "INFO:tensorflow:Using ValidationMonitor\n"
          ],
          "name": "stdout"
        },
        {
          "output_type": "stream",
          "text": [
            "INFO:tensorflow:Using ValidationMonitor\n"
          ],
          "name": "stderr"
        },
        {
          "output_type": "stream",
          "text": [
            "WARNING:tensorflow:From /usr/local/lib/python3.6/dist-packages/tensorflow_core/contrib/learn/python/learn/monitors.py:279: BaseMonitor.__init__ (from tensorflow.contrib.learn.python.learn.monitors) is deprecated and will be removed after 2016-12-05.\n",
            "Instructions for updating:\n",
            "Monitors are deprecated. Please use tf.train.SessionRunHook.\n"
          ],
          "name": "stdout"
        },
        {
          "output_type": "stream",
          "text": [
            "WARNING:tensorflow:From /usr/local/lib/python3.6/dist-packages/tensorflow_core/contrib/learn/python/learn/monitors.py:279: BaseMonitor.__init__ (from tensorflow.contrib.learn.python.learn.monitors) is deprecated and will be removed after 2016-12-05.\n",
            "Instructions for updating:\n",
            "Monitors are deprecated. Please use tf.train.SessionRunHook.\n"
          ],
          "name": "stderr"
        },
        {
          "output_type": "stream",
          "text": [
            "WARNING:tensorflow:From /usr/local/lib/python3.6/dist-packages/tensor2tensor/utils/trainer_lib.py:466: The name tf.logging.warning is deprecated. Please use tf.compat.v1.logging.warning instead.\n",
            "\n"
          ],
          "name": "stdout"
        },
        {
          "output_type": "stream",
          "text": [
            "WARNING:tensorflow:From /usr/local/lib/python3.6/dist-packages/tensor2tensor/utils/trainer_lib.py:466: The name tf.logging.warning is deprecated. Please use tf.compat.v1.logging.warning instead.\n",
            "\n"
          ],
          "name": "stderr"
        },
        {
          "output_type": "stream",
          "text": [
            "WARNING:tensorflow:EvalSpec not provided. Estimator will not manage model evaluation. Assuming ValidationMonitor present in train_hooks.\n"
          ],
          "name": "stdout"
        },
        {
          "output_type": "stream",
          "text": [
            "WARNING:tensorflow:EvalSpec not provided. Estimator will not manage model evaluation. Assuming ValidationMonitor present in train_hooks.\n"
          ],
          "name": "stderr"
        },
        {
          "output_type": "stream",
          "text": [
            "INFO:tensorflow:Skipping training since max_steps has already saved.\n"
          ],
          "name": "stdout"
        },
        {
          "output_type": "stream",
          "text": [
            "INFO:tensorflow:Skipping training since max_steps has already saved.\n"
          ],
          "name": "stderr"
        }
      ]
    },
    {
      "cell_type": "markdown",
      "metadata": {
        "id": "13j50bpAc-bM",
        "colab_type": "text"
      },
      "source": [
        "#4. Prediction of sentence\n"
      ]
    },
    {
      "cell_type": "markdown",
      "metadata": {
        "id": "sGOC25N4dWdM",
        "colab_type": "text"
      },
      "source": [
        "##4.1. Configuration and help functions initialization"
      ]
    },
    {
      "cell_type": "code",
      "metadata": {
        "id": "S6u4QmhPIbDx",
        "colab_type": "code",
        "outputId": "fab4c496-e911-4359-8425-6e6ce8c1bbd0",
        "colab": {
          "base_uri": "https://localhost:8080/",
          "height": 289
        }
      },
      "source": [
        "import tensorflow as tf\n",
        "\n",
        "tfe = tf.contrib.eager\n",
        "tfe.enable_eager_execution()\n",
        "Modes = tf.estimator.ModeKeys"
      ],
      "execution_count": 0,
      "outputs": [
        {
          "output_type": "stream",
          "text": [
            "WARNING:tensorflow:\n",
            "The TensorFlow contrib module will not be included in TensorFlow 2.0.\n",
            "For more information, please see:\n",
            "  * https://github.com/tensorflow/community/blob/master/rfcs/20180907-contrib-sunset.md\n",
            "  * https://github.com/tensorflow/addons\n",
            "  * https://github.com/tensorflow/io (for I/O related ops)\n",
            "If you depend on functionality not listed there, please file an issue.\n",
            "\n"
          ],
          "name": "stdout"
        },
        {
          "output_type": "stream",
          "text": [
            "WARNING:tensorflow:\n",
            "The TensorFlow contrib module will not be included in TensorFlow 2.0.\n",
            "For more information, please see:\n",
            "  * https://github.com/tensorflow/community/blob/master/rfcs/20180907-contrib-sunset.md\n",
            "  * https://github.com/tensorflow/addons\n",
            "  * https://github.com/tensorflow/io (for I/O related ops)\n",
            "If you depend on functionality not listed there, please file an issue.\n",
            "\n"
          ],
          "name": "stderr"
        }
      ]
    },
    {
      "cell_type": "code",
      "metadata": {
        "id": "PaCkILfjz9x3",
        "colab_type": "code",
        "outputId": "2baad554-4393-4269-c42a-94f615699873",
        "colab": {
          "base_uri": "https://localhost:8080/",
          "height": 428
        }
      },
      "source": [
        "#Config\n",
        "\n",
        "from tensor2tensor import models\n",
        "from tensor2tensor import problems\n",
        "from tensor2tensor.layers import common_layers\n",
        "from tensor2tensor.utils import trainer_lib\n",
        "from tensor2tensor.utils import t2t_model\n",
        "from tensor2tensor.utils import registry\n",
        "from tensor2tensor.utils import metrics\n",
        "import numpy as np\n",
        "\n",
        "enfr_problem = problems.problem(PROBLEM)\n",
        "\n",
        "vocab_name = \"vocab.translate_en_lv.16384.subwords\"\n",
        "vocab_file = os.path.join(DATA_DIR, vocab_name)\n",
        "\n",
        "encoders = enfr_problem.feature_encoders(DATA_DIR)\n",
        "\n",
        "ckpt_path = tf.train.latest_checkpoint(os.path.join(TRAIN_DIR))\n",
        "print(ckpt_path)\n",
        "\n",
        "def translate(inputs):\n",
        "  encoded_inputs = encode(inputs)\n",
        "  with tfe.restore_variables_on_create(ckpt_path):\n",
        "    model_output = translate_model.infer(encoded_inputs)[\"outputs\"]\n",
        "  return decode(model_output)\n",
        "\n",
        "def encode(input_str, output_str=None):\n",
        "  \"\"\"Input str to features dict, ready for inference\"\"\"\n",
        "  inputs = encoders[\"inputs\"].encode(input_str) + [1]  # add EOS id\n",
        "  batch_inputs = tf.reshape(inputs, [1, -1, 1])  # Make it 3D.\n",
        "  return {\"inputs\": batch_inputs}\n",
        "\n",
        "def decode(integers):\n",
        "  \"\"\"List of ints to str\"\"\"\n",
        "  integers = list(np.squeeze(integers))\n",
        "  if 1 in integers:\n",
        "    integers = integers[:integers.index(1)]\n",
        "  return encoders[\"inputs\"].decode(np.squeeze(integers))\n",
        "\n",
        "hparams = trainer_lib.create_hparams(HPARAMS, data_dir=DATA_DIR, problem_name=PROBLEM)\n",
        "translate_model = registry.model(MODEL)(hparams, Modes.PREDICT)"
      ],
      "execution_count": 0,
      "outputs": [
        {
          "output_type": "stream",
          "text": [
            "/content/drive/My Drive/t2t/train/model.ckpt-150000\n",
            "INFO:tensorflow:Setting T2TModel mode to 'infer'\n"
          ],
          "name": "stdout"
        },
        {
          "output_type": "stream",
          "text": [
            "INFO:tensorflow:Setting T2TModel mode to 'infer'\n"
          ],
          "name": "stderr"
        },
        {
          "output_type": "stream",
          "text": [
            "INFO:tensorflow:Setting hparams.dropout to 0.0\n"
          ],
          "name": "stdout"
        },
        {
          "output_type": "stream",
          "text": [
            "INFO:tensorflow:Setting hparams.dropout to 0.0\n"
          ],
          "name": "stderr"
        },
        {
          "output_type": "stream",
          "text": [
            "INFO:tensorflow:Setting hparams.label_smoothing to 0.0\n"
          ],
          "name": "stdout"
        },
        {
          "output_type": "stream",
          "text": [
            "INFO:tensorflow:Setting hparams.label_smoothing to 0.0\n"
          ],
          "name": "stderr"
        },
        {
          "output_type": "stream",
          "text": [
            "INFO:tensorflow:Setting hparams.layer_prepostprocess_dropout to 0.0\n"
          ],
          "name": "stdout"
        },
        {
          "output_type": "stream",
          "text": [
            "INFO:tensorflow:Setting hparams.layer_prepostprocess_dropout to 0.0\n"
          ],
          "name": "stderr"
        },
        {
          "output_type": "stream",
          "text": [
            "INFO:tensorflow:Setting hparams.symbol_dropout to 0.0\n"
          ],
          "name": "stdout"
        },
        {
          "output_type": "stream",
          "text": [
            "INFO:tensorflow:Setting hparams.symbol_dropout to 0.0\n"
          ],
          "name": "stderr"
        },
        {
          "output_type": "stream",
          "text": [
            "INFO:tensorflow:Setting hparams.attention_dropout to 0.0\n"
          ],
          "name": "stdout"
        },
        {
          "output_type": "stream",
          "text": [
            "INFO:tensorflow:Setting hparams.attention_dropout to 0.0\n"
          ],
          "name": "stderr"
        },
        {
          "output_type": "stream",
          "text": [
            "INFO:tensorflow:Setting hparams.relu_dropout to 0.0\n"
          ],
          "name": "stdout"
        },
        {
          "output_type": "stream",
          "text": [
            "INFO:tensorflow:Setting hparams.relu_dropout to 0.0\n"
          ],
          "name": "stderr"
        },
        {
          "output_type": "stream",
          "text": [
            "WARNING:tensorflow:From /usr/local/lib/python3.6/dist-packages/tensor2tensor/layers/common_layers.py:100: The name tf.get_default_graph is deprecated. Please use tf.compat.v1.get_default_graph instead.\n",
            "\n"
          ],
          "name": "stdout"
        },
        {
          "output_type": "stream",
          "text": [
            "WARNING:tensorflow:From /usr/local/lib/python3.6/dist-packages/tensor2tensor/layers/common_layers.py:100: The name tf.get_default_graph is deprecated. Please use tf.compat.v1.get_default_graph instead.\n",
            "\n"
          ],
          "name": "stderr"
        },
        {
          "output_type": "stream",
          "text": [
            "WARNING:tensorflow:From /usr/local/lib/python3.6/dist-packages/tensor2tensor/utils/t2t_model.py:245: The name tf.summary.text is deprecated. Please use tf.compat.v1.summary.text instead.\n",
            "\n"
          ],
          "name": "stdout"
        },
        {
          "output_type": "stream",
          "text": [
            "WARNING:tensorflow:From /usr/local/lib/python3.6/dist-packages/tensor2tensor/utils/t2t_model.py:245: The name tf.summary.text is deprecated. Please use tf.compat.v1.summary.text instead.\n",
            "\n"
          ],
          "name": "stderr"
        }
      ]
    },
    {
      "cell_type": "markdown",
      "metadata": {
        "id": "Cl1Vs0XFlM-q",
        "colab_type": "text"
      },
      "source": [
        "##4.2 Translation of the sentences"
      ]
    },
    {
      "cell_type": "code",
      "metadata": {
        "id": "5zE8yHLUA2He",
        "colab_type": "code",
        "outputId": "2bd0fbca-413d-4cd2-c673-9a60145f7e91",
        "colab": {
          "base_uri": "https://localhost:8080/",
          "height": 989
        }
      },
      "source": [
        "#Predict \n",
        "\n",
        "en_input = \"It matters because we want to feed our people with food.\"\n",
        "lv_result = translate(en_input)\n",
        "\n",
        "print(f\"Input: {en_input}\")\n",
        "print(f\"Output: {lv_result}\")"
      ],
      "execution_count": 0,
      "outputs": [
        {
          "output_type": "stream",
          "text": [
            "WARNING:tensorflow:From /usr/local/lib/python3.6/dist-packages/tensor2tensor/utils/t2t_model.py:2313: The name tf.get_variable_scope is deprecated. Please use tf.compat.v1.get_variable_scope instead.\n",
            "\n"
          ],
          "name": "stdout"
        },
        {
          "output_type": "stream",
          "text": [
            "WARNING:tensorflow:From /usr/local/lib/python3.6/dist-packages/tensor2tensor/utils/t2t_model.py:2313: The name tf.get_variable_scope is deprecated. Please use tf.compat.v1.get_variable_scope instead.\n",
            "\n"
          ],
          "name": "stderr"
        },
        {
          "output_type": "stream",
          "text": [
            "INFO:tensorflow:Greedy Decoding\n"
          ],
          "name": "stdout"
        },
        {
          "output_type": "stream",
          "text": [
            "INFO:tensorflow:Greedy Decoding\n"
          ],
          "name": "stderr"
        },
        {
          "output_type": "stream",
          "text": [
            "WARNING:tensorflow:From /usr/local/lib/python3.6/dist-packages/tensor2tensor/layers/common_attention.py:931: to_float (from tensorflow.python.ops.math_ops) is deprecated and will be removed in a future version.\n",
            "Instructions for updating:\n",
            "Use `tf.cast` instead.\n"
          ],
          "name": "stdout"
        },
        {
          "output_type": "stream",
          "text": [
            "WARNING:tensorflow:From /usr/local/lib/python3.6/dist-packages/tensor2tensor/layers/common_attention.py:931: to_float (from tensorflow.python.ops.math_ops) is deprecated and will be removed in a future version.\n",
            "Instructions for updating:\n",
            "Use `tf.cast` instead.\n"
          ],
          "name": "stderr"
        },
        {
          "output_type": "stream",
          "text": [
            "WARNING:tensorflow:From /usr/local/lib/python3.6/dist-packages/tensor2tensor/layers/common_layers.py:413: The name tf.variable_scope is deprecated. Please use tf.compat.v1.variable_scope instead.\n",
            "\n"
          ],
          "name": "stdout"
        },
        {
          "output_type": "stream",
          "text": [
            "WARNING:tensorflow:From /usr/local/lib/python3.6/dist-packages/tensor2tensor/layers/common_layers.py:413: The name tf.variable_scope is deprecated. Please use tf.compat.v1.variable_scope instead.\n",
            "\n"
          ],
          "name": "stderr"
        },
        {
          "output_type": "stream",
          "text": [
            "WARNING:tensorflow:From /usr/local/lib/python3.6/dist-packages/tensor2tensor/layers/common_layers.py:416: The name tf.get_variable is deprecated. Please use tf.compat.v1.get_variable instead.\n",
            "\n"
          ],
          "name": "stdout"
        },
        {
          "output_type": "stream",
          "text": [
            "WARNING:tensorflow:From /usr/local/lib/python3.6/dist-packages/tensor2tensor/layers/common_layers.py:416: The name tf.get_variable is deprecated. Please use tf.compat.v1.get_variable instead.\n",
            "\n"
          ],
          "name": "stderr"
        },
        {
          "output_type": "stream",
          "text": [
            "WARNING:tensorflow:From /usr/local/lib/python3.6/dist-packages/tensor2tensor/layers/common_attention.py:454: The name tf.mod is deprecated. Please use tf.math.mod instead.\n",
            "\n"
          ],
          "name": "stdout"
        },
        {
          "output_type": "stream",
          "text": [
            "WARNING:tensorflow:From /usr/local/lib/python3.6/dist-packages/tensor2tensor/layers/common_attention.py:454: The name tf.mod is deprecated. Please use tf.math.mod instead.\n",
            "\n"
          ],
          "name": "stderr"
        },
        {
          "output_type": "stream",
          "text": [
            "WARNING:tensorflow:From /usr/local/lib/python3.6/dist-packages/tensor2tensor/utils/expert_utils.py:621: where (from tensorflow.python.ops.array_ops) is deprecated and will be removed in a future version.\n",
            "Instructions for updating:\n",
            "Use tf.where in 2.0, which has the same broadcast rule as np.where\n"
          ],
          "name": "stdout"
        },
        {
          "output_type": "stream",
          "text": [
            "WARNING:tensorflow:From /usr/local/lib/python3.6/dist-packages/tensor2tensor/utils/expert_utils.py:621: where (from tensorflow.python.ops.array_ops) is deprecated and will be removed in a future version.\n",
            "Instructions for updating:\n",
            "Use tf.where in 2.0, which has the same broadcast rule as np.where\n"
          ],
          "name": "stderr"
        },
        {
          "output_type": "stream",
          "text": [
            "WARNING:tensorflow:From /usr/local/lib/python3.6/dist-packages/tensor2tensor/utils/expert_utils.py:621: to_int32 (from tensorflow.python.ops.math_ops) is deprecated and will be removed in a future version.\n",
            "Instructions for updating:\n",
            "Use `tf.cast` instead.\n"
          ],
          "name": "stdout"
        },
        {
          "output_type": "stream",
          "text": [
            "WARNING:tensorflow:From /usr/local/lib/python3.6/dist-packages/tensor2tensor/utils/expert_utils.py:621: to_int32 (from tensorflow.python.ops.math_ops) is deprecated and will be removed in a future version.\n",
            "Instructions for updating:\n",
            "Use `tf.cast` instead.\n"
          ],
          "name": "stderr"
        },
        {
          "output_type": "stream",
          "text": [
            "WARNING:tensorflow:From /usr/local/lib/python3.6/dist-packages/tensor2tensor/layers/common_layers.py:713: The name tf.squared_difference is deprecated. Please use tf.math.squared_difference instead.\n",
            "\n"
          ],
          "name": "stdout"
        },
        {
          "output_type": "stream",
          "text": [
            "WARNING:tensorflow:From /usr/local/lib/python3.6/dist-packages/tensor2tensor/layers/common_layers.py:713: The name tf.squared_difference is deprecated. Please use tf.math.squared_difference instead.\n",
            "\n"
          ],
          "name": "stderr"
        },
        {
          "output_type": "stream",
          "text": [
            "WARNING:tensorflow:From /usr/local/lib/python3.6/dist-packages/tensor2tensor/layers/common_layers.py:714: The name tf.rsqrt is deprecated. Please use tf.math.rsqrt instead.\n",
            "\n"
          ],
          "name": "stdout"
        },
        {
          "output_type": "stream",
          "text": [
            "WARNING:tensorflow:From /usr/local/lib/python3.6/dist-packages/tensor2tensor/layers/common_layers.py:714: The name tf.rsqrt is deprecated. Please use tf.math.rsqrt instead.\n",
            "\n"
          ],
          "name": "stderr"
        },
        {
          "output_type": "stream",
          "text": [
            "WARNING:tensorflow:From /usr/local/lib/python3.6/dist-packages/tensor2tensor/layers/common_layers.py:3083: The name tf.layers.Dense is deprecated. Please use tf.compat.v1.layers.Dense instead.\n",
            "\n"
          ],
          "name": "stdout"
        },
        {
          "output_type": "stream",
          "text": [
            "WARNING:tensorflow:From /usr/local/lib/python3.6/dist-packages/tensor2tensor/layers/common_layers.py:3083: The name tf.layers.Dense is deprecated. Please use tf.compat.v1.layers.Dense instead.\n",
            "\n"
          ],
          "name": "stderr"
        },
        {
          "output_type": "stream",
          "text": [
            "WARNING:tensorflow:From /usr/local/lib/python3.6/dist-packages/tensor2tensor/models/transformer.py:1226: to_int64 (from tensorflow.python.ops.math_ops) is deprecated and will be removed in a future version.\n",
            "Instructions for updating:\n",
            "Use `tf.cast` instead.\n"
          ],
          "name": "stdout"
        },
        {
          "output_type": "stream",
          "text": [
            "WARNING:tensorflow:From /usr/local/lib/python3.6/dist-packages/tensor2tensor/models/transformer.py:1226: to_int64 (from tensorflow.python.ops.math_ops) is deprecated and will be removed in a future version.\n",
            "Instructions for updating:\n",
            "Use `tf.cast` instead.\n"
          ],
          "name": "stderr"
        },
        {
          "output_type": "stream",
          "text": [
            "Input: The people prefer democracy. They likes freedom.\n",
            "Output: Cilvēki dod priekšroku demokrātijai, viņi arī dod brīvību.\n"
          ],
          "name": "stdout"
        }
      ]
    },
    {
      "cell_type": "markdown",
      "metadata": {
        "id": "LZ-Bec_0l0C9",
        "colab_type": "text"
      },
      "source": [
        "##4.3 Persist translations"
      ]
    },
    {
      "cell_type": "code",
      "metadata": {
        "id": "scvBvwNHlx_9",
        "colab_type": "code",
        "colab": {}
      },
      "source": [
        "file_input = open(os.path.join(TRANSLATIONS_DIR, \"outputs_lv.txt\"),\"a\")\n",
        "file_input.write(f'{train_steps}: input - \"{en_input}\", output - \"{lv_result}\"\\n')\n",
        "file_input.close()"
      ],
      "execution_count": 0,
      "outputs": []
    }
  ]
}