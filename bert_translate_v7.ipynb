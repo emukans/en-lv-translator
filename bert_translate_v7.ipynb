{
  "nbformat": 4,
  "nbformat_minor": 0,
  "metadata": {
    "colab": {
      "name": "bert_translate v7.ipynb",
      "provenance": [],
      "collapsed_sections": [],
      "toc_visible": true,
      "machine_shape": "hm",
      "include_colab_link": true
    },
    "kernelspec": {
      "name": "python3",
      "display_name": "Python 3"
    },
    "accelerator": "TPU"
  },
  "cells": [
    {
      "cell_type": "markdown",
      "metadata": {
        "id": "view-in-github",
        "colab_type": "text"
      },
      "source": [
        "<a href=\"https://colab.research.google.com/github/emukans/en-lv-translator/blob/master/bert_translate_v7.ipynb\" target=\"_parent\"><img src=\"https://colab.research.google.com/assets/colab-badge.svg\" alt=\"Open In Colab\"/></a>"
      ]
    },
    {
      "cell_type": "markdown",
      "metadata": {
        "id": "kgYAJIYFPm1T",
        "colab_type": "text"
      },
      "source": [
        "#Translate MS-COCO annotations using pre-trained XML-R and InceptionV3 models"
      ]
    },
    {
      "cell_type": "code",
      "metadata": {
        "id": "u9HFhzFeKslp",
        "colab_type": "code",
        "outputId": "0fad4d88-069a-47c0-e5c6-82cf457753c8",
        "colab": {
          "base_uri": "https://localhost:8080/",
          "height": 238
        }
      },
      "source": [
        "%tensorflow_version 1.x\n",
        "!pip install 'gast==0.2.2'"
      ],
      "execution_count": 0,
      "outputs": [
        {
          "output_type": "stream",
          "text": [
            "TensorFlow 1.x selected.\n",
            "Collecting gast==0.2.2\n",
            "  Downloading https://files.pythonhosted.org/packages/4e/35/11749bf99b2d4e3cceb4d55ca22590b0d7c2c62b9de38ac4a4a7f4687421/gast-0.2.2.tar.gz\n",
            "Building wheels for collected packages: gast\n",
            "  Building wheel for gast (setup.py) ... \u001b[?25l\u001b[?25hdone\n",
            "  Created wheel for gast: filename=gast-0.2.2-cp36-none-any.whl size=7540 sha256=6ad5c620840b5c06d93ff4987d4210db96e49208c88fd98eba0248fae22c22c4\n",
            "  Stored in directory: /root/.cache/pip/wheels/5c/2e/7e/a1d4d4fcebe6c381f378ce7743a3ced3699feb89bcfbdadadd\n",
            "Successfully built gast\n",
            "Installing collected packages: gast\n",
            "  Found existing installation: gast 0.3.3\n",
            "    Uninstalling gast-0.3.3:\n",
            "      Successfully uninstalled gast-0.3.3\n",
            "Successfully installed gast-0.2.2\n"
          ],
          "name": "stdout"
        }
      ]
    },
    {
      "cell_type": "code",
      "metadata": {
        "id": "DMgIc2gqPgvV",
        "colab_type": "code",
        "outputId": "1cd92157-9d1c-4d23-f2b1-36dccaf1198b",
        "colab": {
          "base_uri": "https://localhost:8080/",
          "height": 34
        }
      },
      "source": [
        "import tensorflow as tf\n",
        "import tensorflow_hub as hub\n",
        "\n",
        "# You'll generate plots of attention in order to see which parts of an image\n",
        "# our model focuses on during captioning\n",
        "import matplotlib.pyplot as plt\n",
        "\n",
        "# Scikit-learn includes many helpful utilities\n",
        "from sklearn.model_selection import train_test_split\n",
        "from sklearn.utils import shuffle\n",
        "\n",
        "import re\n",
        "import numpy as np\n",
        "import os\n",
        "import time\n",
        "import json\n",
        "from glob import glob\n",
        "from PIL import Image\n",
        "import pickle\n",
        "import collections\n",
        "\n",
        "import keras\n",
        "from keras.models import Sequential\n",
        "from keras.layers import Dense, Dropout, Embedding, LSTM, Bidirectional\n",
        "\n",
        "import pandas as pd\n",
        "from datetime import datetime"
      ],
      "execution_count": 0,
      "outputs": [
        {
          "output_type": "stream",
          "text": [
            "Using TensorFlow backend.\n"
          ],
          "name": "stderr"
        }
      ]
    },
    {
      "cell_type": "code",
      "metadata": {
        "id": "KjHg7d17FBoV",
        "colab_type": "code",
        "outputId": "8b58831f-e403-4ce6-ee41-8dd6f8ae3c49",
        "colab": {
          "base_uri": "https://localhost:8080/",
          "height": 153
        }
      },
      "source": [
        "tfe = tf.contrib.eager\n",
        "tfe.enable_eager_execution()"
      ],
      "execution_count": 0,
      "outputs": [
        {
          "output_type": "stream",
          "text": [
            "WARNING:tensorflow:\n",
            "The TensorFlow contrib module will not be included in TensorFlow 2.0.\n",
            "For more information, please see:\n",
            "  * https://github.com/tensorflow/community/blob/master/rfcs/20180907-contrib-sunset.md\n",
            "  * https://github.com/tensorflow/addons\n",
            "  * https://github.com/tensorflow/io (for I/O related ops)\n",
            "If you depend on functionality not listed there, please file an issue.\n",
            "\n"
          ],
          "name": "stdout"
        }
      ]
    },
    {
      "cell_type": "markdown",
      "metadata": {
        "id": "brrlmsMz16Eg",
        "colab_type": "text"
      },
      "source": [
        "##Prepare MS-COCO dataset"
      ]
    },
    {
      "cell_type": "markdown",
      "metadata": {
        "id": "jKx_u0AP8qxM",
        "colab_type": "text"
      },
      "source": [
        "###Load train data if exists"
      ]
    },
    {
      "cell_type": "code",
      "metadata": {
        "id": "YHPs7UfM7zjD",
        "colab_type": "code",
        "outputId": "2a5a11ed-22b8-4749-bb89-3a9fac9646d6",
        "colab": {
          "base_uri": "https://localhost:8080/",
          "height": 122
        }
      },
      "source": [
        "from google.colab import drive\n",
        "drive.mount('/content/gdrive')"
      ],
      "execution_count": 0,
      "outputs": [
        {
          "output_type": "stream",
          "text": [
            "Go to this URL in a browser: https://accounts.google.com/o/oauth2/auth?client_id=947318989803-6bn6qk8qdgf4n4g3pfee6491hc0brc4i.apps.googleusercontent.com&redirect_uri=urn%3aietf%3awg%3aoauth%3a2.0%3aoob&response_type=code&scope=email%20https%3a%2f%2fwww.googleapis.com%2fauth%2fdocs.test%20https%3a%2f%2fwww.googleapis.com%2fauth%2fdrive%20https%3a%2f%2fwww.googleapis.com%2fauth%2fdrive.photos.readonly%20https%3a%2f%2fwww.googleapis.com%2fauth%2fpeopleapi.readonly\n",
            "\n",
            "Enter your authorization code:\n",
            "··········\n",
            "Mounted at /content/gdrive\n"
          ],
          "name": "stdout"
        }
      ]
    },
    {
      "cell_type": "code",
      "metadata": {
        "id": "5U3236J7nYhR",
        "colab_type": "code",
        "colab": {}
      },
      "source": [
        "PREPARED_DATA_JSON_PATH = '/content/gdrive/My Drive/bert_translate/prepared_train_data.npy'\n",
        "filtered_caption_list = []\n",
        "try:\n",
        "  filtered_caption_list = np.load(PREPARED_DATA_JSON_PATH, allow_pickle=True)\n",
        "except FileNotFoundError:\n",
        "  pass\n",
        "\n",
        "is_data_preprocess_needed = len(filtered_caption_list) > 0"
      ],
      "execution_count": 0,
      "outputs": []
    },
    {
      "cell_type": "markdown",
      "metadata": {
        "id": "hR1MuYA2krdH",
        "colab_type": "text"
      },
      "source": [
        "###Download data"
      ]
    },
    {
      "cell_type": "code",
      "metadata": {
        "id": "qNfKJAkBAcVJ",
        "colab_type": "code",
        "outputId": "06a3f150-973c-436d-faf0-5efae0644c85",
        "colab": {
          "base_uri": "https://localhost:8080/",
          "height": 68
        }
      },
      "source": [
        "import zipfile\n",
        "\n",
        "if not is_data_preprocess_needed:\n",
        "  !gsutil -m cp gs://translator-lv-en/en-lv-annotations.zip en-lv-annotations.zip\n",
        "\n",
        "  with zipfile.ZipFile('en-lv-annotations.zip', 'r') as zip_ref:\n",
        "      zip_ref.extractall()"
      ],
      "execution_count": 0,
      "outputs": [
        {
          "output_type": "stream",
          "text": [
            "Copying gs://translator-lv-en/en-lv-annotations.zip...\n",
            "- [1/1 files][  1.1 MiB/  1.1 MiB] 100% Done                                    \n",
            "Operation completed over 1 objects/1.1 MiB.                                      \n"
          ],
          "name": "stdout"
        }
      ]
    },
    {
      "cell_type": "markdown",
      "metadata": {
        "id": "K7S8oYCLpYEM",
        "colab_type": "text"
      },
      "source": [
        "###Preprocess data"
      ]
    },
    {
      "cell_type": "code",
      "metadata": {
        "id": "E204u4sw7Hsa",
        "colab_type": "code",
        "colab": {}
      },
      "source": [
        "if not is_data_preprocess_needed:\n",
        "  raw_en_annotations = []\n",
        "  annotation_file = 'en-lv-annotations.json'\n",
        "  with open(annotation_file, 'r') as f:\n",
        "      raw_annotations = json.load(f)\n",
        "\n",
        "  def prepare_caption(caption: str):\n",
        "    return f'<start> {caption.strip()} <end>'\n",
        "\n",
        "  prepared_caption_list = []\n",
        "  for annotation in raw_annotations:\n",
        "    caption = {\n",
        "        'en': prepare_caption(annotation['en']),\n",
        "        'lv': prepare_caption(annotation['lv']),\n",
        "        'image': annotation['image']\n",
        "    }\n",
        "    prepared_caption_list.append(caption)\n",
        "\n",
        "  train_caption_list = shuffle(prepared_caption_list, random_state=1)"
      ],
      "execution_count": 0,
      "outputs": []
    },
    {
      "cell_type": "code",
      "metadata": {
        "id": "0V72cwi6pC-T",
        "colab_type": "code",
        "outputId": "fd75c46c-c58c-40c1-e06f-a76a68d78ba7",
        "colab": {
          "base_uri": "https://localhost:8080/",
          "height": 34
        }
      },
      "source": [
        "if not is_data_preprocess_needed:\n",
        "  # Limit dataset\n",
        "  train_caption_list = train_caption_list[:2000]\n",
        "\n",
        "  print(len(train_caption_list))"
      ],
      "execution_count": 0,
      "outputs": [
        {
          "output_type": "stream",
          "text": [
            "2000\n"
          ],
          "name": "stdout"
        }
      ]
    },
    {
      "cell_type": "markdown",
      "metadata": {
        "id": "N9iGtk8Hm-mG",
        "colab_type": "text"
      },
      "source": [
        "### Prepare images"
      ]
    },
    {
      "cell_type": "code",
      "metadata": {
        "id": "CmrqnvtiOMAS",
        "colab_type": "code",
        "colab": {}
      },
      "source": [
        "from IPython.display import HTML, display\n",
        "import time\n",
        "\n",
        "def progress(value, max=100):\n",
        "    return HTML(\"\"\"\n",
        "        <progress\n",
        "            value='{value}'\n",
        "            max='{max}',\n",
        "            style='width: 100%'\n",
        "        >\n",
        "            {value}\n",
        "        </progress>\n",
        "    \"\"\".format(value=value, max=max))"
      ],
      "execution_count": 0,
      "outputs": []
    },
    {
      "cell_type": "code",
      "metadata": {
        "id": "sgkq1YAyGfj0",
        "colab_type": "code",
        "outputId": "593ceca5-0b4a-4df5-ab22-ed3378cecedb",
        "colab": {
          "base_uri": "https://localhost:8080/",
          "height": 34
        }
      },
      "source": [
        "import requests\n",
        "import hashlib\n",
        "\n",
        "if not is_data_preprocess_needed:\n",
        "  image_dir = '/content/images'\n",
        "  os.makedirs(image_dir, exist_ok=True)\n",
        "\n",
        "  max_progress = len(train_caption_list)\n",
        "  progress_counter = 0\n",
        "\n",
        "  out = display(progress(0, max_progress), display_id=True)\n",
        "\n",
        "  for caption in train_caption_list:\n",
        "    image = requests.get(caption['image'])\n",
        "    \n",
        "    try:\n",
        "      tf.image.decode_jpeg(image.content, channels=3)\n",
        "    except tf.errors.InvalidArgumentError:\n",
        "      progress_counter += 1\n",
        "      out.update(progress(progress_counter, max_progress))\n",
        "      continue\n",
        "\n",
        "    extension = caption['image'].split('.')[-1]\n",
        "    image_hash = hashlib.sha224(caption['image'].encode()).hexdigest()\n",
        "    image_path = os.path.join(image_dir, 'coco-' + image_hash)\n",
        "\n",
        "    caption['local_image_path'] = f'{image_path}.{extension}'\n",
        "\n",
        "    with open(caption['local_image_path'], 'wb') as file:\n",
        "      file.write(image.content)\n",
        "\n",
        "    progress_counter += 1\n",
        "    out.update(progress(progress_counter, max_progress))\n",
        "\n",
        "  train_caption_list = [caption for caption in train_caption_list if caption.get('local_image_path')]\n",
        "\n",
        "  len(train_caption_list)"
      ],
      "execution_count": 0,
      "outputs": [
        {
          "output_type": "display_data",
          "data": {
            "text/html": [
              "\n",
              "        <progress\n",
              "            value='2000'\n",
              "            max='2000',\n",
              "            style='width: 100%'\n",
              "        >\n",
              "            2000\n",
              "        </progress>\n",
              "    "
            ],
            "text/plain": [
              "<IPython.core.display.HTML object>"
            ]
          },
          "metadata": {
            "tags": []
          }
        }
      ]
    },
    {
      "cell_type": "markdown",
      "metadata": {
        "id": "_F3_z7wszY0D",
        "colab_type": "text"
      },
      "source": [
        "##Prepare XLMR pretrained model"
      ]
    },
    {
      "cell_type": "code",
      "metadata": {
        "id": "GPLvbgC5ENN2",
        "colab_type": "code",
        "outputId": "bd11efe6-9dd9-4b85-b4ea-765531a8bb99",
        "colab": {
          "base_uri": "https://localhost:8080/",
          "height": 122
        }
      },
      "source": [
        "!pip install sentencepiece"
      ],
      "execution_count": 0,
      "outputs": [
        {
          "output_type": "stream",
          "text": [
            "Collecting sentencepiece\n",
            "\u001b[?25l  Downloading https://files.pythonhosted.org/packages/98/2c/8df20f3ac6c22ac224fff307ebc102818206c53fc454ecd37d8ac2060df5/sentencepiece-0.1.86-cp36-cp36m-manylinux1_x86_64.whl (1.0MB)\n",
            "\r\u001b[K     |▎                               | 10kB 19.4MB/s eta 0:00:01\r\u001b[K     |▋                               | 20kB 2.2MB/s eta 0:00:01\r\u001b[K     |█                               | 30kB 2.9MB/s eta 0:00:01\r\u001b[K     |█▎                              | 40kB 2.1MB/s eta 0:00:01\r\u001b[K     |█▋                              | 51kB 2.3MB/s eta 0:00:01\r\u001b[K     |██                              | 61kB 2.7MB/s eta 0:00:01\r\u001b[K     |██▏                             | 71kB 2.9MB/s eta 0:00:01\r\u001b[K     |██▌                             | 81kB 3.1MB/s eta 0:00:01\r\u001b[K     |██▉                             | 92kB 3.5MB/s eta 0:00:01\r\u001b[K     |███▏                            | 102kB 3.5MB/s eta 0:00:01\r\u001b[K     |███▌                            | 112kB 3.5MB/s eta 0:00:01\r\u001b[K     |███▉                            | 122kB 3.5MB/s eta 0:00:01\r\u001b[K     |████                            | 133kB 3.5MB/s eta 0:00:01\r\u001b[K     |████▍                           | 143kB 3.5MB/s eta 0:00:01\r\u001b[K     |████▊                           | 153kB 3.5MB/s eta 0:00:01\r\u001b[K     |█████                           | 163kB 3.5MB/s eta 0:00:01\r\u001b[K     |█████▍                          | 174kB 3.5MB/s eta 0:00:01\r\u001b[K     |█████▊                          | 184kB 3.5MB/s eta 0:00:01\r\u001b[K     |██████                          | 194kB 3.5MB/s eta 0:00:01\r\u001b[K     |██████▎                         | 204kB 3.5MB/s eta 0:00:01\r\u001b[K     |██████▋                         | 215kB 3.5MB/s eta 0:00:01\r\u001b[K     |███████                         | 225kB 3.5MB/s eta 0:00:01\r\u001b[K     |███████▎                        | 235kB 3.5MB/s eta 0:00:01\r\u001b[K     |███████▋                        | 245kB 3.5MB/s eta 0:00:01\r\u001b[K     |███████▉                        | 256kB 3.5MB/s eta 0:00:01\r\u001b[K     |████████▏                       | 266kB 3.5MB/s eta 0:00:01\r\u001b[K     |████████▌                       | 276kB 3.5MB/s eta 0:00:01\r\u001b[K     |████████▉                       | 286kB 3.5MB/s eta 0:00:01\r\u001b[K     |█████████▏                      | 296kB 3.5MB/s eta 0:00:01\r\u001b[K     |█████████▌                      | 307kB 3.5MB/s eta 0:00:01\r\u001b[K     |█████████▊                      | 317kB 3.5MB/s eta 0:00:01\r\u001b[K     |██████████                      | 327kB 3.5MB/s eta 0:00:01\r\u001b[K     |██████████▍                     | 337kB 3.5MB/s eta 0:00:01\r\u001b[K     |██████████▊                     | 348kB 3.5MB/s eta 0:00:01\r\u001b[K     |███████████                     | 358kB 3.5MB/s eta 0:00:01\r\u001b[K     |███████████▍                    | 368kB 3.5MB/s eta 0:00:01\r\u001b[K     |███████████▋                    | 378kB 3.5MB/s eta 0:00:01\r\u001b[K     |████████████                    | 389kB 3.5MB/s eta 0:00:01\r\u001b[K     |████████████▎                   | 399kB 3.5MB/s eta 0:00:01\r\u001b[K     |████████████▋                   | 409kB 3.5MB/s eta 0:00:01\r\u001b[K     |█████████████                   | 419kB 3.5MB/s eta 0:00:01\r\u001b[K     |█████████████▎                  | 430kB 3.5MB/s eta 0:00:01\r\u001b[K     |█████████████▌                  | 440kB 3.5MB/s eta 0:00:01\r\u001b[K     |█████████████▉                  | 450kB 3.5MB/s eta 0:00:01\r\u001b[K     |██████████████▏                 | 460kB 3.5MB/s eta 0:00:01\r\u001b[K     |██████████████▌                 | 471kB 3.5MB/s eta 0:00:01\r\u001b[K     |██████████████▉                 | 481kB 3.5MB/s eta 0:00:01\r\u001b[K     |███████████████▏                | 491kB 3.5MB/s eta 0:00:01\r\u001b[K     |███████████████▍                | 501kB 3.5MB/s eta 0:00:01\r\u001b[K     |███████████████▊                | 512kB 3.5MB/s eta 0:00:01\r\u001b[K     |████████████████                | 522kB 3.5MB/s eta 0:00:01\r\u001b[K     |████████████████▍               | 532kB 3.5MB/s eta 0:00:01\r\u001b[K     |████████████████▊               | 542kB 3.5MB/s eta 0:00:01\r\u001b[K     |█████████████████               | 552kB 3.5MB/s eta 0:00:01\r\u001b[K     |█████████████████▎              | 563kB 3.5MB/s eta 0:00:01\r\u001b[K     |█████████████████▋              | 573kB 3.5MB/s eta 0:00:01\r\u001b[K     |██████████████████              | 583kB 3.5MB/s eta 0:00:01\r\u001b[K     |██████████████████▎             | 593kB 3.5MB/s eta 0:00:01\r\u001b[K     |██████████████████▋             | 604kB 3.5MB/s eta 0:00:01\r\u001b[K     |███████████████████             | 614kB 3.5MB/s eta 0:00:01\r\u001b[K     |███████████████████▏            | 624kB 3.5MB/s eta 0:00:01\r\u001b[K     |███████████████████▌            | 634kB 3.5MB/s eta 0:00:01\r\u001b[K     |███████████████████▉            | 645kB 3.5MB/s eta 0:00:01\r\u001b[K     |████████████████████▏           | 655kB 3.5MB/s eta 0:00:01\r\u001b[K     |████████████████████▌           | 665kB 3.5MB/s eta 0:00:01\r\u001b[K     |████████████████████▉           | 675kB 3.5MB/s eta 0:00:01\r\u001b[K     |█████████████████████▏          | 686kB 3.5MB/s eta 0:00:01\r\u001b[K     |█████████████████████▍          | 696kB 3.5MB/s eta 0:00:01\r\u001b[K     |█████████████████████▊          | 706kB 3.5MB/s eta 0:00:01\r\u001b[K     |██████████████████████          | 716kB 3.5MB/s eta 0:00:01\r\u001b[K     |██████████████████████▍         | 727kB 3.5MB/s eta 0:00:01\r\u001b[K     |██████████████████████▊         | 737kB 3.5MB/s eta 0:00:01\r\u001b[K     |███████████████████████         | 747kB 3.5MB/s eta 0:00:01\r\u001b[K     |███████████████████████▎        | 757kB 3.5MB/s eta 0:00:01\r\u001b[K     |███████████████████████▋        | 768kB 3.5MB/s eta 0:00:01\r\u001b[K     |████████████████████████        | 778kB 3.5MB/s eta 0:00:01\r\u001b[K     |████████████████████████▎       | 788kB 3.5MB/s eta 0:00:01\r\u001b[K     |████████████████████████▋       | 798kB 3.5MB/s eta 0:00:01\r\u001b[K     |█████████████████████████       | 808kB 3.5MB/s eta 0:00:01\r\u001b[K     |█████████████████████████▏      | 819kB 3.5MB/s eta 0:00:01\r\u001b[K     |█████████████████████████▌      | 829kB 3.5MB/s eta 0:00:01\r\u001b[K     |█████████████████████████▉      | 839kB 3.5MB/s eta 0:00:01\r\u001b[K     |██████████████████████████▏     | 849kB 3.5MB/s eta 0:00:01\r\u001b[K     |██████████████████████████▌     | 860kB 3.5MB/s eta 0:00:01\r\u001b[K     |██████████████████████████▉     | 870kB 3.5MB/s eta 0:00:01\r\u001b[K     |███████████████████████████     | 880kB 3.5MB/s eta 0:00:01\r\u001b[K     |███████████████████████████▍    | 890kB 3.5MB/s eta 0:00:01\r\u001b[K     |███████████████████████████▊    | 901kB 3.5MB/s eta 0:00:01\r\u001b[K     |████████████████████████████    | 911kB 3.5MB/s eta 0:00:01\r\u001b[K     |████████████████████████████▍   | 921kB 3.5MB/s eta 0:00:01\r\u001b[K     |████████████████████████████▊   | 931kB 3.5MB/s eta 0:00:01\r\u001b[K     |█████████████████████████████   | 942kB 3.5MB/s eta 0:00:01\r\u001b[K     |█████████████████████████████▎  | 952kB 3.5MB/s eta 0:00:01\r\u001b[K     |█████████████████████████████▋  | 962kB 3.5MB/s eta 0:00:01\r\u001b[K     |██████████████████████████████  | 972kB 3.5MB/s eta 0:00:01\r\u001b[K     |██████████████████████████████▎ | 983kB 3.5MB/s eta 0:00:01\r\u001b[K     |██████████████████████████████▋ | 993kB 3.5MB/s eta 0:00:01\r\u001b[K     |██████████████████████████████▉ | 1.0MB 3.5MB/s eta 0:00:01\r\u001b[K     |███████████████████████████████▏| 1.0MB 3.5MB/s eta 0:00:01\r\u001b[K     |███████████████████████████████▌| 1.0MB 3.5MB/s eta 0:00:01\r\u001b[K     |███████████████████████████████▉| 1.0MB 3.5MB/s eta 0:00:01\r\u001b[K     |████████████████████████████████| 1.0MB 3.5MB/s \n",
            "\u001b[?25hInstalling collected packages: sentencepiece\n",
            "Successfully installed sentencepiece-0.1.86\n"
          ],
          "name": "stdout"
        }
      ]
    },
    {
      "cell_type": "code",
      "metadata": {
        "id": "ZaLdRMo9DQq2",
        "colab_type": "code",
        "outputId": "37401cd1-cc32-4bad-b7d6-932f3cac0c7d",
        "colab": {
          "base_uri": "https://localhost:8080/",
          "height": 1000
        }
      },
      "source": [
        "import torch\n",
        "xlmr = torch.hub.load('pytorch/fairseq', 'xlmr.large')\n",
        "xlmr.eval()"
      ],
      "execution_count": 0,
      "outputs": [
        {
          "output_type": "stream",
          "text": [
            "Downloading: \"https://github.com/pytorch/fairseq/archive/master.zip\" to /root/.cache/torch/hub/master.zip\n"
          ],
          "name": "stderr"
        },
        {
          "output_type": "stream",
          "text": [
            "No CUDA runtime is found, using CUDA_HOME='/usr/local/cuda'\n",
            "running build_ext\n",
            "cythoning fairseq/data/data_utils_fast.pyx to fairseq/data/data_utils_fast.cpp\n"
          ],
          "name": "stdout"
        },
        {
          "output_type": "stream",
          "text": [
            "/usr/local/lib/python3.6/dist-packages/torch/utils/cpp_extension.py:304: UserWarning: Attempted to use ninja as the BuildExtension backend but we could not find ninja.. Falling back to using the slow distutils backend.\n",
            "  warnings.warn(msg.format('we could not find ninja.'))\n"
          ],
          "name": "stderr"
        },
        {
          "output_type": "stream",
          "text": [
            "cythoning fairseq/data/token_block_utils_fast.pyx to fairseq/data/token_block_utils_fast.cpp\n",
            "building 'fairseq.libbleu' extension\n",
            "creating build\n",
            "creating build/temp.linux-x86_64-3.6\n",
            "creating build/temp.linux-x86_64-3.6/fairseq\n",
            "creating build/temp.linux-x86_64-3.6/fairseq/clib\n",
            "creating build/temp.linux-x86_64-3.6/fairseq/clib/libbleu\n",
            "x86_64-linux-gnu-gcc -pthread -DNDEBUG -g -fwrapv -O2 -Wall -g -fstack-protector-strong -Wformat -Werror=format-security -Wdate-time -D_FORTIFY_SOURCE=2 -fPIC -I/usr/include/python3.6m -c fairseq/clib/libbleu/libbleu.cpp -o build/temp.linux-x86_64-3.6/fairseq/clib/libbleu/libbleu.o -std=c++11 -O3 -DTORCH_API_INCLUDE_EXTENSION_H -DTORCH_EXTENSION_NAME=libbleu -D_GLIBCXX_USE_CXX11_ABI=0\n",
            "x86_64-linux-gnu-gcc -pthread -DNDEBUG -g -fwrapv -O2 -Wall -g -fstack-protector-strong -Wformat -Werror=format-security -Wdate-time -D_FORTIFY_SOURCE=2 -fPIC -I/usr/include/python3.6m -c fairseq/clib/libbleu/module.cpp -o build/temp.linux-x86_64-3.6/fairseq/clib/libbleu/module.o -std=c++11 -O3 -DTORCH_API_INCLUDE_EXTENSION_H -DTORCH_EXTENSION_NAME=libbleu -D_GLIBCXX_USE_CXX11_ABI=0\n",
            "creating build/lib.linux-x86_64-3.6\n",
            "creating build/lib.linux-x86_64-3.6/fairseq\n",
            "x86_64-linux-gnu-g++ -pthread -shared -Wl,-O1 -Wl,-Bsymbolic-functions -Wl,-Bsymbolic-functions -Wl,-z,relro -Wl,-Bsymbolic-functions -Wl,-z,relro -g -fstack-protector-strong -Wformat -Werror=format-security -Wdate-time -D_FORTIFY_SOURCE=2 build/temp.linux-x86_64-3.6/fairseq/clib/libbleu/libbleu.o build/temp.linux-x86_64-3.6/fairseq/clib/libbleu/module.o -o build/lib.linux-x86_64-3.6/fairseq/libbleu.cpython-36m-x86_64-linux-gnu.so\n",
            "building 'fairseq.data.data_utils_fast' extension\n",
            "creating build/temp.linux-x86_64-3.6/fairseq/data\n",
            "x86_64-linux-gnu-gcc -pthread -DNDEBUG -g -fwrapv -O2 -Wall -g -fstack-protector-strong -Wformat -Werror=format-security -Wdate-time -D_FORTIFY_SOURCE=2 -fPIC -I/usr/local/lib/python3.6/dist-packages/numpy/core/include -I/usr/local/lib/python3.6/dist-packages/numpy/core/include -I/usr/include/python3.6m -c fairseq/data/data_utils_fast.cpp -o build/temp.linux-x86_64-3.6/fairseq/data/data_utils_fast.o -std=c++11 -O3 -DTORCH_API_INCLUDE_EXTENSION_H -DTORCH_EXTENSION_NAME=data_utils_fast -D_GLIBCXX_USE_CXX11_ABI=0\n",
            "creating build/lib.linux-x86_64-3.6/fairseq/data\n",
            "x86_64-linux-gnu-g++ -pthread -shared -Wl,-O1 -Wl,-Bsymbolic-functions -Wl,-Bsymbolic-functions -Wl,-z,relro -Wl,-Bsymbolic-functions -Wl,-z,relro -g -fstack-protector-strong -Wformat -Werror=format-security -Wdate-time -D_FORTIFY_SOURCE=2 build/temp.linux-x86_64-3.6/fairseq/data/data_utils_fast.o -o build/lib.linux-x86_64-3.6/fairseq/data/data_utils_fast.cpython-36m-x86_64-linux-gnu.so\n",
            "building 'fairseq.data.token_block_utils_fast' extension\n",
            "x86_64-linux-gnu-gcc -pthread -DNDEBUG -g -fwrapv -O2 -Wall -g -fstack-protector-strong -Wformat -Werror=format-security -Wdate-time -D_FORTIFY_SOURCE=2 -fPIC -I/usr/local/lib/python3.6/dist-packages/numpy/core/include -I/usr/local/lib/python3.6/dist-packages/numpy/core/include -I/usr/include/python3.6m -c fairseq/data/token_block_utils_fast.cpp -o build/temp.linux-x86_64-3.6/fairseq/data/token_block_utils_fast.o -std=c++11 -O3 -DTORCH_API_INCLUDE_EXTENSION_H -DTORCH_EXTENSION_NAME=token_block_utils_fast -D_GLIBCXX_USE_CXX11_ABI=0\n",
            "x86_64-linux-gnu-g++ -pthread -shared -Wl,-O1 -Wl,-Bsymbolic-functions -Wl,-Bsymbolic-functions -Wl,-z,relro -Wl,-Bsymbolic-functions -Wl,-z,relro -g -fstack-protector-strong -Wformat -Werror=format-security -Wdate-time -D_FORTIFY_SOURCE=2 build/temp.linux-x86_64-3.6/fairseq/data/token_block_utils_fast.o -o build/lib.linux-x86_64-3.6/fairseq/data/token_block_utils_fast.cpython-36m-x86_64-linux-gnu.so\n",
            "building 'fairseq.libnat' extension\n",
            "creating build/temp.linux-x86_64-3.6/fairseq/clib/libnat\n",
            "x86_64-linux-gnu-gcc -pthread -DNDEBUG -g -fwrapv -O2 -Wall -g -fstack-protector-strong -Wformat -Werror=format-security -Wdate-time -D_FORTIFY_SOURCE=2 -fPIC -I/usr/local/lib/python3.6/dist-packages/torch/include -I/usr/local/lib/python3.6/dist-packages/torch/include/torch/csrc/api/include -I/usr/local/lib/python3.6/dist-packages/torch/include/TH -I/usr/local/lib/python3.6/dist-packages/torch/include/THC -I/usr/include/python3.6m -c fairseq/clib/libnat/edit_dist.cpp -o build/temp.linux-x86_64-3.6/fairseq/clib/libnat/edit_dist.o -DTORCH_API_INCLUDE_EXTENSION_H -DTORCH_EXTENSION_NAME=libnat -D_GLIBCXX_USE_CXX11_ABI=0 -std=c++14\n",
            "x86_64-linux-gnu-g++ -pthread -shared -Wl,-O1 -Wl,-Bsymbolic-functions -Wl,-Bsymbolic-functions -Wl,-z,relro -Wl,-Bsymbolic-functions -Wl,-z,relro -g -fstack-protector-strong -Wformat -Werror=format-security -Wdate-time -D_FORTIFY_SOURCE=2 build/temp.linux-x86_64-3.6/fairseq/clib/libnat/edit_dist.o -L/usr/local/lib/python3.6/dist-packages/torch/lib -lc10 -ltorch -ltorch_cpu -ltorch_python -o build/lib.linux-x86_64-3.6/fairseq/libnat.cpython-36m-x86_64-linux-gnu.so\n",
            "copying build/lib.linux-x86_64-3.6/fairseq/libbleu.cpython-36m-x86_64-linux-gnu.so -> fairseq\n",
            "copying build/lib.linux-x86_64-3.6/fairseq/data/data_utils_fast.cpython-36m-x86_64-linux-gnu.so -> fairseq/data\n",
            "copying build/lib.linux-x86_64-3.6/fairseq/data/token_block_utils_fast.cpython-36m-x86_64-linux-gnu.so -> fairseq/data\n",
            "copying build/lib.linux-x86_64-3.6/fairseq/libnat.cpython-36m-x86_64-linux-gnu.so -> fairseq\n"
          ],
          "name": "stdout"
        },
        {
          "output_type": "stream",
          "text": [
            "100%|██████████| 1028340964/1028340964 [00:47<00:00, 21431914.20B/s]\n"
          ],
          "name": "stderr"
        },
        {
          "output_type": "execute_result",
          "data": {
            "text/plain": [
              "RobertaHubInterface(\n",
              "  (model): RobertaModel(\n",
              "    (decoder): RobertaEncoder(\n",
              "      (sentence_encoder): TransformerSentenceEncoder(\n",
              "        (embed_tokens): Embedding(250002, 1024, padding_idx=1)\n",
              "        (embed_positions): LearnedPositionalEmbedding(514, 1024, padding_idx=1)\n",
              "        (layers): ModuleList(\n",
              "          (0): TransformerSentenceEncoderLayer(\n",
              "            (self_attn): MultiheadAttention(\n",
              "              (k_proj): Linear(in_features=1024, out_features=1024, bias=True)\n",
              "              (v_proj): Linear(in_features=1024, out_features=1024, bias=True)\n",
              "              (q_proj): Linear(in_features=1024, out_features=1024, bias=True)\n",
              "              (out_proj): Linear(in_features=1024, out_features=1024, bias=True)\n",
              "            )\n",
              "            (self_attn_layer_norm): LayerNorm((1024,), eps=1e-05, elementwise_affine=True)\n",
              "            (fc1): Linear(in_features=1024, out_features=4096, bias=True)\n",
              "            (fc2): Linear(in_features=4096, out_features=1024, bias=True)\n",
              "            (final_layer_norm): LayerNorm((1024,), eps=1e-05, elementwise_affine=True)\n",
              "          )\n",
              "          (1): TransformerSentenceEncoderLayer(\n",
              "            (self_attn): MultiheadAttention(\n",
              "              (k_proj): Linear(in_features=1024, out_features=1024, bias=True)\n",
              "              (v_proj): Linear(in_features=1024, out_features=1024, bias=True)\n",
              "              (q_proj): Linear(in_features=1024, out_features=1024, bias=True)\n",
              "              (out_proj): Linear(in_features=1024, out_features=1024, bias=True)\n",
              "            )\n",
              "            (self_attn_layer_norm): LayerNorm((1024,), eps=1e-05, elementwise_affine=True)\n",
              "            (fc1): Linear(in_features=1024, out_features=4096, bias=True)\n",
              "            (fc2): Linear(in_features=4096, out_features=1024, bias=True)\n",
              "            (final_layer_norm): LayerNorm((1024,), eps=1e-05, elementwise_affine=True)\n",
              "          )\n",
              "          (2): TransformerSentenceEncoderLayer(\n",
              "            (self_attn): MultiheadAttention(\n",
              "              (k_proj): Linear(in_features=1024, out_features=1024, bias=True)\n",
              "              (v_proj): Linear(in_features=1024, out_features=1024, bias=True)\n",
              "              (q_proj): Linear(in_features=1024, out_features=1024, bias=True)\n",
              "              (out_proj): Linear(in_features=1024, out_features=1024, bias=True)\n",
              "            )\n",
              "            (self_attn_layer_norm): LayerNorm((1024,), eps=1e-05, elementwise_affine=True)\n",
              "            (fc1): Linear(in_features=1024, out_features=4096, bias=True)\n",
              "            (fc2): Linear(in_features=4096, out_features=1024, bias=True)\n",
              "            (final_layer_norm): LayerNorm((1024,), eps=1e-05, elementwise_affine=True)\n",
              "          )\n",
              "          (3): TransformerSentenceEncoderLayer(\n",
              "            (self_attn): MultiheadAttention(\n",
              "              (k_proj): Linear(in_features=1024, out_features=1024, bias=True)\n",
              "              (v_proj): Linear(in_features=1024, out_features=1024, bias=True)\n",
              "              (q_proj): Linear(in_features=1024, out_features=1024, bias=True)\n",
              "              (out_proj): Linear(in_features=1024, out_features=1024, bias=True)\n",
              "            )\n",
              "            (self_attn_layer_norm): LayerNorm((1024,), eps=1e-05, elementwise_affine=True)\n",
              "            (fc1): Linear(in_features=1024, out_features=4096, bias=True)\n",
              "            (fc2): Linear(in_features=4096, out_features=1024, bias=True)\n",
              "            (final_layer_norm): LayerNorm((1024,), eps=1e-05, elementwise_affine=True)\n",
              "          )\n",
              "          (4): TransformerSentenceEncoderLayer(\n",
              "            (self_attn): MultiheadAttention(\n",
              "              (k_proj): Linear(in_features=1024, out_features=1024, bias=True)\n",
              "              (v_proj): Linear(in_features=1024, out_features=1024, bias=True)\n",
              "              (q_proj): Linear(in_features=1024, out_features=1024, bias=True)\n",
              "              (out_proj): Linear(in_features=1024, out_features=1024, bias=True)\n",
              "            )\n",
              "            (self_attn_layer_norm): LayerNorm((1024,), eps=1e-05, elementwise_affine=True)\n",
              "            (fc1): Linear(in_features=1024, out_features=4096, bias=True)\n",
              "            (fc2): Linear(in_features=4096, out_features=1024, bias=True)\n",
              "            (final_layer_norm): LayerNorm((1024,), eps=1e-05, elementwise_affine=True)\n",
              "          )\n",
              "          (5): TransformerSentenceEncoderLayer(\n",
              "            (self_attn): MultiheadAttention(\n",
              "              (k_proj): Linear(in_features=1024, out_features=1024, bias=True)\n",
              "              (v_proj): Linear(in_features=1024, out_features=1024, bias=True)\n",
              "              (q_proj): Linear(in_features=1024, out_features=1024, bias=True)\n",
              "              (out_proj): Linear(in_features=1024, out_features=1024, bias=True)\n",
              "            )\n",
              "            (self_attn_layer_norm): LayerNorm((1024,), eps=1e-05, elementwise_affine=True)\n",
              "            (fc1): Linear(in_features=1024, out_features=4096, bias=True)\n",
              "            (fc2): Linear(in_features=4096, out_features=1024, bias=True)\n",
              "            (final_layer_norm): LayerNorm((1024,), eps=1e-05, elementwise_affine=True)\n",
              "          )\n",
              "          (6): TransformerSentenceEncoderLayer(\n",
              "            (self_attn): MultiheadAttention(\n",
              "              (k_proj): Linear(in_features=1024, out_features=1024, bias=True)\n",
              "              (v_proj): Linear(in_features=1024, out_features=1024, bias=True)\n",
              "              (q_proj): Linear(in_features=1024, out_features=1024, bias=True)\n",
              "              (out_proj): Linear(in_features=1024, out_features=1024, bias=True)\n",
              "            )\n",
              "            (self_attn_layer_norm): LayerNorm((1024,), eps=1e-05, elementwise_affine=True)\n",
              "            (fc1): Linear(in_features=1024, out_features=4096, bias=True)\n",
              "            (fc2): Linear(in_features=4096, out_features=1024, bias=True)\n",
              "            (final_layer_norm): LayerNorm((1024,), eps=1e-05, elementwise_affine=True)\n",
              "          )\n",
              "          (7): TransformerSentenceEncoderLayer(\n",
              "            (self_attn): MultiheadAttention(\n",
              "              (k_proj): Linear(in_features=1024, out_features=1024, bias=True)\n",
              "              (v_proj): Linear(in_features=1024, out_features=1024, bias=True)\n",
              "              (q_proj): Linear(in_features=1024, out_features=1024, bias=True)\n",
              "              (out_proj): Linear(in_features=1024, out_features=1024, bias=True)\n",
              "            )\n",
              "            (self_attn_layer_norm): LayerNorm((1024,), eps=1e-05, elementwise_affine=True)\n",
              "            (fc1): Linear(in_features=1024, out_features=4096, bias=True)\n",
              "            (fc2): Linear(in_features=4096, out_features=1024, bias=True)\n",
              "            (final_layer_norm): LayerNorm((1024,), eps=1e-05, elementwise_affine=True)\n",
              "          )\n",
              "          (8): TransformerSentenceEncoderLayer(\n",
              "            (self_attn): MultiheadAttention(\n",
              "              (k_proj): Linear(in_features=1024, out_features=1024, bias=True)\n",
              "              (v_proj): Linear(in_features=1024, out_features=1024, bias=True)\n",
              "              (q_proj): Linear(in_features=1024, out_features=1024, bias=True)\n",
              "              (out_proj): Linear(in_features=1024, out_features=1024, bias=True)\n",
              "            )\n",
              "            (self_attn_layer_norm): LayerNorm((1024,), eps=1e-05, elementwise_affine=True)\n",
              "            (fc1): Linear(in_features=1024, out_features=4096, bias=True)\n",
              "            (fc2): Linear(in_features=4096, out_features=1024, bias=True)\n",
              "            (final_layer_norm): LayerNorm((1024,), eps=1e-05, elementwise_affine=True)\n",
              "          )\n",
              "          (9): TransformerSentenceEncoderLayer(\n",
              "            (self_attn): MultiheadAttention(\n",
              "              (k_proj): Linear(in_features=1024, out_features=1024, bias=True)\n",
              "              (v_proj): Linear(in_features=1024, out_features=1024, bias=True)\n",
              "              (q_proj): Linear(in_features=1024, out_features=1024, bias=True)\n",
              "              (out_proj): Linear(in_features=1024, out_features=1024, bias=True)\n",
              "            )\n",
              "            (self_attn_layer_norm): LayerNorm((1024,), eps=1e-05, elementwise_affine=True)\n",
              "            (fc1): Linear(in_features=1024, out_features=4096, bias=True)\n",
              "            (fc2): Linear(in_features=4096, out_features=1024, bias=True)\n",
              "            (final_layer_norm): LayerNorm((1024,), eps=1e-05, elementwise_affine=True)\n",
              "          )\n",
              "          (10): TransformerSentenceEncoderLayer(\n",
              "            (self_attn): MultiheadAttention(\n",
              "              (k_proj): Linear(in_features=1024, out_features=1024, bias=True)\n",
              "              (v_proj): Linear(in_features=1024, out_features=1024, bias=True)\n",
              "              (q_proj): Linear(in_features=1024, out_features=1024, bias=True)\n",
              "              (out_proj): Linear(in_features=1024, out_features=1024, bias=True)\n",
              "            )\n",
              "            (self_attn_layer_norm): LayerNorm((1024,), eps=1e-05, elementwise_affine=True)\n",
              "            (fc1): Linear(in_features=1024, out_features=4096, bias=True)\n",
              "            (fc2): Linear(in_features=4096, out_features=1024, bias=True)\n",
              "            (final_layer_norm): LayerNorm((1024,), eps=1e-05, elementwise_affine=True)\n",
              "          )\n",
              "          (11): TransformerSentenceEncoderLayer(\n",
              "            (self_attn): MultiheadAttention(\n",
              "              (k_proj): Linear(in_features=1024, out_features=1024, bias=True)\n",
              "              (v_proj): Linear(in_features=1024, out_features=1024, bias=True)\n",
              "              (q_proj): Linear(in_features=1024, out_features=1024, bias=True)\n",
              "              (out_proj): Linear(in_features=1024, out_features=1024, bias=True)\n",
              "            )\n",
              "            (self_attn_layer_norm): LayerNorm((1024,), eps=1e-05, elementwise_affine=True)\n",
              "            (fc1): Linear(in_features=1024, out_features=4096, bias=True)\n",
              "            (fc2): Linear(in_features=4096, out_features=1024, bias=True)\n",
              "            (final_layer_norm): LayerNorm((1024,), eps=1e-05, elementwise_affine=True)\n",
              "          )\n",
              "          (12): TransformerSentenceEncoderLayer(\n",
              "            (self_attn): MultiheadAttention(\n",
              "              (k_proj): Linear(in_features=1024, out_features=1024, bias=True)\n",
              "              (v_proj): Linear(in_features=1024, out_features=1024, bias=True)\n",
              "              (q_proj): Linear(in_features=1024, out_features=1024, bias=True)\n",
              "              (out_proj): Linear(in_features=1024, out_features=1024, bias=True)\n",
              "            )\n",
              "            (self_attn_layer_norm): LayerNorm((1024,), eps=1e-05, elementwise_affine=True)\n",
              "            (fc1): Linear(in_features=1024, out_features=4096, bias=True)\n",
              "            (fc2): Linear(in_features=4096, out_features=1024, bias=True)\n",
              "            (final_layer_norm): LayerNorm((1024,), eps=1e-05, elementwise_affine=True)\n",
              "          )\n",
              "          (13): TransformerSentenceEncoderLayer(\n",
              "            (self_attn): MultiheadAttention(\n",
              "              (k_proj): Linear(in_features=1024, out_features=1024, bias=True)\n",
              "              (v_proj): Linear(in_features=1024, out_features=1024, bias=True)\n",
              "              (q_proj): Linear(in_features=1024, out_features=1024, bias=True)\n",
              "              (out_proj): Linear(in_features=1024, out_features=1024, bias=True)\n",
              "            )\n",
              "            (self_attn_layer_norm): LayerNorm((1024,), eps=1e-05, elementwise_affine=True)\n",
              "            (fc1): Linear(in_features=1024, out_features=4096, bias=True)\n",
              "            (fc2): Linear(in_features=4096, out_features=1024, bias=True)\n",
              "            (final_layer_norm): LayerNorm((1024,), eps=1e-05, elementwise_affine=True)\n",
              "          )\n",
              "          (14): TransformerSentenceEncoderLayer(\n",
              "            (self_attn): MultiheadAttention(\n",
              "              (k_proj): Linear(in_features=1024, out_features=1024, bias=True)\n",
              "              (v_proj): Linear(in_features=1024, out_features=1024, bias=True)\n",
              "              (q_proj): Linear(in_features=1024, out_features=1024, bias=True)\n",
              "              (out_proj): Linear(in_features=1024, out_features=1024, bias=True)\n",
              "            )\n",
              "            (self_attn_layer_norm): LayerNorm((1024,), eps=1e-05, elementwise_affine=True)\n",
              "            (fc1): Linear(in_features=1024, out_features=4096, bias=True)\n",
              "            (fc2): Linear(in_features=4096, out_features=1024, bias=True)\n",
              "            (final_layer_norm): LayerNorm((1024,), eps=1e-05, elementwise_affine=True)\n",
              "          )\n",
              "          (15): TransformerSentenceEncoderLayer(\n",
              "            (self_attn): MultiheadAttention(\n",
              "              (k_proj): Linear(in_features=1024, out_features=1024, bias=True)\n",
              "              (v_proj): Linear(in_features=1024, out_features=1024, bias=True)\n",
              "              (q_proj): Linear(in_features=1024, out_features=1024, bias=True)\n",
              "              (out_proj): Linear(in_features=1024, out_features=1024, bias=True)\n",
              "            )\n",
              "            (self_attn_layer_norm): LayerNorm((1024,), eps=1e-05, elementwise_affine=True)\n",
              "            (fc1): Linear(in_features=1024, out_features=4096, bias=True)\n",
              "            (fc2): Linear(in_features=4096, out_features=1024, bias=True)\n",
              "            (final_layer_norm): LayerNorm((1024,), eps=1e-05, elementwise_affine=True)\n",
              "          )\n",
              "          (16): TransformerSentenceEncoderLayer(\n",
              "            (self_attn): MultiheadAttention(\n",
              "              (k_proj): Linear(in_features=1024, out_features=1024, bias=True)\n",
              "              (v_proj): Linear(in_features=1024, out_features=1024, bias=True)\n",
              "              (q_proj): Linear(in_features=1024, out_features=1024, bias=True)\n",
              "              (out_proj): Linear(in_features=1024, out_features=1024, bias=True)\n",
              "            )\n",
              "            (self_attn_layer_norm): LayerNorm((1024,), eps=1e-05, elementwise_affine=True)\n",
              "            (fc1): Linear(in_features=1024, out_features=4096, bias=True)\n",
              "            (fc2): Linear(in_features=4096, out_features=1024, bias=True)\n",
              "            (final_layer_norm): LayerNorm((1024,), eps=1e-05, elementwise_affine=True)\n",
              "          )\n",
              "          (17): TransformerSentenceEncoderLayer(\n",
              "            (self_attn): MultiheadAttention(\n",
              "              (k_proj): Linear(in_features=1024, out_features=1024, bias=True)\n",
              "              (v_proj): Linear(in_features=1024, out_features=1024, bias=True)\n",
              "              (q_proj): Linear(in_features=1024, out_features=1024, bias=True)\n",
              "              (out_proj): Linear(in_features=1024, out_features=1024, bias=True)\n",
              "            )\n",
              "            (self_attn_layer_norm): LayerNorm((1024,), eps=1e-05, elementwise_affine=True)\n",
              "            (fc1): Linear(in_features=1024, out_features=4096, bias=True)\n",
              "            (fc2): Linear(in_features=4096, out_features=1024, bias=True)\n",
              "            (final_layer_norm): LayerNorm((1024,), eps=1e-05, elementwise_affine=True)\n",
              "          )\n",
              "          (18): TransformerSentenceEncoderLayer(\n",
              "            (self_attn): MultiheadAttention(\n",
              "              (k_proj): Linear(in_features=1024, out_features=1024, bias=True)\n",
              "              (v_proj): Linear(in_features=1024, out_features=1024, bias=True)\n",
              "              (q_proj): Linear(in_features=1024, out_features=1024, bias=True)\n",
              "              (out_proj): Linear(in_features=1024, out_features=1024, bias=True)\n",
              "            )\n",
              "            (self_attn_layer_norm): LayerNorm((1024,), eps=1e-05, elementwise_affine=True)\n",
              "            (fc1): Linear(in_features=1024, out_features=4096, bias=True)\n",
              "            (fc2): Linear(in_features=4096, out_features=1024, bias=True)\n",
              "            (final_layer_norm): LayerNorm((1024,), eps=1e-05, elementwise_affine=True)\n",
              "          )\n",
              "          (19): TransformerSentenceEncoderLayer(\n",
              "            (self_attn): MultiheadAttention(\n",
              "              (k_proj): Linear(in_features=1024, out_features=1024, bias=True)\n",
              "              (v_proj): Linear(in_features=1024, out_features=1024, bias=True)\n",
              "              (q_proj): Linear(in_features=1024, out_features=1024, bias=True)\n",
              "              (out_proj): Linear(in_features=1024, out_features=1024, bias=True)\n",
              "            )\n",
              "            (self_attn_layer_norm): LayerNorm((1024,), eps=1e-05, elementwise_affine=True)\n",
              "            (fc1): Linear(in_features=1024, out_features=4096, bias=True)\n",
              "            (fc2): Linear(in_features=4096, out_features=1024, bias=True)\n",
              "            (final_layer_norm): LayerNorm((1024,), eps=1e-05, elementwise_affine=True)\n",
              "          )\n",
              "          (20): TransformerSentenceEncoderLayer(\n",
              "            (self_attn): MultiheadAttention(\n",
              "              (k_proj): Linear(in_features=1024, out_features=1024, bias=True)\n",
              "              (v_proj): Linear(in_features=1024, out_features=1024, bias=True)\n",
              "              (q_proj): Linear(in_features=1024, out_features=1024, bias=True)\n",
              "              (out_proj): Linear(in_features=1024, out_features=1024, bias=True)\n",
              "            )\n",
              "            (self_attn_layer_norm): LayerNorm((1024,), eps=1e-05, elementwise_affine=True)\n",
              "            (fc1): Linear(in_features=1024, out_features=4096, bias=True)\n",
              "            (fc2): Linear(in_features=4096, out_features=1024, bias=True)\n",
              "            (final_layer_norm): LayerNorm((1024,), eps=1e-05, elementwise_affine=True)\n",
              "          )\n",
              "          (21): TransformerSentenceEncoderLayer(\n",
              "            (self_attn): MultiheadAttention(\n",
              "              (k_proj): Linear(in_features=1024, out_features=1024, bias=True)\n",
              "              (v_proj): Linear(in_features=1024, out_features=1024, bias=True)\n",
              "              (q_proj): Linear(in_features=1024, out_features=1024, bias=True)\n",
              "              (out_proj): Linear(in_features=1024, out_features=1024, bias=True)\n",
              "            )\n",
              "            (self_attn_layer_norm): LayerNorm((1024,), eps=1e-05, elementwise_affine=True)\n",
              "            (fc1): Linear(in_features=1024, out_features=4096, bias=True)\n",
              "            (fc2): Linear(in_features=4096, out_features=1024, bias=True)\n",
              "            (final_layer_norm): LayerNorm((1024,), eps=1e-05, elementwise_affine=True)\n",
              "          )\n",
              "          (22): TransformerSentenceEncoderLayer(\n",
              "            (self_attn): MultiheadAttention(\n",
              "              (k_proj): Linear(in_features=1024, out_features=1024, bias=True)\n",
              "              (v_proj): Linear(in_features=1024, out_features=1024, bias=True)\n",
              "              (q_proj): Linear(in_features=1024, out_features=1024, bias=True)\n",
              "              (out_proj): Linear(in_features=1024, out_features=1024, bias=True)\n",
              "            )\n",
              "            (self_attn_layer_norm): LayerNorm((1024,), eps=1e-05, elementwise_affine=True)\n",
              "            (fc1): Linear(in_features=1024, out_features=4096, bias=True)\n",
              "            (fc2): Linear(in_features=4096, out_features=1024, bias=True)\n",
              "            (final_layer_norm): LayerNorm((1024,), eps=1e-05, elementwise_affine=True)\n",
              "          )\n",
              "          (23): TransformerSentenceEncoderLayer(\n",
              "            (self_attn): MultiheadAttention(\n",
              "              (k_proj): Linear(in_features=1024, out_features=1024, bias=True)\n",
              "              (v_proj): Linear(in_features=1024, out_features=1024, bias=True)\n",
              "              (q_proj): Linear(in_features=1024, out_features=1024, bias=True)\n",
              "              (out_proj): Linear(in_features=1024, out_features=1024, bias=True)\n",
              "            )\n",
              "            (self_attn_layer_norm): LayerNorm((1024,), eps=1e-05, elementwise_affine=True)\n",
              "            (fc1): Linear(in_features=1024, out_features=4096, bias=True)\n",
              "            (fc2): Linear(in_features=4096, out_features=1024, bias=True)\n",
              "            (final_layer_norm): LayerNorm((1024,), eps=1e-05, elementwise_affine=True)\n",
              "          )\n",
              "        )\n",
              "        (emb_layer_norm): LayerNorm((1024,), eps=1e-05, elementwise_affine=True)\n",
              "      )\n",
              "      (lm_head): RobertaLMHead(\n",
              "        (dense): Linear(in_features=1024, out_features=1024, bias=True)\n",
              "        (layer_norm): LayerNorm((1024,), eps=1e-05, elementwise_affine=True)\n",
              "      )\n",
              "    )\n",
              "    (classification_heads): ModuleDict()\n",
              "  )\n",
              ")"
            ]
          },
          "metadata": {
            "tags": []
          },
          "execution_count": 14
        }
      ]
    },
    {
      "cell_type": "code",
      "metadata": {
        "id": "4SqHUlg6DaRL",
        "colab_type": "code",
        "outputId": "0391f216-ddbc-48b5-c25c-3d8ed94178ce",
        "colab": {
          "base_uri": "https://localhost:8080/",
          "height": 34
        }
      },
      "source": [
        "if not is_data_preprocess_needed:\n",
        "  max_progress = len(train_caption_list)\n",
        "  progress_counter = 0\n",
        "\n",
        "  out = display(progress(0, max_progress), display_id=True)\n",
        "  for sentence in train_caption_list:\n",
        "    sentence['text_embedding'] = xlmr.extract_features(xlmr.encode(sentence.get('en')))[0].tolist()\n",
        "\n",
        "    progress_counter += 1\n",
        "    out.update(progress(progress_counter, max_progress))"
      ],
      "execution_count": 0,
      "outputs": [
        {
          "output_type": "display_data",
          "data": {
            "text/html": [
              "\n",
              "        <progress\n",
              "            value='1778'\n",
              "            max='1778',\n",
              "            style='width: 100%'\n",
              "        >\n",
              "            1778\n",
              "        </progress>\n",
              "    "
            ],
            "text/plain": [
              "<IPython.core.display.HTML object>"
            ]
          },
          "metadata": {
            "tags": []
          }
        }
      ]
    },
    {
      "cell_type": "code",
      "metadata": {
        "id": "WTgLfFfQV7kO",
        "colab_type": "code",
        "outputId": "6a8d7580-e13f-4f41-fe9a-59f8de83a085",
        "colab": {
          "base_uri": "https://localhost:8080/",
          "height": 34
        }
      },
      "source": [
        "if not is_data_preprocess_needed:\n",
        "  filtered_caption_list = []\n",
        "\n",
        "  for sentence in train_caption_list:\n",
        "    if len(sentence['text_embedding']) > 65:\n",
        "      continue\n",
        "    filtered_caption_list.append(sentence)\n",
        "\n",
        "  print(len(filtered_caption_list))"
      ],
      "execution_count": 0,
      "outputs": [
        {
          "output_type": "stream",
          "text": [
            "1778\n"
          ],
          "name": "stdout"
        }
      ]
    },
    {
      "cell_type": "code",
      "metadata": {
        "id": "7CvKyaQpScMN",
        "colab_type": "code",
        "colab": {}
      },
      "source": [
        "if not is_data_preprocess_needed:\n",
        "  for sentence in filtered_caption_list:\n",
        "    extended_sentence = []\n",
        "    for subword in sentence['text_embedding']:\n",
        "      extended_sentence.append(np.append(subword, np.zeros(1024)))\n",
        "        \n",
        "    for _ in range(64 - len(extended_sentence)):\n",
        "      extended_sentence.append(np.zeros(2048))\n",
        "    sentence['text_embedding'] = np.array(extended_sentence).astype(np.float32)"
      ],
      "execution_count": 0,
      "outputs": []
    },
    {
      "cell_type": "code",
      "metadata": {
        "id": "rmJ_GChHbawN",
        "colab_type": "code",
        "colab": {}
      },
      "source": [
        "for sentence in filtered_caption_list:\n",
        "  assert len(sentence['text_embedding']) == 64\n",
        "  assert len(sentence['text_embedding'][0]) == 2048"
      ],
      "execution_count": 0,
      "outputs": []
    },
    {
      "cell_type": "markdown",
      "metadata": {
        "id": "JVoCXmdfkOaA",
        "colab_type": "text"
      },
      "source": [
        "## Prepare InceptionV3 model"
      ]
    },
    {
      "cell_type": "code",
      "metadata": {
        "id": "UgWx4UJ0ZAsy",
        "colab_type": "code",
        "outputId": "fc79f181-1ef3-439d-89d2-b2fdd5e6d0df",
        "colab": {
          "base_uri": "https://localhost:8080/",
          "height": 71
        }
      },
      "source": [
        "image_model = tf.keras.applications.InceptionV3(include_top=False,\n",
        "                                                weights='imagenet')\n",
        "new_input = image_model.input\n",
        "hidden_layer = image_model.layers[-1].output\n",
        "\n",
        "image_features_extract_model = tf.keras.Model(new_input, hidden_layer)"
      ],
      "execution_count": 0,
      "outputs": [
        {
          "output_type": "stream",
          "text": [
            "Downloading data from https://github.com/fchollet/deep-learning-models/releases/download/v0.5/inception_v3_weights_tf_dim_ordering_tf_kernels_notop.h5\n",
            "87916544/87910968 [==============================] - 1s 0us/step\n"
          ],
          "name": "stdout"
        }
      ]
    },
    {
      "cell_type": "code",
      "metadata": {
        "id": "AoSOaffba-gB",
        "colab_type": "code",
        "colab": {}
      },
      "source": [
        "import requests\n",
        "\n",
        "def load_image(local_image_path):\n",
        "    img = tf.io.read_file(local_image_path)\n",
        "    img = tf.image.decode_jpeg(img, channels=3)\n",
        "    img = tf.image.resize(img, (299, 299))\n",
        "    img = tf.keras.applications.inception_v3.preprocess_input(img)\n",
        "    return img, local_image_path\n",
        "\n",
        "def download_image(image_url):\n",
        "  img = requests.get(image_url).content\n",
        "  img = tf.image.decode_jpeg(img, channels=3)\n",
        "  img = tf.image.resize(img, (299, 299))\n",
        "  img = tf.keras.applications.inception_v3.preprocess_input(img)\n",
        "\n",
        "  return img"
      ],
      "execution_count": 0,
      "outputs": []
    },
    {
      "cell_type": "code",
      "metadata": {
        "id": "yhQEKL0fZIeD",
        "colab_type": "code",
        "outputId": "fb4dcc84-fec2-4ffa-a818-9c2a575c0947",
        "colab": {
          "base_uri": "https://localhost:8080/",
          "height": 34
        }
      },
      "source": [
        "if not is_data_preprocess_needed:\n",
        "  max_progress = len(filtered_caption_list)\n",
        "  progress_counter = 0\n",
        "\n",
        "  out = display(progress(0, max_progress), display_id=True)\n",
        "\n",
        "  image_path_list = [caption['local_image_path'] for caption in filtered_caption_list]\n",
        "  image_dataset = tf.data.Dataset.from_tensor_slices(image_path_list)\n",
        "  image_dataset = image_dataset.map(load_image, num_parallel_calls=tf.data.experimental.AUTOTUNE).batch(16)\n",
        "  image_embedding_list = []\n",
        "\n",
        "  for img, local_image_path in image_dataset:\n",
        "    batch_features = image_features_extract_model(img)\n",
        "    batch_features = tf.reshape(batch_features,\n",
        "                                (batch_features.shape[0], -1, batch_features.shape[3]))\n",
        "\n",
        "    for bf, p in zip(batch_features, local_image_path):\n",
        "      image_embedding_list.append({\n",
        "          'image_embedding': bf.numpy().astype(np.float32),\n",
        "          'local_image_path': p.numpy().decode()\n",
        "      })\n",
        "      progress_counter += 1\n",
        "      out.update(progress(progress_counter, max_progress))"
      ],
      "execution_count": 0,
      "outputs": [
        {
          "output_type": "display_data",
          "data": {
            "text/html": [
              "\n",
              "        <progress\n",
              "            value='1778'\n",
              "            max='1778',\n",
              "            style='width: 100%'\n",
              "        >\n",
              "            1778\n",
              "        </progress>\n",
              "    "
            ],
            "text/plain": [
              "<IPython.core.display.HTML object>"
            ]
          },
          "metadata": {
            "tags": []
          }
        }
      ]
    },
    {
      "cell_type": "code",
      "metadata": {
        "id": "Ek5FA8OAjuKj",
        "colab_type": "code",
        "outputId": "611b7066-62a3-4fed-dbe7-c544d809b4f8",
        "colab": {
          "base_uri": "https://localhost:8080/",
          "height": 34
        }
      },
      "source": [
        "if not is_data_preprocess_needed:\n",
        "  for caption in filtered_caption_list:\n",
        "    caption['image_embedding'] = [image['image_embedding'] for image in image_embedding_list if image['local_image_path'] == caption['local_image_path']][0]\n",
        "  print(filtered_caption_list[0].keys())"
      ],
      "execution_count": 0,
      "outputs": [
        {
          "output_type": "stream",
          "text": [
            "dict_keys(['en', 'lv', 'image', 'local_image_path', 'text_embedding', 'image_embedding'])\n"
          ],
          "name": "stdout"
        }
      ]
    },
    {
      "cell_type": "code",
      "metadata": {
        "id": "WqdyVg8ogJ7e",
        "colab_type": "code",
        "colab": {}
      },
      "source": [
        "if not is_data_preprocess_needed:\n",
        "  np.save(PREPARED_DATA_JSON_PATH, filtered_caption_list)"
      ],
      "execution_count": 0,
      "outputs": []
    },
    {
      "cell_type": "markdown",
      "metadata": {
        "id": "dxM6-bFF_hxU",
        "colab_type": "text"
      },
      "source": [
        "## Preprocess and tokenize the captions\n",
        "\n",
        "* First, you'll tokenize the captions (for example, by splitting on spaces). This gives us a  vocabulary of all of the unique words in the data (for example, \"surfing\", \"football\", and so on).\n",
        "* Next, you'll limit the vocabulary size to the top 5,000 words (to save memory). You'll replace all other words with the token \"UNK\" (unknown).\n",
        "* You then create word-to-index and index-to-word mappings.\n",
        "* Finally, you pad all sequences to be the same length as the longest one."
      ]
    },
    {
      "cell_type": "code",
      "metadata": {
        "id": "21WTFvKVVZh0",
        "colab_type": "code",
        "colab": {}
      },
      "source": [
        "# Find the maximum length of any caption in our dataset\n",
        "def calc_max_length(tensor):\n",
        "    return max(len(t) for t in tensor)"
      ],
      "execution_count": 0,
      "outputs": []
    },
    {
      "cell_type": "code",
      "metadata": {
        "id": "vW-_pYk9_kB4",
        "colab_type": "code",
        "colab": {}
      },
      "source": [
        "# Choose the top 1000 words from the vocabulary\n",
        "top_k = 3000\n",
        "\n",
        "train_captions = [caption['lv'] for caption in filtered_caption_list]\n",
        "train_captions *= 2\n",
        "\n",
        "tokenizer = tf.keras.preprocessing.text.Tokenizer(num_words=top_k,\n",
        "                                                  oov_token=\"<unk>\",\n",
        "                                                  filters='!\"#$%&()*+.,-/:;=?@[\\]^_`{|}~ ')\n",
        "tokenizer.fit_on_texts(train_captions)\n",
        "train_seqs = tokenizer.texts_to_sequences(train_captions)"
      ],
      "execution_count": 0,
      "outputs": []
    },
    {
      "cell_type": "code",
      "metadata": {
        "id": "GGjZO8S24qyO",
        "colab_type": "code",
        "outputId": "4b6a3e2f-c43a-47b7-af9c-be5a88055451",
        "colab": {
          "base_uri": "https://localhost:8080/",
          "height": 34
        }
      },
      "source": [
        "len(tokenizer.word_counts)"
      ],
      "execution_count": 0,
      "outputs": [
        {
          "output_type": "execute_result",
          "data": {
            "text/plain": [
              "3510"
            ]
          },
          "metadata": {
            "tags": []
          },
          "execution_count": 26
        }
      ]
    },
    {
      "cell_type": "code",
      "metadata": {
        "id": "ZJTsm09_ABze",
        "colab_type": "code",
        "colab": {}
      },
      "source": [
        "tokenizer.word_index['<pad>'] = 0\n",
        "tokenizer.index_word[0] = '<pad>'"
      ],
      "execution_count": 0,
      "outputs": []
    },
    {
      "cell_type": "code",
      "metadata": {
        "id": "-Qox-81CAICv",
        "colab_type": "code",
        "colab": {}
      },
      "source": [
        "# Create the tokenized vectors\n",
        "train_seqs = tokenizer.texts_to_sequences(train_captions)"
      ],
      "execution_count": 0,
      "outputs": []
    },
    {
      "cell_type": "code",
      "metadata": {
        "id": "6xjjXPVwAQjk",
        "colab_type": "code",
        "colab": {}
      },
      "source": [
        "# Pad each vector to the max_length of the captions\n",
        "# If you do not provide a max_length value, pad_sequences calculates it automatically\n",
        "cap_vector = tf.keras.preprocessing.sequence.pad_sequences(train_seqs, padding='post')"
      ],
      "execution_count": 0,
      "outputs": []
    },
    {
      "cell_type": "code",
      "metadata": {
        "id": "GLTtLYrdAYRo",
        "colab_type": "code",
        "colab": {}
      },
      "source": [
        "# Calculates the max_length, which is used to store the attention weights\n",
        "max_length = calc_max_length(train_seqs)"
      ],
      "execution_count": 0,
      "outputs": []
    },
    {
      "cell_type": "markdown",
      "metadata": {
        "id": "fDiwVh9fAhob",
        "colab_type": "text"
      },
      "source": [
        "## Split the data into training and testing"
      ]
    },
    {
      "cell_type": "code",
      "metadata": {
        "id": "hKk6NKuVAcET",
        "colab_type": "code",
        "colab": {}
      },
      "source": [
        "# Create training and validation sets using an 80-20 split\n",
        "text_embeddings = [caption['text_embedding'] for caption in filtered_caption_list]\n",
        "image_embeddings = [caption['image_embedding'] for caption in filtered_caption_list]\n",
        "\n",
        "train_embeddings = text_embeddings + image_embeddings\n",
        "word_train, word_val, cap_train, cap_val = train_test_split(train_embeddings,\n",
        "                                                                    cap_vector,\n",
        "                                                                    test_size=0.2,\n",
        "                                                                    random_state=0)"
      ],
      "execution_count": 0,
      "outputs": []
    },
    {
      "cell_type": "code",
      "metadata": {
        "id": "3C-TqxuTBOU1",
        "colab_type": "code",
        "outputId": "c44a9b26-0a7b-4bc1-983f-0502cfd47637",
        "colab": {
          "base_uri": "https://localhost:8080/",
          "height": 34
        }
      },
      "source": [
        "len(word_train), len(cap_train), len(word_val), len(cap_val)"
      ],
      "execution_count": 0,
      "outputs": [
        {
          "output_type": "execute_result",
          "data": {
            "text/plain": [
              "(2844, 2844, 712, 712)"
            ]
          },
          "metadata": {
            "tags": []
          },
          "execution_count": 32
        }
      ]
    },
    {
      "cell_type": "markdown",
      "metadata": {
        "id": "orwnJYuhBXeW",
        "colab_type": "text"
      },
      "source": [
        "## Create a tf.data dataset for training\n"
      ]
    },
    {
      "cell_type": "code",
      "metadata": {
        "id": "9Ka6nblcBT_9",
        "colab_type": "code",
        "colab": {}
      },
      "source": [
        "BATCH_SIZE = 64\n",
        "BUFFER_SIZE = 1000\n",
        "embedding_dim = 256\n",
        "units = 512\n",
        "vocab_size = top_k + 1\n",
        "num_steps = len(word_train) // BATCH_SIZE\n",
        "features_shape = 2048"
      ],
      "execution_count": 0,
      "outputs": []
    },
    {
      "cell_type": "code",
      "metadata": {
        "id": "UR3WLH4xCdep",
        "colab_type": "code",
        "colab": {}
      },
      "source": [
        "dataset = tf.data.Dataset.from_tensor_slices((word_train, cap_train))\n",
        "\n",
        "# Shuffle and batch\n",
        "dataset = dataset.shuffle(BUFFER_SIZE).batch(BATCH_SIZE)\n",
        "dataset = dataset.prefetch(buffer_size=tf.data.experimental.AUTOTUNE)"
      ],
      "execution_count": 0,
      "outputs": []
    },
    {
      "cell_type": "markdown",
      "metadata": {
        "id": "s-bUXGteC0mB",
        "colab_type": "text"
      },
      "source": [
        "## Model\n",
        "\n",
        "Fun fact: the decoder below is identical to the one in the example for [Neural Machine Translation with Attention](../sequences/nmt_with_attention.ipynb).\n",
        "\n",
        "The model architecture is inspired by the [Show, Attend and Tell](https://arxiv.org/pdf/1502.03044.pdf) paper.\n",
        "\n",
        "* In this example, you extract the features from the lower convolutional layer of InceptionV3 giving us a vector of shape (8, 8, 2048).\n",
        "* You squash that to a shape of (64, 2048).\n",
        "* This vector is then passed through the CNN Encoder (which consists of a single Fully connected layer).\n",
        "* The RNN (here GRU) attends over the image to predict the next word."
      ]
    },
    {
      "cell_type": "code",
      "metadata": {
        "id": "Vg7eu-h1CuzX",
        "colab_type": "code",
        "colab": {}
      },
      "source": [
        "class BahdanauAttention(tf.keras.Model):\n",
        "  def __init__(self, units):\n",
        "    super(BahdanauAttention, self).__init__()\n",
        "    self.W1 = tf.keras.layers.Dense(units)\n",
        "    self.W2 = tf.keras.layers.Dense(units)\n",
        "    self.V = tf.keras.layers.Dense(1)\n",
        "\n",
        "  def call(self, features, hidden):\n",
        "    # features(CNN_encoder output) shape == (batch_size, 64, embedding_dim)\n",
        "\n",
        "    # hidden shape == (batch_size, hidden_size)\n",
        "    hidden_with_time_axis = tf.expand_dims(hidden, 1)\n",
        "\n",
        "    # score shape == (batch_size, 64, hidden_size)\n",
        "    score = tf.nn.tanh(self.W1(features) + self.W2(hidden_with_time_axis))\n",
        "\n",
        "    # attention_weights shape == (batch_size, 64, 1)\n",
        "    # you get 1 at the last axis because you are applying score to self.V\n",
        "    attention_weights = tf.nn.softmax(self.V(score), axis=1)\n",
        "\n",
        "    # context_vector shape after sum == (batch_size, hidden_size)\n",
        "    context_vector = attention_weights * features\n",
        "    context_vector = tf.reduce_sum(context_vector, axis=1)\n",
        "\n",
        "    return context_vector, attention_weights"
      ],
      "execution_count": 0,
      "outputs": []
    },
    {
      "cell_type": "code",
      "metadata": {
        "id": "y3YR7EUTCyJR",
        "colab_type": "code",
        "colab": {}
      },
      "source": [
        "class CNN_Encoder(tf.keras.Model):\n",
        "    # Since you have already extracted the features and dumped it using pickle\n",
        "    # This encoder passes those features through a Fully connected layer\n",
        "    def __init__(self, embedding_dim):\n",
        "        super(CNN_Encoder, self).__init__()\n",
        "        # shape after fc == (batch_size, 64, embedding_dim)\n",
        "        self.fc = tf.keras.layers.Dense(embedding_dim)\n",
        "\n",
        "    def call(self, x):\n",
        "        x = self.fc(x)\n",
        "        x = tf.nn.relu(x)\n",
        "        return x"
      ],
      "execution_count": 0,
      "outputs": []
    },
    {
      "cell_type": "code",
      "metadata": {
        "id": "sDm_yqAGC5vm",
        "colab_type": "code",
        "colab": {}
      },
      "source": [
        "class RNN_Decoder(tf.keras.Model):\n",
        "  def __init__(self, embedding_dim, units, vocab_size):\n",
        "    super(RNN_Decoder, self).__init__()\n",
        "    self.units = units\n",
        "\n",
        "    self.embedding = tf.keras.layers.Embedding(vocab_size, embedding_dim)\n",
        "    self.gru = tf.keras.layers.GRU(self.units,\n",
        "                                   return_sequences=True,\n",
        "                                   return_state=True,\n",
        "                                   recurrent_initializer='glorot_uniform')\n",
        "    self.fc1 = tf.keras.layers.Dense(self.units)\n",
        "    self.fc2 = tf.keras.layers.Dense(vocab_size)\n",
        "\n",
        "    self.attention = BahdanauAttention(self.units)\n",
        "\n",
        "  def call(self, x, features, hidden):\n",
        "    # defining attention as a separate model\n",
        "    context_vector, attention_weights = self.attention(features, hidden)\n",
        "\n",
        "    # x shape after passing through embedding == (batch_size, 1, embedding_dim)\n",
        "    x = self.embedding(x)\n",
        "\n",
        "    # x shape after concatenation == (batch_size, 1, embedding_dim + hidden_size)\n",
        "    x = tf.concat([tf.expand_dims(context_vector, 1), x], axis=-1)\n",
        "\n",
        "    # passing the concatenated vector to the GRU\n",
        "    output, state = self.gru(x)\n",
        "\n",
        "    # shape == (batch_size, max_length, hidden_size)\n",
        "    x = self.fc1(output)\n",
        "\n",
        "    # x shape == (batch_size * max_length, hidden_size)\n",
        "    x = tf.reshape(x, (-1, x.shape[2]))\n",
        "\n",
        "    # output shape == (batch_size * max_length, vocab)\n",
        "    x = self.fc2(x)\n",
        "\n",
        "    return x, state, attention_weights\n",
        "    # return x, state\n",
        "\n",
        "  def reset_state(self, batch_size):\n",
        "    return tf.zeros((batch_size, self.units))"
      ],
      "execution_count": 0,
      "outputs": []
    },
    {
      "cell_type": "code",
      "metadata": {
        "id": "Ws0dM0TiC8Q1",
        "colab_type": "code",
        "colab": {}
      },
      "source": [
        "encoder = CNN_Encoder(embedding_dim)\n",
        "decoder = RNN_Decoder(embedding_dim, units, vocab_size)"
      ],
      "execution_count": 0,
      "outputs": []
    },
    {
      "cell_type": "code",
      "metadata": {
        "id": "mGg5GdPMC-Zf",
        "colab_type": "code",
        "colab": {}
      },
      "source": [
        "optimizer = tf.keras.optimizers.Adam()\n",
        "loss_object = tf.keras.losses.SparseCategoricalCrossentropy(\n",
        "    from_logits=True, reduction='none')\n",
        "\n",
        "def loss_function(real, pred):\n",
        "  mask = tf.math.logical_not(tf.math.equal(real, 0))\n",
        "  loss_ = loss_object(real, pred)\n",
        "\n",
        "  mask = tf.cast(mask, dtype=loss_.dtype)\n",
        "  loss_ *= mask\n",
        "\n",
        "  return tf.reduce_mean(loss_)"
      ],
      "execution_count": 0,
      "outputs": []
    },
    {
      "cell_type": "markdown",
      "metadata": {
        "id": "5h94W251DF1D",
        "colab_type": "text"
      },
      "source": [
        "## Checkpoint"
      ]
    },
    {
      "cell_type": "code",
      "metadata": {
        "id": "V781__hUDBGZ",
        "colab_type": "code",
        "colab": {}
      },
      "source": [
        "checkpoint_path = \"./gdrive/My Drive/bert_translate/checkpoints/train\"\n",
        "ckpt = tf.train.Checkpoint(encoder=encoder,\n",
        "                           decoder=decoder,\n",
        "                           optimizer = optimizer)\n",
        "ckpt_manager = tf.train.CheckpointManager(ckpt, checkpoint_path, max_to_keep=5)"
      ],
      "execution_count": 0,
      "outputs": []
    },
    {
      "cell_type": "code",
      "metadata": {
        "id": "ji3VrermDIcJ",
        "colab_type": "code",
        "colab": {}
      },
      "source": [
        "start_epoch = 0\n",
        "if ckpt_manager.latest_checkpoint:\n",
        "  start_epoch = int(ckpt_manager.latest_checkpoint.split('-')[-1])\n",
        "  # restoring the latest checkpoint in checkpoint_path\n",
        "  ckpt.restore(ckpt_manager.latest_checkpoint)"
      ],
      "execution_count": 0,
      "outputs": []
    },
    {
      "cell_type": "markdown",
      "metadata": {
        "id": "l6pZoO-aDNUV",
        "colab_type": "text"
      },
      "source": [
        "## Training\n",
        "\n",
        "* You extract the features stored in the respective `.npy` files and then pass those features through the encoder.\n",
        "* The encoder output, hidden state(initialized to 0) and the decoder input (which is the start token) is passed to the decoder.\n",
        "* The decoder returns the predictions and the decoder hidden state.\n",
        "* The decoder hidden state is then passed back into the model and the predictions are used to calculate the loss.\n",
        "* Use teacher forcing to decide the next input to the decoder.\n",
        "* Teacher forcing is the technique where the target word is passed as the next input to the decoder.\n",
        "* The final step is to calculate the gradients and apply it to the optimizer and backpropagate.\n"
      ]
    },
    {
      "cell_type": "code",
      "metadata": {
        "id": "mgd67c3CDKom",
        "colab_type": "code",
        "colab": {}
      },
      "source": [
        "# adding this in a separate cell because if you run the training cell\n",
        "# many times, the loss_plot array will be reset\n",
        "loss_plot = []"
      ],
      "execution_count": 0,
      "outputs": []
    },
    {
      "cell_type": "code",
      "metadata": {
        "id": "ObDxVa6iDPu0",
        "colab_type": "code",
        "colab": {}
      },
      "source": [
        "@tf.function\n",
        "def train_step(img_tensor, target):\n",
        "  loss = 0\n",
        "\n",
        "  # initializing the hidden state for each batch\n",
        "  # because the captions are not related from image to image\n",
        "  hidden = decoder.reset_state(batch_size=target.shape[0])\n",
        "\n",
        "  dec_input = tf.expand_dims([tokenizer.word_index['<start>']] * target.shape[0], 1)\n",
        "\n",
        "  with tf.GradientTape() as tape:\n",
        "      features = encoder(img_tensor)\n",
        "\n",
        "      for i in range(1, target.shape[1]):\n",
        "          # passing the features through the decoder\n",
        "          predictions, hidden, _ = decoder(dec_input, features, hidden)\n",
        "          loss += loss_function(target[:, i], predictions)\n",
        "\n",
        "          # using teacher forcing\n",
        "          dec_input = tf.expand_dims(target[:, i], 1)\n",
        "\n",
        "  total_loss = (loss / int(target.shape[1]))\n",
        "\n",
        "  trainable_variables = encoder.trainable_variables + decoder.trainable_variables\n",
        "\n",
        "  gradients = tape.gradient(loss, trainable_variables)\n",
        "\n",
        "  optimizer.apply_gradients(zip(gradients, trainable_variables))\n",
        "\n",
        "  return loss, total_loss"
      ],
      "execution_count": 0,
      "outputs": []
    },
    {
      "cell_type": "code",
      "metadata": {
        "id": "8P620ZDiKT8h",
        "colab_type": "code",
        "colab": {}
      },
      "source": [
        "def evaluate_annotation(img_tensor):\n",
        "  img_tensor = tf.expand_dims(img_tensor, 0)\n",
        "  features = encoder(img_tensor)\n",
        "  hidden = decoder.reset_state(batch_size=1)\n",
        "  dec_input = tf.expand_dims([tokenizer.word_index['<start>']], 0)\n",
        "  result = []\n",
        "  for i in range(max_length):\n",
        "    predictions, hidden, _ = decoder(dec_input, features, hidden)\n",
        "    predicted_id = tf.random.categorical(predictions, 1)[0][0].numpy()\n",
        "\n",
        "    result.append(tokenizer.index_word[predicted_id])\n",
        "\n",
        "    if tokenizer.index_word[predicted_id] == '<end>':\n",
        "        return result\n",
        "    dec_input = tf.expand_dims([predicted_id], 0)\n",
        "  return result"
      ],
      "execution_count": 0,
      "outputs": []
    },
    {
      "cell_type": "code",
      "metadata": {
        "id": "mQ56jA-nDUg1",
        "colab_type": "code",
        "outputId": "129841ae-cc3e-43cd-aab5-410116221c55",
        "colab": {
          "base_uri": "https://localhost:8080/",
          "height": 1000
        }
      },
      "source": [
        "EPOCHS = 100\n",
        "\n",
        "for epoch in range(start_epoch, EPOCHS):\n",
        "    start = time.time()\n",
        "    total_loss = 0\n",
        "    last_tensor = None\n",
        "    last_target = None\n",
        "\n",
        "    for (batch, (img_tensor, target)) in enumerate(dataset):\n",
        "        last_tensor = img_tensor\n",
        "        last_target = target\n",
        "        batch_loss, t_loss = train_step(img_tensor, target)\n",
        "        total_loss += t_loss\n",
        "\n",
        "        if batch % 100 == 0:\n",
        "            print ('Epoch {} Batch {} Loss {:.4f}'.format(\n",
        "              epoch + 1, batch, batch_loss.numpy() / int(target.shape[1])))\n",
        "    # storing the epoch end loss value to plot later\n",
        "    loss_plot.append(total_loss / num_steps)\n",
        "\n",
        "    # if epoch % 10 == 0:\n",
        "    print('Real:')\n",
        "    print(' '.join([tokenizer.index_word[predicted_id.numpy()] for predicted_id in last_target[-1]]))\n",
        "    print('Predicted:')\n",
        "    print(' '.join(evaluate_annotation(last_tensor[-1])))\n",
        "    ckpt_manager.save()\n",
        "\n",
        "    print ('Epoch {} Loss {:.6f}'.format(epoch + 1,\n",
        "                                         total_loss/num_steps))\n",
        "    print ('Time taken for 1 epoch {} sec\\n'.format(time.time() - start))"
      ],
      "execution_count": 0,
      "outputs": [
        {
          "output_type": "stream",
          "text": [
            "WARNING:tensorflow:From /tensorflow-1.15.2/python3.6/tensorflow_core/python/ops/math_grad.py:1424: where (from tensorflow.python.ops.array_ops) is deprecated and will be removed in a future version.\n",
            "Instructions for updating:\n",
            "Use tf.where in 2.0, which has the same broadcast rule as np.where\n",
            "Epoch 1 Batch 0 Loss 3.1860\n",
            "Real:\n",
            "<start> melnā un baltā govs pie tirgus savā kabīnē <end> <pad> <pad> <pad> <pad> <pad> <pad> <pad> <pad> <pad> <pad> <pad> <pad>\n",
            "Predicted:\n",
            "apaļu ēdienu aurora <end>\n",
            "Epoch 1 Loss 2.526803\n",
            "Time taken for 1 epoch 144.80673360824585 sec\n",
            "\n",
            "Epoch 2 Batch 0 Loss 2.5098\n",
            "Real:\n",
            "<start> melnā un baltā govs pie tirgus savā kabīnē <end> <pad> <pad> <pad> <pad> <pad> <pad> <pad> <pad> <pad> <pad> <pad> <pad>\n",
            "Predicted:\n",
            "divi picas ar para izplūdusi zilā fonā <end>\n",
            "Epoch 2 Loss 2.282148\n",
            "Time taken for 1 epoch 29.980250597000122 sec\n",
            "\n",
            "Epoch 3 Batch 0 Loss 2.3136\n",
            "Real:\n",
            "<start> melnā un baltā govs pie tirgus savā kabīnē <end> <pad> <pad> <pad> <pad> <pad> <pad> <pad> <pad> <pad> <pad> <pad> <pad>\n",
            "Predicted:\n",
            "divi dažādu olīvas ar bērni <end>\n",
            "Epoch 3 Loss 2.109728\n",
            "Time taken for 1 epoch 26.85644555091858 sec\n",
            "\n",
            "Epoch 4 Batch 0 Loss 2.1502\n",
            "Real:\n",
            "<start> melnā un baltā govs pie tirgus savā kabīnē <end> <pad> <pad> <pad> <pad> <pad> <pad> <pad> <pad> <pad> <pad> <pad> <pad>\n",
            "Predicted:\n",
            "suns no logu un cilvēki bija sarkani ceļa spēlē zooloģiskā gājējiem <end>\n",
            "Epoch 4 Loss 1.985769\n",
            "Time taken for 1 epoch 26.319592475891113 sec\n",
            "\n",
            "Epoch 5 Batch 0 Loss 2.0504\n",
            "Real:\n",
            "<start> melnā un baltā govs pie tirgus savā kabīnē <end> <pad> <pad> <pad> <pad> <pad> <pad> <pad> <pad> <pad> <pad> <pad> <pad>\n",
            "Predicted:\n",
            "pa sarkanbrūnu pāršķelts ar dzeltenu spēlēt atrodas liels ziloņu <end>\n",
            "Epoch 5 Loss 1.886736\n",
            "Time taken for 1 epoch 26.38690209388733 sec\n",
            "\n",
            "Epoch 6 Batch 0 Loss 1.9458\n",
            "Real:\n",
            "<start> melnā un baltā govs pie tirgus savā kabīnē <end> <pad> <pad> <pad> <pad> <pad> <pad> <pad> <pad> <pad> <pad> <pad> <pad>\n",
            "Predicted:\n",
            "datorpele kas sarokojoties paošņāja dīvainas jātnieki aizmugurē zīmes lielā mopēds <end>\n",
            "Epoch 6 Loss 1.767566\n",
            "Time taken for 1 epoch 26.393576622009277 sec\n",
            "\n",
            "Epoch 7 Batch 0 Loss 1.8271\n",
            "Real:\n",
            "<start> melnā un baltā govs pie tirgus savā kabīnē <end> <pad> <pad> <pad> <pad> <pad> <pad> <pad> <pad> <pad> <pad> <pad> <pad>\n",
            "Predicted:\n",
            "lapu austrumu pilsētas ielu <end>\n",
            "Epoch 7 Loss 1.636742\n",
            "Time taken for 1 epoch 26.959357976913452 sec\n",
            "\n",
            "Epoch 8 Batch 0 Loss 1.6672\n",
            "Real:\n",
            "<start> melnā un baltā govs pie tirgus savā kabīnē <end> <pad> <pad> <pad> <pad> <pad> <pad> <pad> <pad> <pad> <pad> <pad> <pad>\n",
            "Predicted:\n",
            "četri zēns un puiši <end>\n",
            "Epoch 8 Loss 1.504864\n",
            "Time taken for 1 epoch 27.827138900756836 sec\n",
            "\n",
            "Epoch 9 Batch 0 Loss 1.5271\n",
            "Real:\n",
            "<start> melnā un baltā govs pie tirgus savā kabīnē <end> <pad> <pad> <pad> <pad> <pad> <pad> <pad> <pad> <pad> <pad> <pad> <pad>\n",
            "Predicted:\n",
            "sieviete kas skatās uz galda <unk> un saulē <end>\n",
            "Epoch 9 Loss 1.382766\n",
            "Time taken for 1 epoch 26.321854829788208 sec\n",
            "\n",
            "Epoch 10 Batch 0 Loss 1.3907\n",
            "Real:\n",
            "<start> melnā un baltā govs pie tirgus savā kabīnē <end> <pad> <pad> <pad> <pad> <pad> <pad> <pad> <pad> <pad> <pad> <pad> <pad>\n",
            "Predicted:\n",
            "sudrabots un tur jāsēž ārā brauc ar kokiem <end>\n",
            "Epoch 10 Loss 1.270756\n",
            "Time taken for 1 epoch 29.367963075637817 sec\n",
            "\n",
            "Epoch 11 Batch 0 Loss 1.2563\n",
            "Real:\n",
            "<start> melnā un baltā govs pie tirgus savā kabīnē <end> <pad> <pad> <pad> <pad> <pad> <pad> <pad> <pad> <pad> <pad> <pad> <pad>\n",
            "Predicted:\n",
            "pa ielu stāv zilonis netālu no ielas stāvēja zem mašīnas nekustīgi fotografēja austrumu ielu ar automašīnām <end>\n",
            "Epoch 11 Loss 1.168693\n",
            "Time taken for 1 epoch 27.581775188446045 sec\n",
            "\n",
            "Epoch 12 Batch 0 Loss 1.1521\n",
            "Real:\n",
            "<start> melnā un baltā govs pie tirgus savā kabīnē <end> <pad> <pad> <pad> <pad> <pad> <pad> <pad> <pad> <pad> <pad> <pad> <pad>\n",
            "Predicted:\n",
            "uz ielas blakus velosipēdiem uz ietves netālu no staba kokiem <end>\n",
            "Epoch 12 Loss 1.080390\n",
            "Time taken for 1 epoch 27.437787294387817 sec\n",
            "\n",
            "Epoch 13 Batch 0 Loss 1.0633\n",
            "Real:\n",
            "<start> melnā un baltā govs pie tirgus savā kabīnē <end> <pad> <pad> <pad> <pad> <pad> <pad> <pad> <pad> <pad> <pad> <pad> <pad>\n",
            "Predicted:\n",
            "uz ietves <end>\n",
            "Epoch 13 Loss 1.014430\n",
            "Time taken for 1 epoch 28.986544609069824 sec\n",
            "\n",
            "Epoch 14 Batch 0 Loss 0.9951\n",
            "Real:\n",
            "<start> melnā un baltā govs pie tirgus savā kabīnē <end> <pad> <pad> <pad> <pad> <pad> <pad> <pad> <pad> <pad> <pad> <pad> <pad>\n",
            "Predicted:\n",
            "uz kalna <end>\n",
            "Epoch 14 Loss 0.958678\n",
            "Time taken for 1 epoch 26.96352195739746 sec\n",
            "\n",
            "Epoch 15 Batch 0 Loss 0.9350\n",
            "Real:\n",
            "<start> melnā un baltā govs pie tirgus savā kabīnē <end> <pad> <pad> <pad> <pad> <pad> <pad> <pad> <pad> <pad> <pad> <pad> <pad>\n",
            "Predicted:\n",
            "autobusa un baltā govs <end>\n",
            "Epoch 15 Loss 0.895868\n",
            "Time taken for 1 epoch 27.56599259376526 sec\n",
            "\n",
            "Epoch 16 Batch 0 Loss 0.8619\n",
            "Real:\n",
            "<start> melnā un baltā govs pie tirgus savā kabīnē <end> <pad> <pad> <pad> <pad> <pad> <pad> <pad> <pad> <pad> <pad> <pad> <pad>\n",
            "Predicted:\n",
            "baltā ietērpā <end>\n",
            "Epoch 16 Loss 0.832500\n",
            "Time taken for 1 epoch 30.792288780212402 sec\n",
            "\n",
            "Epoch 17 Batch 0 Loss 0.7998\n",
            "Real:\n",
            "<start> melnā un baltā govs pie tirgus savā kabīnē <end> <pad> <pad> <pad> <pad> <pad> <pad> <pad> <pad> <pad> <pad> <pad> <pad>\n",
            "Predicted:\n",
            "spogulī <end>\n",
            "Epoch 17 Loss 0.771381\n",
            "Time taken for 1 epoch 31.34567642211914 sec\n",
            "\n",
            "Epoch 18 Batch 0 Loss 0.7376\n",
            "Real:\n",
            "<start> melnā un baltā govs pie tirgus savā kabīnē <end> <pad> <pad> <pad> <pad> <pad> <pad> <pad> <pad> <pad> <pad> <pad> <pad>\n",
            "Predicted:\n",
            "melnā un baltā logā blakus eglītei <end>\n",
            "Epoch 18 Loss 0.706309\n",
            "Time taken for 1 epoch 29.950063228607178 sec\n",
            "\n",
            "Epoch 19 Batch 0 Loss 0.7058\n",
            "Real:\n",
            "<start> melnā un baltā govs pie tirgus savā kabīnē <end> <pad> <pad> <pad> <pad> <pad> <pad> <pad> <pad> <pad> <pad> <pad> <pad>\n",
            "Predicted:\n",
            "baltā mašīna <end>\n",
            "Epoch 19 Loss 0.651137\n",
            "Time taken for 1 epoch 26.11884379386902 sec\n",
            "\n",
            "Epoch 20 Batch 0 Loss 0.6705\n",
            "Real:\n",
            "<start> melnā un baltā govs pie tirgus savā kabīnē <end> <pad> <pad> <pad> <pad> <pad> <pad> <pad> <pad> <pad> <pad> <pad> <pad>\n",
            "Predicted:\n",
            "melnā un melnā un melnā kreklā <end>\n",
            "Epoch 20 Loss 0.608990\n",
            "Time taken for 1 epoch 26.20379638671875 sec\n",
            "\n",
            "Epoch 21 Batch 0 Loss 0.6231\n",
            "Real:\n",
            "<start> melnā un baltā govs pie tirgus savā kabīnē <end> <pad> <pad> <pad> <pad> <pad> <pad> <pad> <pad> <pad> <pad> <pad> <pad>\n",
            "Predicted:\n",
            "pie tirgus savā kabīnē <end>\n",
            "Epoch 21 Loss 0.574900\n",
            "Time taken for 1 epoch 26.11964511871338 sec\n",
            "\n",
            "Epoch 22 Batch 0 Loss 0.5689\n",
            "Real:\n",
            "<start> melnā un baltā govs pie tirgus savā kabīnē <end> <pad> <pad> <pad> <pad> <pad> <pad> <pad> <pad> <pad> <pad> <pad> <pad>\n",
            "Predicted:\n",
            "melnā kreklā <end>\n",
            "Epoch 22 Loss 0.533227\n",
            "Time taken for 1 epoch 26.344005584716797 sec\n",
            "\n",
            "Epoch 23 Batch 0 Loss 0.5496\n",
            "Real:\n",
            "<start> melnā un baltā govs pie tirgus savā kabīnē <end> <pad> <pad> <pad> <pad> <pad> <pad> <pad> <pad> <pad> <pad> <pad> <pad>\n",
            "Predicted:\n",
            "pie tirgus savā kabīnē <end>\n",
            "Epoch 23 Loss 0.499924\n",
            "Time taken for 1 epoch 25.520832777023315 sec\n",
            "\n",
            "Epoch 24 Batch 0 Loss 0.5198\n",
            "Real:\n",
            "<start> melnā un baltā govs pie tirgus savā kabīnē <end> <pad> <pad> <pad> <pad> <pad> <pad> <pad> <pad> <pad> <pad> <pad> <pad>\n",
            "Predicted:\n",
            "baltā govs pie tirgus savā kabīnē <end>\n",
            "Epoch 24 Loss 0.477191\n",
            "Time taken for 1 epoch 27.650687217712402 sec\n",
            "\n",
            "Epoch 25 Batch 0 Loss 0.4728\n",
            "Real:\n",
            "<start> melnā un baltā govs pie tirgus savā kabīnē <end> <pad> <pad> <pad> <pad> <pad> <pad> <pad> <pad> <pad> <pad> <pad> <pad>\n",
            "Predicted:\n",
            "melnā sniegā pozē melnā un melnā un meitene sarkanā aina ar āra tirgū <end>\n",
            "Epoch 25 Loss 0.438840\n",
            "Time taken for 1 epoch 26.528932332992554 sec\n",
            "\n",
            "Epoch 26 Batch 0 Loss 0.4634\n",
            "Real:\n",
            "<start> melnā un baltā govs pie tirgus savā kabīnē <end> <pad> <pad> <pad> <pad> <pad> <pad> <pad> <pad> <pad> <pad> <pad> <pad>\n",
            "Predicted:\n",
            "atkritumu mašīna <end>\n",
            "Epoch 26 Loss 0.402464\n",
            "Time taken for 1 epoch 26.048250675201416 sec\n",
            "\n",
            "Epoch 27 Batch 0 Loss 0.4171\n",
            "Real:\n",
            "<start> melnā un baltā govs pie tirgus savā kabīnē <end> <pad> <pad> <pad> <pad> <pad> <pad> <pad> <pad> <pad> <pad> <pad> <pad>\n",
            "Predicted:\n",
            "pie tirgus savā kabīnē <end>\n",
            "Epoch 27 Loss 0.361536\n",
            "Time taken for 1 epoch 25.76030421257019 sec\n",
            "\n",
            "Epoch 28 Batch 0 Loss 0.3571\n",
            "Real:\n",
            "<start> melnā un baltā govs pie tirgus savā kabīnē <end> <pad> <pad> <pad> <pad> <pad> <pad> <pad> <pad> <pad> <pad> <pad> <pad>\n",
            "Predicted:\n",
            "melnā un baltā govs pie tirgus savā kabīnē <end>\n",
            "Epoch 28 Loss 0.332933\n",
            "Time taken for 1 epoch 25.553052186965942 sec\n",
            "\n",
            "Epoch 29 Batch 0 Loss 0.3316\n",
            "Real:\n",
            "<start> melnā un baltā govs pie tirgus savā kabīnē <end> <pad> <pad> <pad> <pad> <pad> <pad> <pad> <pad> <pad> <pad> <pad> <pad>\n",
            "Predicted:\n",
            "pie tirgus savā kabīnē <end>\n",
            "Epoch 29 Loss 0.316591\n",
            "Time taken for 1 epoch 25.87129235267639 sec\n",
            "\n",
            "Epoch 30 Batch 0 Loss 0.3254\n",
            "Real:\n",
            "<start> melnā un baltā govs pie tirgus savā kabīnē <end> <pad> <pad> <pad> <pad> <pad> <pad> <pad> <pad> <pad> <pad> <pad> <pad>\n",
            "Predicted:\n",
            "pie tirgus savā kabīnē <end>\n",
            "Epoch 30 Loss 0.292932\n",
            "Time taken for 1 epoch 25.505151510238647 sec\n",
            "\n",
            "Epoch 31 Batch 0 Loss 0.3018\n",
            "Real:\n",
            "<start> melnā un baltā govs pie tirgus savā kabīnē <end> <pad> <pad> <pad> <pad> <pad> <pad> <pad> <pad> <pad> <pad> <pad> <pad>\n",
            "Predicted:\n",
            "pie tirgus savā kabīnē <end>\n",
            "Epoch 31 Loss 0.271817\n",
            "Time taken for 1 epoch 25.073718547821045 sec\n",
            "\n",
            "Epoch 32 Batch 0 Loss 0.2946\n",
            "Real:\n",
            "<start> melnā un baltā govs pie tirgus savā kabīnē <end> <pad> <pad> <pad> <pad> <pad> <pad> <pad> <pad> <pad> <pad> <pad> <pad>\n",
            "Predicted:\n",
            "melnā un baltā govs kas iet melnā un baltā mašīna <end>\n",
            "Epoch 32 Loss 0.257203\n",
            "Time taken for 1 epoch 26.489872455596924 sec\n",
            "\n",
            "Epoch 33 Batch 0 Loss 0.2556\n",
            "Real:\n",
            "<start> melnā un baltā govs pie tirgus savā kabīnē <end> <pad> <pad> <pad> <pad> <pad> <pad> <pad> <pad> <pad> <pad> <pad> <pad>\n",
            "Predicted:\n",
            "melnā un baltā govs pie tirgus savā kabīnē <end>\n",
            "Epoch 33 Loss 0.241222\n",
            "Time taken for 1 epoch 26.291820526123047 sec\n",
            "\n",
            "Epoch 34 Batch 0 Loss 0.2394\n",
            "Real:\n",
            "<start> melnā un baltā govs pie tirgus savā kabīnē <end> <pad> <pad> <pad> <pad> <pad> <pad> <pad> <pad> <pad> <pad> <pad> <pad>\n",
            "Predicted:\n",
            "melnā un melnā un melnā un baltā govs pie tirgus savā kabīnē <end>\n",
            "Epoch 34 Loss 0.224279\n",
            "Time taken for 1 epoch 25.754222631454468 sec\n",
            "\n",
            "Epoch 35 Batch 0 Loss 0.2163\n",
            "Real:\n",
            "<start> melnā un baltā govs pie tirgus savā kabīnē <end> <pad> <pad> <pad> <pad> <pad> <pad> <pad> <pad> <pad> <pad> <pad> <pad>\n",
            "Predicted:\n",
            "melnā un baltā frisbija pie tirgus savā kabīnē <end>\n",
            "Epoch 35 Loss 0.208570\n",
            "Time taken for 1 epoch 25.528022527694702 sec\n",
            "\n",
            "Epoch 36 Batch 0 Loss 0.2212\n",
            "Real:\n",
            "<start> melnā un baltā govs pie tirgus savā kabīnē <end> <pad> <pad> <pad> <pad> <pad> <pad> <pad> <pad> <pad> <pad> <pad> <pad>\n",
            "Predicted:\n",
            "melnā un baltā govs pie tirgus savā kabīnē <end>\n",
            "Epoch 36 Loss 0.190692\n",
            "Time taken for 1 epoch 26.558185338974 sec\n",
            "\n",
            "Epoch 37 Batch 0 Loss 0.1942\n",
            "Real:\n",
            "<start> melnā un baltā govs pie tirgus savā kabīnē <end> <pad> <pad> <pad> <pad> <pad> <pad> <pad> <pad> <pad> <pad> <pad> <pad>\n",
            "Predicted:\n",
            "melnā un baltā govs pie tirgus savā kabīnē <end>\n",
            "Epoch 37 Loss 0.180628\n",
            "Time taken for 1 epoch 25.206533670425415 sec\n",
            "\n",
            "Epoch 38 Batch 0 Loss 0.1816\n",
            "Real:\n",
            "<start> melnā un baltā govs pie tirgus savā kabīnē <end> <pad> <pad> <pad> <pad> <pad> <pad> <pad> <pad> <pad> <pad> <pad> <pad>\n",
            "Predicted:\n",
            "melnā un baltā govs pie tirgus savā kabīnē <end>\n",
            "Epoch 38 Loss 0.165067\n",
            "Time taken for 1 epoch 25.874281883239746 sec\n",
            "\n",
            "Epoch 39 Batch 0 Loss 0.1860\n",
            "Real:\n",
            "<start> melnā un baltā govs pie tirgus savā kabīnē <end> <pad> <pad> <pad> <pad> <pad> <pad> <pad> <pad> <pad> <pad> <pad> <pad>\n",
            "Predicted:\n",
            "melnā un baltā govs pie tirgus savā kabīnē <end>\n",
            "Epoch 39 Loss 0.154979\n",
            "Time taken for 1 epoch 26.056122303009033 sec\n",
            "\n",
            "Epoch 40 Batch 0 Loss 0.1928\n",
            "Real:\n",
            "<start> melnā un baltā govs pie tirgus savā kabīnē <end> <pad> <pad> <pad> <pad> <pad> <pad> <pad> <pad> <pad> <pad> <pad> <pad>\n",
            "Predicted:\n",
            "melnā un baltā govs pie tirgus savā kabīnē <end>\n",
            "Epoch 40 Loss 0.149507\n",
            "Time taken for 1 epoch 26.080024480819702 sec\n",
            "\n",
            "Epoch 41 Batch 0 Loss 0.1506\n",
            "Real:\n",
            "<start> melnā un baltā govs pie tirgus savā kabīnē <end> <pad> <pad> <pad> <pad> <pad> <pad> <pad> <pad> <pad> <pad> <pad> <pad>\n",
            "Predicted:\n",
            "melnā un baltā govs pie tirgus savā kabīnē <end>\n",
            "Epoch 41 Loss 0.140851\n",
            "Time taken for 1 epoch 26.116915702819824 sec\n",
            "\n",
            "Epoch 42 Batch 0 Loss 0.1438\n",
            "Real:\n",
            "<start> melnā un baltā govs pie tirgus savā kabīnē <end> <pad> <pad> <pad> <pad> <pad> <pad> <pad> <pad> <pad> <pad> <pad> <pad>\n",
            "Predicted:\n",
            "melnā un baltā govs pie tirgus savā kabīnē <end>\n",
            "Epoch 42 Loss 0.137417\n",
            "Time taken for 1 epoch 25.89395785331726 sec\n",
            "\n",
            "Epoch 43 Batch 0 Loss 0.1337\n",
            "Real:\n",
            "<start> melnā un baltā govs pie tirgus savā kabīnē <end> <pad> <pad> <pad> <pad> <pad> <pad> <pad> <pad> <pad> <pad> <pad> <pad>\n",
            "Predicted:\n",
            "melnā un baltā govs pie tirgus savā kabīnē <end>\n",
            "Epoch 43 Loss 0.128169\n",
            "Time taken for 1 epoch 25.3801052570343 sec\n",
            "\n",
            "Epoch 44 Batch 0 Loss 0.1328\n",
            "Real:\n",
            "<start> melnā un baltā govs pie tirgus savā kabīnē <end> <pad> <pad> <pad> <pad> <pad> <pad> <pad> <pad> <pad> <pad> <pad> <pad>\n",
            "Predicted:\n",
            "melnā un baltā govs pie tirgus savā kabīnē <end>\n",
            "Epoch 44 Loss 0.119464\n",
            "Time taken for 1 epoch 26.899899005889893 sec\n",
            "\n",
            "Epoch 45 Batch 0 Loss 0.1178\n",
            "Real:\n",
            "<start> melnā un baltā govs pie tirgus savā kabīnē <end> <pad> <pad> <pad> <pad> <pad> <pad> <pad> <pad> <pad> <pad> <pad> <pad>\n",
            "Predicted:\n",
            "melnā un baltā govs pie tirgus savā kabīnē <end>\n",
            "Epoch 45 Loss 0.117255\n",
            "Time taken for 1 epoch 25.48910355567932 sec\n",
            "\n",
            "Epoch 46 Batch 0 Loss 0.1265\n",
            "Real:\n",
            "<start> melnā un baltā govs pie tirgus savā kabīnē <end> <pad> <pad> <pad> <pad> <pad> <pad> <pad> <pad> <pad> <pad> <pad> <pad>\n",
            "Predicted:\n",
            "melnā un baltā govs pie tirgus savā kabīnē <end>\n",
            "Epoch 46 Loss 0.108818\n",
            "Time taken for 1 epoch 26.01822066307068 sec\n",
            "\n",
            "Epoch 47 Batch 0 Loss 0.1131\n",
            "Real:\n",
            "<start> melnā un baltā govs pie tirgus savā kabīnē <end> <pad> <pad> <pad> <pad> <pad> <pad> <pad> <pad> <pad> <pad> <pad> <pad>\n",
            "Predicted:\n",
            "melnā un baltā govs pie tirgus savā kabīnē <end>\n",
            "Epoch 47 Loss 0.099334\n",
            "Time taken for 1 epoch 26.238365650177002 sec\n",
            "\n",
            "Epoch 48 Batch 0 Loss 0.1069\n",
            "Real:\n",
            "<start> melnā un baltā govs pie tirgus savā kabīnē <end> <pad> <pad> <pad> <pad> <pad> <pad> <pad> <pad> <pad> <pad> <pad> <pad>\n",
            "Predicted:\n",
            "melnā un baltā govs pie tirgus savā kabīnē <end>\n",
            "Epoch 48 Loss 0.098594\n",
            "Time taken for 1 epoch 26.761106729507446 sec\n",
            "\n",
            "Epoch 49 Batch 0 Loss 0.0810\n",
            "Real:\n",
            "<start> melnā un baltā govs pie tirgus savā kabīnē <end> <pad> <pad> <pad> <pad> <pad> <pad> <pad> <pad> <pad> <pad> <pad> <pad>\n",
            "Predicted:\n",
            "meitene <end>\n",
            "Epoch 49 Loss 0.089341\n",
            "Time taken for 1 epoch 25.252883672714233 sec\n",
            "\n",
            "Epoch 50 Batch 0 Loss 0.0935\n",
            "Real:\n",
            "<start> melnā un baltā govs pie tirgus savā kabīnē <end> <pad> <pad> <pad> <pad> <pad> <pad> <pad> <pad> <pad> <pad> <pad> <pad>\n",
            "Predicted:\n",
            "melnā un baltā govs pie tirgus savā kabīnē <end>\n",
            "Epoch 50 Loss 0.083300\n",
            "Time taken for 1 epoch 25.766162633895874 sec\n",
            "\n",
            "Epoch 51 Batch 0 Loss 0.0918\n",
            "Real:\n",
            "<start> melnā un baltā govs pie tirgus savā kabīnē <end> <pad> <pad> <pad> <pad> <pad> <pad> <pad> <pad> <pad> <pad> <pad> <pad>\n",
            "Predicted:\n",
            "melnā un baltā govs pie tirgus savā kabīnē <end>\n",
            "Epoch 51 Loss 0.076330\n",
            "Time taken for 1 epoch 25.9723904132843 sec\n",
            "\n",
            "Epoch 52 Batch 0 Loss 0.0792\n",
            "Real:\n",
            "<start> melnā un baltā govs pie tirgus savā kabīnē <end> <pad> <pad> <pad> <pad> <pad> <pad> <pad> <pad> <pad> <pad> <pad> <pad>\n",
            "Predicted:\n",
            "melnā un baltā govs pie tirgus savā kabīnē <end>\n",
            "Epoch 52 Loss 0.068338\n",
            "Time taken for 1 epoch 25.41763687133789 sec\n",
            "\n",
            "Epoch 53 Batch 0 Loss 0.0738\n",
            "Real:\n",
            "<start> melnā un baltā govs pie tirgus savā kabīnē <end> <pad> <pad> <pad> <pad> <pad> <pad> <pad> <pad> <pad> <pad> <pad> <pad>\n",
            "Predicted:\n",
            "melnā un baltā govs pie tirgus savā kabīnē <end>\n",
            "Epoch 53 Loss 0.064801\n",
            "Time taken for 1 epoch 25.589157819747925 sec\n",
            "\n",
            "Epoch 54 Batch 0 Loss 0.0603\n",
            "Real:\n",
            "<start> melnā un baltā govs pie tirgus savā kabīnē <end> <pad> <pad> <pad> <pad> <pad> <pad> <pad> <pad> <pad> <pad> <pad> <pad>\n",
            "Predicted:\n",
            "melnā un baltā govs pie tirgus savā kabīnē <end>\n",
            "Epoch 54 Loss 0.063392\n",
            "Time taken for 1 epoch 25.79789423942566 sec\n",
            "\n",
            "Epoch 55 Batch 0 Loss 0.0431\n",
            "Real:\n",
            "<start> melnā un baltā govs pie tirgus savā kabīnē <end> <pad> <pad> <pad> <pad> <pad> <pad> <pad> <pad> <pad> <pad> <pad> <pad>\n",
            "Predicted:\n",
            "melnā un baltā govs pie tirgus savā kabīnē <end>\n",
            "Epoch 55 Loss 0.057652\n",
            "Time taken for 1 epoch 25.468850135803223 sec\n",
            "\n",
            "Epoch 56 Batch 0 Loss 0.0507\n",
            "Real:\n",
            "<start> melnā un baltā govs pie tirgus savā kabīnē <end> <pad> <pad> <pad> <pad> <pad> <pad> <pad> <pad> <pad> <pad> <pad> <pad>\n",
            "Predicted:\n",
            "melnā un baltā govs pie tirgus savā kabīnē <end>\n",
            "Epoch 56 Loss 0.053589\n",
            "Time taken for 1 epoch 26.640352964401245 sec\n",
            "\n",
            "Epoch 57 Batch 0 Loss 0.0426\n",
            "Real:\n",
            "<start> melnā un baltā govs pie tirgus savā kabīnē <end> <pad> <pad> <pad> <pad> <pad> <pad> <pad> <pad> <pad> <pad> <pad> <pad>\n",
            "Predicted:\n",
            "melnā un baltā govs pie tirgus savā kabīnē <end>\n",
            "Epoch 57 Loss 0.051747\n",
            "Time taken for 1 epoch 25.703563928604126 sec\n",
            "\n",
            "Epoch 58 Batch 0 Loss 0.0432\n",
            "Real:\n",
            "<start> melnā un baltā govs pie tirgus savā kabīnē <end> <pad> <pad> <pad> <pad> <pad> <pad> <pad> <pad> <pad> <pad> <pad> <pad>\n",
            "Predicted:\n",
            "melnā un baltā govs pie tirgus savā kabīnē <end>\n",
            "Epoch 58 Loss 0.047081\n",
            "Time taken for 1 epoch 25.80651569366455 sec\n",
            "\n",
            "Epoch 59 Batch 0 Loss 0.0380\n",
            "Real:\n",
            "<start> melnā un baltā govs pie tirgus savā kabīnē <end> <pad> <pad> <pad> <pad> <pad> <pad> <pad> <pad> <pad> <pad> <pad> <pad>\n",
            "Predicted:\n",
            "melnā un baltā govs pie tirgus savā kabīnē <end>\n",
            "Epoch 59 Loss 0.045319\n",
            "Time taken for 1 epoch 25.706429719924927 sec\n",
            "\n",
            "Epoch 60 Batch 0 Loss 0.0516\n",
            "Real:\n",
            "<start> melnā un baltā govs pie tirgus savā kabīnē <end> <pad> <pad> <pad> <pad> <pad> <pad> <pad> <pad> <pad> <pad> <pad> <pad>\n",
            "Predicted:\n",
            "melnā un baltā govs pie tirgus savā kabīnē <end>\n",
            "Epoch 60 Loss 0.043537\n",
            "Time taken for 1 epoch 27.9475359916687 sec\n",
            "\n",
            "Epoch 61 Batch 0 Loss 0.0319\n",
            "Real:\n",
            "<start> melnā un baltā govs pie tirgus savā kabīnē <end> <pad> <pad> <pad> <pad> <pad> <pad> <pad> <pad> <pad> <pad> <pad> <pad>\n",
            "Predicted:\n",
            "melnā un baltā govs pie tirgus savā kabīnē <end>\n",
            "Epoch 61 Loss 0.039564\n",
            "Time taken for 1 epoch 25.704279899597168 sec\n",
            "\n",
            "Epoch 62 Batch 0 Loss 0.0324\n",
            "Real:\n",
            "<start> melnā un baltā govs pie tirgus savā kabīnē <end> <pad> <pad> <pad> <pad> <pad> <pad> <pad> <pad> <pad> <pad> <pad> <pad>\n",
            "Predicted:\n",
            "melnā un baltā govs pie tirgus savā kabīnē <end>\n",
            "Epoch 62 Loss 0.037528\n",
            "Time taken for 1 epoch 26.221771240234375 sec\n",
            "\n",
            "Epoch 63 Batch 0 Loss 0.0218\n",
            "Real:\n",
            "<start> melnā un baltā govs pie tirgus savā kabīnē <end> <pad> <pad> <pad> <pad> <pad> <pad> <pad> <pad> <pad> <pad> <pad> <pad>\n",
            "Predicted:\n",
            "melnā un baltā govs pie tirgus savā kabīnē <end>\n",
            "Epoch 63 Loss 0.036227\n",
            "Time taken for 1 epoch 26.42148232460022 sec\n",
            "\n",
            "Epoch 64 Batch 0 Loss 0.0320\n",
            "Real:\n",
            "<start> melnā un baltā govs pie tirgus savā kabīnē <end> <pad> <pad> <pad> <pad> <pad> <pad> <pad> <pad> <pad> <pad> <pad> <pad>\n",
            "Predicted:\n",
            "melnā un baltā govs pie tirgus savā kabīnē <end>\n",
            "Epoch 64 Loss 0.035818\n",
            "Time taken for 1 epoch 25.710880756378174 sec\n",
            "\n",
            "Epoch 65 Batch 0 Loss 0.0281\n",
            "Real:\n",
            "<start> melnā un baltā govs pie tirgus savā kabīnē <end> <pad> <pad> <pad> <pad> <pad> <pad> <pad> <pad> <pad> <pad> <pad> <pad>\n",
            "Predicted:\n",
            "melnā un baltā govs pie tirgus savā kabīnē <end>\n",
            "Epoch 65 Loss 0.032039\n",
            "Time taken for 1 epoch 25.657816648483276 sec\n",
            "\n",
            "Epoch 66 Batch 0 Loss 0.0348\n",
            "Real:\n",
            "<start> melnā un baltā govs pie tirgus savā kabīnē <end> <pad> <pad> <pad> <pad> <pad> <pad> <pad> <pad> <pad> <pad> <pad> <pad>\n",
            "Predicted:\n",
            "melnā un baltā govs pie tirgus savā kabīnē <end>\n",
            "Epoch 66 Loss 0.030616\n",
            "Time taken for 1 epoch 25.43878960609436 sec\n",
            "\n",
            "Epoch 67 Batch 0 Loss 0.0199\n",
            "Real:\n",
            "<start> melnā un baltā govs pie tirgus savā kabīnē <end> <pad> <pad> <pad> <pad> <pad> <pad> <pad> <pad> <pad> <pad> <pad> <pad>\n",
            "Predicted:\n",
            "melnā un baltā govs pie tirgus savā kabīnē <end>\n",
            "Epoch 67 Loss 0.030620\n",
            "Time taken for 1 epoch 25.489893198013306 sec\n",
            "\n",
            "Epoch 68 Batch 0 Loss 0.0216\n",
            "Real:\n",
            "<start> melnā un baltā govs pie tirgus savā kabīnē <end> <pad> <pad> <pad> <pad> <pad> <pad> <pad> <pad> <pad> <pad> <pad> <pad>\n",
            "Predicted:\n",
            "melnā un baltā govs pie tirgus savā kabīnē <end>\n",
            "Epoch 68 Loss 0.030948\n",
            "Time taken for 1 epoch 27.725982666015625 sec\n",
            "\n",
            "Epoch 69 Batch 0 Loss 0.0288\n",
            "Real:\n",
            "<start> melnā un baltā govs pie tirgus savā kabīnē <end> <pad> <pad> <pad> <pad> <pad> <pad> <pad> <pad> <pad> <pad> <pad> <pad>\n",
            "Predicted:\n",
            "melnā un baltā govs pie tirgus savā kabīnē <end>\n",
            "Epoch 69 Loss 0.033539\n",
            "Time taken for 1 epoch 25.591810703277588 sec\n",
            "\n",
            "Epoch 70 Batch 0 Loss 0.0306\n",
            "Real:\n",
            "<start> melnā un baltā govs pie tirgus savā kabīnē <end> <pad> <pad> <pad> <pad> <pad> <pad> <pad> <pad> <pad> <pad> <pad> <pad>\n",
            "Predicted:\n",
            "melnā un baltā govs pie tirgus savā kabīnē <end>\n",
            "Epoch 70 Loss 0.034207\n",
            "Time taken for 1 epoch 26.046342849731445 sec\n",
            "\n",
            "Epoch 71 Batch 0 Loss 0.0218\n",
            "Real:\n",
            "<start> melnā un baltā govs pie tirgus savā kabīnē <end> <pad> <pad> <pad> <pad> <pad> <pad> <pad> <pad> <pad> <pad> <pad> <pad>\n",
            "Predicted:\n",
            "melnā un baltā govs pie tirgus savā kabīnē <end>\n",
            "Epoch 71 Loss 0.034896\n",
            "Time taken for 1 epoch 25.891322374343872 sec\n",
            "\n",
            "Epoch 72 Batch 0 Loss 0.0246\n",
            "Real:\n",
            "<start> melnā un baltā govs pie tirgus savā kabīnē <end> <pad> <pad> <pad> <pad> <pad> <pad> <pad> <pad> <pad> <pad> <pad> <pad>\n",
            "Predicted:\n",
            "melnā un baltā govs pie tirgus savā kabīnē <end>\n",
            "Epoch 72 Loss 0.033080\n",
            "Time taken for 1 epoch 27.063650846481323 sec\n",
            "\n",
            "Epoch 73 Batch 0 Loss 0.0172\n",
            "Real:\n",
            "<start> melnā un baltā govs pie tirgus savā kabīnē <end> <pad> <pad> <pad> <pad> <pad> <pad> <pad> <pad> <pad> <pad> <pad> <pad>\n",
            "Predicted:\n",
            "melnā un baltā govs pie tirgus savā kabīnē <end>\n",
            "Epoch 73 Loss 0.033686\n",
            "Time taken for 1 epoch 25.247166633605957 sec\n",
            "\n",
            "Epoch 74 Batch 0 Loss 0.0171\n",
            "Real:\n",
            "<start> melnā un baltā govs pie tirgus savā kabīnē <end> <pad> <pad> <pad> <pad> <pad> <pad> <pad> <pad> <pad> <pad> <pad> <pad>\n",
            "Predicted:\n",
            "melnā un baltā govs pie tirgus savā kabīnē <end>\n",
            "Epoch 74 Loss 0.036723\n",
            "Time taken for 1 epoch 25.4127037525177 sec\n",
            "\n",
            "Epoch 75 Batch 0 Loss 0.0276\n",
            "Real:\n",
            "<start> melnā un baltā govs pie tirgus savā kabīnē <end> <pad> <pad> <pad> <pad> <pad> <pad> <pad> <pad> <pad> <pad> <pad> <pad>\n",
            "Predicted:\n",
            "melnā un baltā govs pie tirgus savā kabīnē <end>\n",
            "Epoch 75 Loss 0.036368\n",
            "Time taken for 1 epoch 26.715937852859497 sec\n",
            "\n",
            "Epoch 76 Batch 0 Loss 0.0309\n",
            "Real:\n",
            "<start> melnā un baltā govs pie tirgus savā kabīnē <end> <pad> <pad> <pad> <pad> <pad> <pad> <pad> <pad> <pad> <pad> <pad> <pad>\n",
            "Predicted:\n",
            "melnā un baltā govs pie kabīnē <end>\n",
            "Epoch 76 Loss 0.039194\n",
            "Time taken for 1 epoch 26.006919145584106 sec\n",
            "\n",
            "Epoch 77 Batch 0 Loss 0.0228\n",
            "Real:\n",
            "<start> melnā un baltā govs pie tirgus savā kabīnē <end> <pad> <pad> <pad> <pad> <pad> <pad> <pad> <pad> <pad> <pad> <pad> <pad>\n",
            "Predicted:\n",
            "melnā un baltā govs pie tirgus savā kabīnē <end>\n",
            "Epoch 77 Loss 0.041671\n",
            "Time taken for 1 epoch 26.655038356781006 sec\n",
            "\n",
            "Epoch 78 Batch 0 Loss 0.0261\n",
            "Real:\n",
            "<start> melnā un baltā govs pie tirgus savā kabīnē <end> <pad> <pad> <pad> <pad> <pad> <pad> <pad> <pad> <pad> <pad> <pad> <pad>\n",
            "Predicted:\n",
            "melnā un baltā govs pie tirgus savā kabīnē <end>\n",
            "Epoch 78 Loss 0.047848\n",
            "Time taken for 1 epoch 25.845784425735474 sec\n",
            "\n",
            "Epoch 79 Batch 0 Loss 0.0341\n",
            "Real:\n",
            "<start> melnā un baltā govs pie tirgus savā kabīnē <end> <pad> <pad> <pad> <pad> <pad> <pad> <pad> <pad> <pad> <pad> <pad> <pad>\n",
            "Predicted:\n",
            "melnā un baltā govs pie tirgus savā kabīnē <end>\n",
            "Epoch 79 Loss 0.056330\n",
            "Time taken for 1 epoch 26.33530044555664 sec\n",
            "\n",
            "Epoch 80 Batch 0 Loss 0.0486\n",
            "Real:\n",
            "<start> melnā un baltā govs pie tirgus savā kabīnē <end> <pad> <pad> <pad> <pad> <pad> <pad> <pad> <pad> <pad> <pad> <pad> <pad>\n",
            "Predicted:\n",
            "melnā un baltā govs pie tirgus savā kabīnē <end>\n",
            "Epoch 80 Loss 0.061850\n",
            "Time taken for 1 epoch 26.29453682899475 sec\n",
            "\n",
            "Epoch 81 Batch 0 Loss 0.0794\n",
            "Real:\n",
            "<start> melnā un baltā govs pie tirgus savā kabīnē <end> <pad> <pad> <pad> <pad> <pad> <pad> <pad> <pad> <pad> <pad> <pad> <pad>\n",
            "Predicted:\n",
            "melnā un baltā govs pie tirgus savā kabīnē <end>\n",
            "Epoch 81 Loss 0.064225\n",
            "Time taken for 1 epoch 25.347573041915894 sec\n",
            "\n",
            "Epoch 82 Batch 0 Loss 0.0515\n",
            "Real:\n",
            "<start> melnā un baltā govs pie tirgus savā kabīnē <end> <pad> <pad> <pad> <pad> <pad> <pad> <pad> <pad> <pad> <pad> <pad> <pad>\n",
            "Predicted:\n",
            "melnā un baltā govs pie tirgus savā kabīnē <end>\n",
            "Epoch 82 Loss 0.064335\n",
            "Time taken for 1 epoch 25.767693281173706 sec\n",
            "\n",
            "Epoch 83 Batch 0 Loss 0.0606\n",
            "Real:\n",
            "<start> melnā un baltā govs pie tirgus savā kabīnē <end> <pad> <pad> <pad> <pad> <pad> <pad> <pad> <pad> <pad> <pad> <pad> <pad>\n",
            "Predicted:\n",
            "melnā un baltā govs pie tirgus savā kabīnē <end>\n",
            "Epoch 83 Loss 0.059393\n",
            "Time taken for 1 epoch 25.314132690429688 sec\n",
            "\n",
            "Epoch 84 Batch 0 Loss 0.0485\n",
            "Real:\n",
            "<start> melnā un baltā govs pie tirgus savā kabīnē <end> <pad> <pad> <pad> <pad> <pad> <pad> <pad> <pad> <pad> <pad> <pad> <pad>\n",
            "Predicted:\n",
            "melnā un baltā govs pie tirgus savā kabīnē <end>\n",
            "Epoch 84 Loss 0.062069\n",
            "Time taken for 1 epoch 27.32493543624878 sec\n",
            "\n",
            "Epoch 85 Batch 0 Loss 0.0342\n",
            "Real:\n",
            "<start> melnā un baltā govs pie tirgus savā kabīnē <end> <pad> <pad> <pad> <pad> <pad> <pad> <pad> <pad> <pad> <pad> <pad> <pad>\n",
            "Predicted:\n",
            "pie tirgus savā kabīnē <end>\n",
            "Epoch 85 Loss 0.064149\n",
            "Time taken for 1 epoch 26.005374670028687 sec\n",
            "\n",
            "Epoch 86 Batch 0 Loss 0.0549\n",
            "Real:\n",
            "<start> melnā un baltā govs pie tirgus savā kabīnē <end> <pad> <pad> <pad> <pad> <pad> <pad> <pad> <pad> <pad> <pad> <pad> <pad>\n",
            "Predicted:\n",
            "melnā un baltā govs <end>\n",
            "Epoch 86 Loss 0.057135\n",
            "Time taken for 1 epoch 26.22114658355713 sec\n",
            "\n",
            "Epoch 87 Batch 0 Loss 0.0431\n",
            "Real:\n",
            "<start> melnā un baltā govs pie tirgus savā kabīnē <end> <pad> <pad> <pad> <pad> <pad> <pad> <pad> <pad> <pad> <pad> <pad> <pad>\n",
            "Predicted:\n",
            "melnā un baltā govs pie tirgus savā kabīnē <end>\n",
            "Epoch 87 Loss 0.050483\n",
            "Time taken for 1 epoch 25.72701859474182 sec\n",
            "\n",
            "Epoch 88 Batch 0 Loss 0.0350\n",
            "Real:\n",
            "<start> melnā un baltā govs pie tirgus savā kabīnē <end> <pad> <pad> <pad> <pad> <pad> <pad> <pad> <pad> <pad> <pad> <pad> <pad>\n",
            "Predicted:\n",
            "melnā un baltā govs pie tirgus savā kabīnē <end>\n",
            "Epoch 88 Loss 0.040905\n",
            "Time taken for 1 epoch 25.024616479873657 sec\n",
            "\n",
            "Epoch 89 Batch 0 Loss 0.0495\n",
            "Real:\n",
            "<start> melnā un baltā govs pie tirgus savā kabīnē <end> <pad> <pad> <pad> <pad> <pad> <pad> <pad> <pad> <pad> <pad> <pad> <pad>\n",
            "Predicted:\n",
            "melnā un baltā govs pie tirgus savā kabīnē <end>\n",
            "Epoch 89 Loss 0.035557\n",
            "Time taken for 1 epoch 25.223662853240967 sec\n",
            "\n",
            "Epoch 90 Batch 0 Loss 0.0220\n",
            "Real:\n",
            "<start> melnā un baltā govs pie tirgus savā kabīnē <end> <pad> <pad> <pad> <pad> <pad> <pad> <pad> <pad> <pad> <pad> <pad> <pad>\n",
            "Predicted:\n",
            "melnā un baltā govs pie tirgus savā kabīnē <end>\n",
            "Epoch 90 Loss 0.028005\n",
            "Time taken for 1 epoch 25.631975412368774 sec\n",
            "\n",
            "Epoch 91 Batch 0 Loss 0.0121\n",
            "Real:\n",
            "<start> melnā un baltā govs pie tirgus savā kabīnē <end> <pad> <pad> <pad> <pad> <pad> <pad> <pad> <pad> <pad> <pad> <pad> <pad>\n",
            "Predicted:\n",
            "melnā un baltā govs pie tirgus savā kabīnē <end>\n",
            "Epoch 91 Loss 0.022331\n",
            "Time taken for 1 epoch 26.666261672973633 sec\n",
            "\n",
            "Epoch 92 Batch 0 Loss 0.0094\n",
            "Real:\n",
            "<start> melnā un baltā govs pie tirgus savā kabīnē <end> <pad> <pad> <pad> <pad> <pad> <pad> <pad> <pad> <pad> <pad> <pad> <pad>\n",
            "Predicted:\n",
            "melnā un baltā govs pie tirgus savā kabīnē <end>\n",
            "Epoch 92 Loss 0.021128\n",
            "Time taken for 1 epoch 25.733845233917236 sec\n",
            "\n",
            "Epoch 93 Batch 0 Loss 0.0173\n",
            "Real:\n",
            "<start> melnā un baltā govs pie tirgus savā kabīnē <end> <pad> <pad> <pad> <pad> <pad> <pad> <pad> <pad> <pad> <pad> <pad> <pad>\n",
            "Predicted:\n",
            "melnā un baltā govs pie tirgus savā kabīnē <end>\n",
            "Epoch 93 Loss 0.018505\n",
            "Time taken for 1 epoch 26.095727682113647 sec\n",
            "\n",
            "Epoch 94 Batch 0 Loss 0.0122\n",
            "Real:\n",
            "<start> melnā un baltā govs pie tirgus savā kabīnē <end> <pad> <pad> <pad> <pad> <pad> <pad> <pad> <pad> <pad> <pad> <pad> <pad>\n",
            "Predicted:\n",
            "melnā un baltā govs pie tirgus savā kabīnē <end>\n",
            "Epoch 94 Loss 0.018192\n",
            "Time taken for 1 epoch 25.615147829055786 sec\n",
            "\n",
            "Epoch 95 Batch 0 Loss 0.0086\n",
            "Real:\n",
            "<start> melnā un baltā govs pie tirgus savā kabīnē <end> <pad> <pad> <pad> <pad> <pad> <pad> <pad> <pad> <pad> <pad> <pad> <pad>\n",
            "Predicted:\n",
            "melnā un baltā govs pie tirgus savā kabīnē <end>\n",
            "Epoch 95 Loss 0.016354\n",
            "Time taken for 1 epoch 25.779029607772827 sec\n",
            "\n",
            "Epoch 96 Batch 0 Loss 0.0204\n",
            "Real:\n",
            "<start> melnā un baltā govs pie tirgus savā kabīnē <end> <pad> <pad> <pad> <pad> <pad> <pad> <pad> <pad> <pad> <pad> <pad> <pad>\n",
            "Predicted:\n",
            "melnā un baltā govs pie tirgus savā kabīnē <end>\n",
            "Epoch 96 Loss 0.016014\n",
            "Time taken for 1 epoch 27.217766761779785 sec\n",
            "\n",
            "Epoch 97 Batch 0 Loss 0.0082\n",
            "Real:\n",
            "<start> melnā un baltā govs pie tirgus savā kabīnē <end> <pad> <pad> <pad> <pad> <pad> <pad> <pad> <pad> <pad> <pad> <pad> <pad>\n",
            "Predicted:\n",
            "melnā un baltā govs pie tirgus savā kabīnē <end>\n",
            "Epoch 97 Loss 0.016563\n",
            "Time taken for 1 epoch 25.78263282775879 sec\n",
            "\n",
            "Epoch 98 Batch 0 Loss 0.0070\n",
            "Real:\n",
            "<start> melnā un baltā govs pie tirgus savā kabīnē <end> <pad> <pad> <pad> <pad> <pad> <pad> <pad> <pad> <pad> <pad> <pad> <pad>\n",
            "Predicted:\n",
            "melnā un baltā govs pie tirgus savā kabīnē <end>\n",
            "Epoch 98 Loss 0.017124\n",
            "Time taken for 1 epoch 26.17596745491028 sec\n",
            "\n",
            "Epoch 99 Batch 0 Loss 0.0075\n",
            "Real:\n",
            "<start> melnā un baltā govs pie tirgus savā kabīnē <end> <pad> <pad> <pad> <pad> <pad> <pad> <pad> <pad> <pad> <pad> <pad> <pad>\n",
            "Predicted:\n",
            "melnā un baltā govs pie tirgus savā kabīnē <end>\n",
            "Epoch 99 Loss 0.015050\n",
            "Time taken for 1 epoch 25.925822257995605 sec\n",
            "\n",
            "Epoch 100 Batch 0 Loss 0.0035\n",
            "Real:\n",
            "<start> melnā un baltā govs pie tirgus savā kabīnē <end> <pad> <pad> <pad> <pad> <pad> <pad> <pad> <pad> <pad> <pad> <pad> <pad>\n",
            "Predicted:\n",
            "melnā un baltā govs pie tirgus savā kabīnē <end>\n",
            "Epoch 100 Loss 0.014787\n",
            "Time taken for 1 epoch 26.322900772094727 sec\n",
            "\n"
          ],
          "name": "stdout"
        }
      ]
    },
    {
      "cell_type": "code",
      "metadata": {
        "id": "076siViLWSZn",
        "colab_type": "code",
        "colab": {}
      },
      "source": [
        "np.save('gdrive/My Drive/bert_translate/loss_plot', loss_plot)"
      ],
      "execution_count": 0,
      "outputs": []
    },
    {
      "cell_type": "code",
      "metadata": {
        "id": "fw7gXOkHDYOa",
        "colab_type": "code",
        "outputId": "e757789d-703c-48b0-d45e-82f9f5776bd0",
        "colab": {
          "base_uri": "https://localhost:8080/",
          "height": 295
        }
      },
      "source": [
        "plt.plot(loss_plot)\n",
        "plt.xlabel('Epochs')\n",
        "plt.ylabel('Loss')\n",
        "plt.title('Loss Plot')\n",
        "plt.show()"
      ],
      "execution_count": 0,
      "outputs": [
        {
          "output_type": "display_data",
          "data": {
            "image/png": "[encoded data removed]",
            "text/plain": [
              "<Figure size 432x288 with 1 Axes>"
            ]
          },
          "metadata": {
            "tags": [],
            "needs_background": "light"
          }
        }
      ]
    },
    {
      "cell_type": "markdown",
      "metadata": {
        "id": "bH0Gi1Ex0khG",
        "colab_type": "text"
      },
      "source": [
        "## Caption!\n",
        "\n",
        "* The evaluate function is similar to the training loop, except you don't use teacher forcing here. The input to the decoder at each time step is its previous predictions along with the hidden state and the encoder output.\n",
        "* Stop predicting when the model predicts the end token.\n",
        "* And store the attention weights for every time step."
      ]
    },
    {
      "cell_type": "code",
      "metadata": {
        "id": "yJtpIHPAzX4n",
        "colab_type": "code",
        "colab": {}
      },
      "source": [
        "def evaluate(word):\n",
        "    hidden = decoder.reset_state(batch_size=1)\n",
        "\n",
        "    word_tensor_val = tf.expand_dims(word, 0)\n",
        "    features = encoder(word_tensor_val)\n",
        "\n",
        "    dec_input = tf.expand_dims([tokenizer.word_index['<start>']], 0)\n",
        "    result = []\n",
        "\n",
        "    for i in range(max_length):\n",
        "        predictions, hidden, _ = decoder(dec_input, features, hidden)\n",
        "\n",
        "        predicted_id = tf.random.categorical(predictions, 1)[0][0].numpy()\n",
        "        result.append(tokenizer.index_word[predicted_id])\n",
        "\n",
        "        if tokenizer.index_word[predicted_id] == '<end>':\n",
        "            return result\n",
        "\n",
        "        dec_input = tf.expand_dims([predicted_id], 0)\n",
        "    return result\n",
        "\n",
        "def evaluate_image(image):\n",
        "    attention_plot = np.zeros((max_length, 64))\n",
        "\n",
        "    hidden = decoder.reset_state(batch_size=1)\n",
        "\n",
        "    temp_input = tf.expand_dims(download_image(image), 0)\n",
        "    img_tensor_val = image_features_extract_model(temp_input)\n",
        "    img_tensor_val = tf.reshape(img_tensor_val, (img_tensor_val.shape[0], -1, img_tensor_val.shape[3]))\n",
        "\n",
        "    features = encoder(img_tensor_val)\n",
        "\n",
        "    dec_input = tf.expand_dims([tokenizer.word_index['<start>']], 0)\n",
        "    result = []\n",
        "\n",
        "    for i in range(max_length):\n",
        "        predictions, hidden, attention_weights = decoder(dec_input, features, hidden)\n",
        "\n",
        "        attention_plot[i] = tf.reshape(attention_weights, (-1, )).numpy()\n",
        "\n",
        "        predicted_id = tf.random.categorical(predictions, 1)[0][0].numpy()\n",
        "        result.append(tokenizer.index_word[predicted_id])\n",
        "\n",
        "        if tokenizer.index_word[predicted_id] == '<end>':\n",
        "            return result, attention_plot\n",
        "\n",
        "        dec_input = tf.expand_dims([predicted_id], 0)\n",
        "\n",
        "    attention_plot = attention_plot[:len(result), :]\n",
        "    return result, attention_plot\n",
        "\n",
        "def plot_attention(image, result, attention_plot):\n",
        "    temp_image = np.array(download_image(image) * 255).astype(np.uint8)\n",
        "\n",
        "    fig = plt.figure(figsize=(10, 10))\n",
        "\n",
        "    len_result = len(result)\n",
        "    for l in range(len_result):\n",
        "        temp_att = np.resize(attention_plot[l], (8, 8))\n",
        "        ax = fig.add_subplot(len_result//2, len_result//2, l+1)\n",
        "        ax.set_title(result[l])\n",
        "        img = ax.imshow(temp_image)\n",
        "        ax.imshow(temp_att, cmap='gray', alpha=0.6, extent=img.get_extent())\n",
        "\n",
        "    plt.tight_layout()\n",
        "    plt.show()"
      ],
      "execution_count": 0,
      "outputs": []
    },
    {
      "cell_type": "code",
      "metadata": {
        "id": "GF4XoEze0nYm",
        "colab_type": "code",
        "outputId": "b6bde685-5aff-416c-95f8-ce54cb823689",
        "colab": {
          "base_uri": "https://localhost:8080/",
          "height": 68
        }
      },
      "source": [
        "rid = np.random.randint(0, len(filtered_caption_list))\n",
        "caption = filtered_caption_list[rid]\n",
        "real_caption = caption['lv']\n",
        "\n",
        "text_result = evaluate(caption['text_embedding'])\n",
        "image_result = evaluate(caption['image_embedding'])\n",
        "\n",
        "print ('Real Caption:', real_caption)\n",
        "print ('Predicted Caption by text:', ' '.join(text_result))\n",
        "print ('Predicted Caption by image:', ' '.join(image_result))"
      ],
      "execution_count": 0,
      "outputs": [
        {
          "output_type": "stream",
          "text": [
            "Real Caption: <start> vīrietis un sieviete, kas stāv akmeņainā pludmalē ar izskalotiem kokiem. <end>\n",
            "Predicted Caption by text: vai pie kāda sieviete <end>\n",
            "Predicted Caption by image: vīrietis un sieviete kas stāv akmeņainā pludmalē ar izskalotiem kokiem <end>\n"
          ],
          "name": "stdout"
        }
      ]
    },
    {
      "cell_type": "code",
      "metadata": {
        "id": "5gzHaM52vlKS",
        "colab_type": "code",
        "outputId": "bd8077b4-0882-48b6-cf1e-dac4eeea23f8",
        "colab": {
          "base_uri": "https://localhost:8080/",
          "height": 599
        }
      },
      "source": [
        "# image caption\n",
        "rid = np.random.randint(0, len(filtered_caption_list))\n",
        "caption = filtered_caption_list[rid]\n",
        "real_caption = caption['lv']\n",
        "\n",
        "\n",
        "result, attention_plot = evaluate_image(caption['image'])\n",
        "\n",
        "print ('Real Caption:', real_caption)\n",
        "print ('Predicted Caption:', ' '.join(result))\n",
        "\n",
        "plot_attention(caption['image'], result, attention_plot)"
      ],
      "execution_count": 0,
      "outputs": [
        {
          "output_type": "stream",
          "text": [
            "Real Caption: <start> vīrietis, kas stāv tualetes poda priekšā un iečurā. <end>\n",
            "Predicted Caption: vīrietis kas stāv tualetes poda priekšā un <unk> <end>\n"
          ],
          "name": "stdout"
        },
        {
          "output_type": "display_data",
          "data": {
            "image/png": "[encoded data removed]",
            "text/plain": [
              "<Figure size 720x720 with 9 Axes>"
            ]
          },
          "metadata": {
            "tags": [],
            "needs_background": "light"
          }
        }
      ]
    },
    {
      "cell_type": "code",
      "metadata": {
        "id": "HMdUQICwEGw8",
        "colab_type": "code",
        "colab": {}
      },
      "source": [
        ""
      ],
      "execution_count": 0,
      "outputs": []
    }
  ]
}